{
 "cells": [
  {
   "cell_type": "markdown",
   "id": "18e56f5d",
   "metadata": {},
   "source": [
    "# Scikit-learn Tutorial\n",
    "Author: Lauren Gliane\n",
    "\n",
    "In this tutorial, we'll go over the following topics to build our own classification model:\n",
    "1. Introduction\n",
    "2. Install\n",
    "3. Datasets\n",
    "4. Choosing a Model\n",
    "5. Training the Model\n",
    "6. Making Predictions\n",
    "7. Save/Load Models\n",
    "8. Evaluate the Model"
   ]
  },
  {
   "cell_type": "markdown",
   "id": "912cbe6c",
   "metadata": {},
   "source": [
    "## What is Scikit-learn?\n",
    "Scikit-learn (AKA sk-learn) is written in Python, an open source project, and is **one of the most used ML libraries today**. Sklearn contains modules built on top of Numpy, SciPy, and Matplotlib libraries containing tons of algorithms--ready to use to train, evaluate, and save models straight out of the box!\n",
    "\n",
    "## Why learn Scikit-learn?\n",
    "With sk-learn, we don’t need an in-depth understanding of complex concepts like linear algebra or calculus. By using sk-learn’s pretrained neural networks and ML algorithms, we can easily preprocess datasets for supervised learning (regression or classification) and unsupervised learning (clustering and dimensionality reduction) applications."
   ]
  },
  {
   "cell_type": "markdown",
   "id": "90f7a001",
   "metadata": {},
   "source": [
    "## Install"
   ]
  }
 ],
 "metadata": {
  "language_info": {
   "name": "python"
  }
 },
 "nbformat": 4,
 "nbformat_minor": 5
}
