{
 "cells": [
  {
   "cell_type": "markdown",
   "id": "a59240ce-a69b-423b-bc27-1843f87bbae3",
   "metadata": {},
   "source": [
    "# NumPy Tutorial\n",
    "### Author: Ally Chen\n",
    "\n"
   ]
  },
  {
   "cell_type": "markdown",
   "id": "84ef63ba-8601-46c0-a29b-2e6e52082992",
   "metadata": {},
   "source": [
    "## Description\n",
    "### What is NumPy?\n",
    "##### NumPy is Python's standard library for working with arrays. It supports working with arrays of N-dimensions, which is a principle of NumPy. Instead of looping in Python, NumPy lets you perform fast math on whole arrays at once, known as vectorized operations. Most data libraries (pandas, SciPy, scikit-learn, PyTorch) rely on NumPy under the hood."
   ]
  },
  {
   "cell_type": "markdown",
   "id": "b456566a-c36c-4117-9f54-e9f76764ce49",
   "metadata": {},
   "source": [
    "## NumPy Installation\n",
    "#### 1. Open a new terminal\n",
    "#### 2. Ensure Python is installed:\n",
    "#####  - Check using 'python --version' in terminal\n",
    "### 3. In terminal run:\n",
    "#### - macOS/Linux\n",
    "##### python3 -m venv .venv\n",
    "##### source .venv/bin/activate\n",
    "##### python -m pip install --upgrade pip\n",
    "##### pip install numpy\n",
    "#### - Windows (PowerShell)\n",
    "##### python -m venv .venv\n",
    "##### .venv\\Scripts\\Activate\n",
    "##### python -m pip install --upgrade pip\n",
    "##### pip install numpy"
   ]
  },
  {
   "cell_type": "markdown",
   "id": "8a9e32eb-6659-4ff5-95b7-67e0a4ce4996",
   "metadata": {},
   "source": [
    "## Verify Installation\n",
    "#### Copy and paste the following code into your preferred code editor, and run it in the terminal to test if it is installed correctly."
   ]
  },
  {
   "cell_type": "code",
   "execution_count": 21,
   "id": "46a632a3-3b60-4b56-b15e-bb5be187272d",
   "metadata": {},
   "outputs": [
    {
     "name": "stdout",
     "output_type": "stream",
     "text": [
      "NumPy: 2.3.2\n",
      "25\n"
     ]
    }
   ],
   "source": [
    "# Import Numpy library\n",
    "import numpy as np\n",
    "\n",
    "# Print NumPy version number\n",
    "print(\"NumPy:\", np.__version__)\n",
    "\n",
    "# Expected output: 25\n",
    "print (np.array([3,4]).dot([3,4]))"
   ]
  },
  {
   "cell_type": "markdown",
   "id": "40914446-99bf-47f2-aa40-b981b1f7c567",
   "metadata": {},
   "source": [
    "# Part 1: Arrays"
   ]
  },
  {
   "cell_type": "markdown",
   "id": "916be720-2b40-41a7-808a-bc010b13dcc1",
   "metadata": {},
   "source": [
    "### Different Types of Arrays:\n",
    "#### - `np.array([...])`: From a Python list\n",
    "#### - `np.zeros(shape)` / `np.ones(shape)`: Filled arrays\n",
    "#### - `np.arange(start, stop, step)`: Evenly spaced integers\n",
    "#### - `np.linspace(start, stop, num)`: Evenly spaced floats (including the endpoint)"
   ]
  },
  {
   "cell_type": "code",
   "execution_count": 36,
   "id": "51bf831c-7081-4257-a8cd-5ff5e2a221a8",
   "metadata": {},
   "outputs": [
    {
     "name": "stdout",
     "output_type": "stream",
     "text": [
      "a: [1 2 3] \n",
      "\n",
      "b: [[0. 0. 0.]\n",
      " [0. 0. 0.]] \n",
      "shape: (2, 3) \n",
      "\n",
      "c: [1 1 1 1] \n",
      "\n",
      "d: [0 2 4 6 8] \n",
      "\n",
      "e: [0.   0.25 0.5  0.75 1.  ]\n"
     ]
    }
   ],
   "source": [
    "a = np.array([1, 2, 3])          # 1D array (vector)\n",
    "b = np.zeros((2, 3))             # 2x3 of zeros (float by default)\n",
    "c = np.ones(4, dtype=np.int32)   # 1D array of 4 ints\n",
    "d = np.arange(0, 10, 2)          # 0,2,4,6,8\n",
    "e = np.linspace(0, 1, 5)         # 0. ,0.25,0.5,0.75,1.\n",
    "\n",
    "print(\"a:\", a,\"\\n\")\n",
    "print(\"b:\", b, \"\\nshape:\", b.shape,\"\\n\")\n",
    "print(\"c:\", c,\"\\n\")\n",
    "print(\"d:\", d,\"\\n\")\n",
    "print(\"e:\", e)"
   ]
  },
  {
   "cell_type": "markdown",
   "id": "602eabec-b3f6-4d50-aef1-b90316f90aac",
   "metadata": {},
   "source": [
    "#### **What happened above?**\n",
    "##### - `a` is a 1D array with 3 elements -> shape `(3,)`.\n",
    "##### - `b` is a 2D array with 2 rows and 3 columns -> shape `(2, 3)`.\n",
    "##### - `e` gave us 5 evenly spaced numbers **including** the endpoints 0 and 1.\n"
   ]
  },
  {
   "cell_type": "markdown",
   "id": "1c05ab96-a3c6-45c7-bb4e-e1c07911e483",
   "metadata": {},
   "source": [
    "### Inspecting Arrays"
   ]
  },
  {
   "cell_type": "markdown",
   "id": "12760202-6c19-418f-971a-5d6264fdda7f",
   "metadata": {},
   "source": [
    "#### Topics:\n",
    "##### - `.shape` = the size in each dimension (rows, cols, …)\n",
    "##### - `.ndim` = number of dimensions (1D vector, 2D matrix, etc.)\n",
    "##### - `.size` (total number of elements),\n",
    "##### - `.dtype` = data type (e.g., `int64`, `float64`)"
   ]
  },
  {
   "cell_type": "code",
   "execution_count": 38,
   "id": "75fcf352-b31b-40b4-9c78-5dba006cb81e",
   "metadata": {},
   "outputs": [
    {
     "name": "stdout",
     "output_type": "stream",
     "text": [
      "Array (A):\n",
      " [[ 0  1  2  3]\n",
      " [ 4  5  6  7]\n",
      " [ 8  9 10 11]]\n",
      "shape: (3, 4) | ndim: 2 | size: 12 | dtype: int64\n"
     ]
    }
   ],
   "source": [
    "A = np.arange(12).reshape(3, 4)   # numbers 0..11 arranged as 3x4\n",
    "print(\"Array (A):\\n\",A)\n",
    "print(\"shape:\", A.shape, \"| ndim:\", A.ndim, \"| size:\", A.size, \"| dtype:\", A.dtype)\n"
   ]
  },
  {
   "cell_type": "markdown",
   "id": "ea3aa70b-5ea4-4075-bd5e-28807c862653",
   "metadata": {},
   "source": [
    "##### **Why are 'Shapes' important?**\n",
    "##### A shape tells you how many numbers you have and how they line up (rows, columns, ...). Most NumPy errors come from shape mismatches. They will come in especially handy when we learn about **broadcasting** later in the tutorial."
   ]
  },
  {
   "cell_type": "markdown",
   "id": "66f01659-82cf-44d1-bcf9-4e06df33ecea",
   "metadata": {},
   "source": [
    "# Part 2: Reshaping vs Copying"
   ]
  },
  {
   "cell_type": "markdown",
   "id": "9a7c3777-b97b-4635-899f-538453218e58",
   "metadata": {},
   "source": [
    "#### When do operations return a **view** (no new data, shares memory) vs a **copy** (independent data)?  \n",
    "##### If you understand views, shapes, and strides, you can avoid silent bugs and write faster code.\n",
    "\n",
    "#### **Key terms**\n",
    "##### - **View:** a new *array object* looking at the *same* memory. Changing the view changes the original.\n",
    "##### - **Copy:** a new array *and* new memory. Changes do not affect the original.\n",
    "##### - **Contiguous:** data stored without gaps. Most fresh arrays are **C-contiguous** (row-major). Fortran-contiguous is column-major."
   ]
  },
  {
   "cell_type": "markdown",
   "id": "25474ee9-4a92-485f-8b8d-25ed34a8070f",
   "metadata": {},
   "source": [
    "#### 1) `reshape` tries to make a **view** (no copy) when possible\n",
    "\n",
    "##### If the data buffer layout allows it, `reshape` returns a view. We can check with:\n",
    "##### - `arr.base is other` (same base object?)\n",
    "##### - `np.shares_memory(arr, other)`\n"
   ]
  },
  {
   "cell_type": "code",
   "execution_count": 41,
   "id": "152f9c41-ea3e-41fa-91da-4ec23e6ff5f4",
   "metadata": {},
   "outputs": [
    {
     "name": "stdout",
     "output_type": "stream",
     "text": [
      "Shares memory? True\n",
      "x: [999   1   2   3   4   5   6   7   8]\n",
      "Y:\n",
      " [[999   1   2]\n",
      " [  3   4   5]\n",
      " [  6   7   8]]\n"
     ]
    }
   ],
   "source": [
    "import numpy as np\n",
    "\n",
    "x = np.arange(9)     # [0 1 2 3 4 5 6 7 8]\n",
    "Y = x.reshape(3, 3)  # view if possible\n",
    "\n",
    "print(\"Shares memory?\", np.shares_memory(x, Y))\n",
    "x[0] = 999\n",
    "print(\"x:\", x)\n",
    "print(\"Y:\\n\", Y)     # Y changed too -> it's a view\n"
   ]
  },
  {
   "cell_type": "markdown",
   "id": "87f366f3-ff5b-4ac7-9c0d-47071990850d",
   "metadata": {},
   "source": [
    "#### 2) Use `.copy()` to **break** the link\n",
    "\n",
    "##### If you want an independent array (safe to mutate), copy it.\n"
   ]
  },
  {
   "cell_type": "code",
   "execution_count": 44,
   "id": "3b558751-cded-4ebb-972b-3e2715804ad3",
   "metadata": {},
   "outputs": [
    {
     "name": "stdout",
     "output_type": "stream",
     "text": [
      "Y changed:\n",
      " [[ 999 -123    2]\n",
      " [   3    4    5]\n",
      " [   6    7    8]]\n",
      "Z independent:\n",
      " [[ 999 -123    2]\n",
      " [   3    4    5]\n",
      " [   6    7    8]]\n",
      "Shares memory? False\n"
     ]
    }
   ],
   "source": [
    "Z = Y.copy()\n",
    "Y[0, 1] = -123\n",
    "print(\"Y changed:\\n\", Y)\n",
    "print(\"Z independent:\\n\", Z)  # unchanged\n",
    "print(\"Shares memory?\", np.shares_memory(Y, Z))\n"
   ]
  },
  {
   "cell_type": "markdown",
   "id": "0ee99ee9-cc5d-4ef6-9727-f1c454ecbe36",
   "metadata": {},
   "source": [
    "# Part 3: Indexing & Slicing"
   ]
  },
  {
   "cell_type": "markdown",
   "id": "743a2f23-d3ff-4160-8202-64d70bb5471c",
   "metadata": {},
   "source": [
    "#### Indexing = Picking specific items/positions.\n",
    "##### 1D: arr[3] → the 4th item\n",
    "##### 2D: M[1, 2] → row 2, col 3 (0-based)"
   ]
  },
  {
   "cell_type": "code",
   "execution_count": 47,
   "id": "d915ae71-72d0-4fae-917c-4bfcedb2958b",
   "metadata": {},
   "outputs": [
    {
     "data": {
      "text/plain": [
       "array([0, 4, 8])"
      ]
     },
     "execution_count": 47,
     "metadata": {},
     "output_type": "execute_result"
    }
   ],
   "source": [
    "import numpy as np\n",
    "arr = np.arange(10)          # [0 1 2 3 4 5 6 7 8 9]\n",
    "arr[3]            # -> 3  (single index)\n",
    "arr[[1, 4, 6]]    # -> [1 4 6] (fancy indexing, copy)\n",
    "arr[arr % 2 == 0] # -> [0 2 4 6 8] (boolean mask, copy)\n",
    "\n",
    "M = np.arange(12).reshape(3,4)\n",
    "M[1, 2]          # element at row 1, col 2\n",
    "M[:, 0]          # first column as a 1D view (shape (3,))"
   ]
  },
  {
   "cell_type": "markdown",
   "id": "9ee93fe5-f539-4634-a7b7-9e388e4015a4",
   "metadata": {},
   "source": [
    "#### Slicing = Taking a range.\n",
    "##### Syntax: start:stop:step (stop is excluded)\n",
    "##### 1D: arr[2:6] → items at positions 2,3,4,5\n",
    "##### 2D: M[0:2, 1:3] → rows 0–1 and cols 1–2\n",
    "##### Shorthands: : = “all”, ::2 = every other, [::-1] = reverse"
   ]
  },
  {
   "cell_type": "code",
   "execution_count": 49,
   "id": "5ccf8686-3fcc-486c-8e37-47b3f0b3d83e",
   "metadata": {},
   "outputs": [],
   "source": [
    "arr = np.arange(10)\n",
    "arr[2:7]     # -> [2 3 4 5 6]     (view)\n",
    "arr[2:7:2]   # -> [2 4 6]         (view)\n",
    "arr[::-1]    # -> reversed array  (view with negative stride)\n",
    "\n",
    "M = np.arange(12).reshape(3,4)\n",
    "M[0:2, 1:4]  # top-left 2x3 block (view)\n",
    "M[:, :1]     # first column as 2D view (shape (3,1))\n",
    "\n",
    "# Compare:\n",
    "col_2d_view  = M[:, :1]    # view, shape (3,1)\n",
    "col_2d_copy  = M[:, [0]]   # fancy indexing -> copy, shape (3,1)"
   ]
  },
  {
   "cell_type": "code",
   "execution_count": null,
   "id": "404f167c-ca80-46a8-b2b8-94d2b95623e4",
   "metadata": {},
   "outputs": [],
   "source": []
  }
 ],
 "metadata": {
  "kernelspec": {
   "display_name": "Python 3 (ipykernel)",
   "language": "python",
   "name": "python3"
  },
  "language_info": {
   "codemirror_mode": {
    "name": "ipython",
    "version": 3
   },
   "file_extension": ".py",
   "mimetype": "text/x-python",
   "name": "python",
   "nbconvert_exporter": "python",
   "pygments_lexer": "ipython3",
   "version": "3.13.5"
  }
 },
 "nbformat": 4,
 "nbformat_minor": 5
}
