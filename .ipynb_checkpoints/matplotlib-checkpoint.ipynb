{
 "cells": [
  {
   "cell_type": "markdown",
   "id": "9a60799f",
   "metadata": {},
   "source": [
    "# Matplotlib Tutorial"
   ]
  },
  {
   "cell_type": "markdown",
   "id": "6e98a284",
   "metadata": {},
   "source": [
    "## Import Matplotlib and Pyplot and Numpy\n",
    "\n",
    "1. Add **matplotlib** into your applications by entering **'import matplotlib'** into your terminal\n",
    "2. Add **pyplot** into your applications by entering **'import matplotlib.pyplot as plt'** into your terminal. We'll refer to pyplot as 'plt' for short\n",
    "3. Add **pyplot** into your applications by entering **'import numpy as np'** into your terminal. We'll refer to pyplot as 'np' for short\n"
   ]
  },
  {
   "cell_type": "markdown",
   "id": "5b30e024",
   "metadata": {},
   "source": [
    "### Test it out\n",
    "Run this code below to practice calling "
   ]
  },
  {
   "cell_type": "code",
   "execution_count": null,
   "id": "134cf07e",
   "metadata": {
    "vscode": {
     "languageId": "plaintext"
    }
   },
   "outputs": [],
   "source": [
    "# import our libraries\n",
    "import matplotlib.pyplot as plt\n",
    "import numpy as np\n",
    "\n",
    "# create an array using the array() function in the numpy library\n",
    "xpoints = np.array([0, 6])\n",
    "ypoints = np.array([0, 250])\n",
    "\n",
    "# generate and show our plot using the plot() and show() functions from pyplot library\n",
    "plt.plot(xpoints, ypoints)\n",
    "plt.show()"
   ]
  }
 ],
 "metadata": {
  "kernelspec": {
   "display_name": "Python 3 (ipykernel)",
   "language": "python",
   "name": "python3"
  },
  "language_info": {
   "codemirror_mode": {
    "name": "ipython",
    "version": 3
   },
   "file_extension": ".py",
   "mimetype": "text/x-python",
   "name": "python",
   "nbconvert_exporter": "python",
   "pygments_lexer": "ipython3",
   "version": "3.10.4"
  }
 },
 "nbformat": 4,
 "nbformat_minor": 5
}
