{
 "cells": [
  {
   "cell_type": "markdown",
   "id": "9a60799f",
   "metadata": {},
   "source": [
    "# Matplotlib Tutorial"
   ]
  },
  {
   "cell_type": "markdown",
   "id": "6e98a284",
   "metadata": {},
   "source": [
    "## Import Matplotlib and Pyplot and Numpy\n",
    "\n",
    "1. Add **matplotlib** into your applications by entering **'import matplotlib'** into your terminal\n",
    "2. Add **pyplot** into your applications by entering **'import matplotlib.pyplot as plt'** into your terminal. We'll refer to pyplot as 'plt' for short\n",
    "3. Add **pyplot** into your applications by entering **'import numpy as np'** into your terminal. We'll refer to pyplot as 'np' for short\n"
   ]
  },
  {
   "cell_type": "markdown",
   "id": "9fbb4ffa",
   "metadata": {},
   "source": [
    "### Plotting A Line\n",
    "The plot() function takes in two parameters. The first takes in the points on the x axis. The second takes in the points on the y axis.\n"
   ]
  },
  {
   "cell_type": "markdown",
   "id": "500168b7",
   "metadata": {},
   "source": [
    "#### Test it out\n",
    "Run this code below to practice calling the **array(), plot(), and show()** functions from the libraries we just imported.\n",
    "\n",
    "1. Import **libraries** (pyplot and numpy)\n",
    "2. Create an **array of x-points** (ranging 0 to 10) into **xpoints variable**\n",
    "3. Create an **array of y-points** (ranging 0 to 240) into **ypoints variable**\n",
    "4. Generate and show plot using **plot(xpoints, ypoints)** and **show()**"
   ]
  },
  {
   "cell_type": "code",
   "execution_count": null,
   "id": "68a10119",
   "metadata": {
    "vscode": {
     "languageId": "plaintext"
    }
   },
   "outputs": [],
   "source": [
    "# import our libraries\n",
    "import matplotlib.pyplot as plt\n",
    "import numpy as np\n",
    "\n",
    "# create an array using the array() function in the numpy library\n",
    "xpoints = np.array([0, 10])\n",
    "ypoints = np.array([0, 240])\n",
    "\n",
    "# generate and show our plot using the plot() and show() functions from pyplot library\n",
    "plt.plot(xpoints, ypoints)\n",
    "plt.show()"
   ]
  }
 ],
 "metadata": {
  "kernelspec": {
   "display_name": "Python 3 (ipykernel)",
   "language": "python",
   "name": "python3"
  },
  "language_info": {
   "codemirror_mode": {
    "name": "ipython",
    "version": 3
   },
   "file_extension": ".py",
   "mimetype": "text/x-python",
   "name": "python",
   "nbconvert_exporter": "python",
   "pygments_lexer": "ipython3",
   "version": "3.10.4"
  }
 },
 "nbformat": 4,
 "nbformat_minor": 5
}
