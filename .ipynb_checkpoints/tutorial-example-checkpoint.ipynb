{
 "cells": [
  {
   "cell_type": "markdown",
   "id": "75812695",
   "metadata": {},
   "source": [
    "# Example Tutorial\n",
    "\n",
    "Author: Noah Pragin\n",
    "\n",
    "This is an example tutorial for the AI Club Project Management team.\n",
    "\n",
    "The general flow should be:\n",
    "1. Introduce the concept\n",
    "2. Show examples via code and explain how it works\n",
    "3. Present a practical exercise for the user to solve with test cases to verify their solution\n",
    "4. Present an example solution to the exercise\n",
    "5. Repeat the process for each concept\n",
    "\n",
    "Some general advice:\n",
    "- Use markdown cells to explain the concepts, they are much more readable than comments in the code cells\n",
    "- Don't be afraid to search the internet for existing tutorials, but make sure to cite your sources!\n",
    "  - This can be especially helpful for explaining what happens behind the scenes of a function call or understanding the best order to present the material\n",
    "- Claim your authorship!"
   ]
  },
  {
   "cell_type": "markdown",
   "id": "feb72ec5",
   "metadata": {},
   "source": [
    "# Basic Array Operations"
   ]
  },
  {
   "cell_type": "markdown",
   "id": "3c4360b8",
   "metadata": {},
   "source": [
    "## Addition\n",
    "\n",
    "This tutorial covers the different ways to add NumPy arrays together.\n",
    "\n",
    "We'll explore element-wise addition, broadcasting, data types, and common errors."
   ]
  },
  {
   "cell_type": "code",
   "execution_count": 21,
   "id": "8aa081eb",
   "metadata": {},
   "outputs": [],
   "source": [
    "import numpy as np"
   ]
  },
  {
   "cell_type": "markdown",
   "id": "3dfeb718",
   "metadata": {
    "vscode": {
     "languageId": "raw"
    }
   },
   "source": [
    "## 1. Element-wise Addition\n",
    "\n",
    "**Element-wise addition** is the most fundamental operation in NumPy. When you add two arrays:\n",
    "- They must have **exactly the same shape**\n",
    "- Each element is added to its corresponding element in the other array\n",
    "- The result is a new array with the same shape\n",
    "\n",
    "Let's see this in action with 1D arrays first, then move to 2D arrays (matrices).\n"
   ]
  },
  {
   "cell_type": "code",
   "execution_count": 22,
   "id": "204134b9",
   "metadata": {},
   "outputs": [
    {
     "name": "stdout",
     "output_type": "stream",
     "text": [
      "1D Array Addition Example:\n",
      "Array 1: [1 2 3]\n",
      "Array 2: [4 5 6]\n",
      "Result:  [5 7 9]\n",
      "\n",
      "How it works step by step:\n",
      "Position 0: 1 + 4 = 5\n",
      "Position 1: 2 + 5 = 7\n",
      "Position 2: 3 + 6 = 9\n",
      "\n",
      "Array shapes: (3,) + (3,) = (3,)\n"
     ]
    }
   ],
   "source": [
    "# 1D Array Addition - The Basics\n",
    "# Create two simple 1D arrays\n",
    "arr1 = np.array([1, 2, 3])\n",
    "arr2 = np.array([4, 5, 6])\n",
    "\n",
    "# Add them together\n",
    "result = arr1 + arr2\n",
    "\n",
    "print(\"1D Array Addition Example:\")\n",
    "print(f\"Array 1: {arr1}\")\n",
    "print(f\"Array 2: {arr2}\")\n",
    "print(f\"Result:  {result}\")\n",
    "print()\n",
    "print(\"How it works step by step:\")\n",
    "print(\"Position 0: 1 + 4 = 5\")\n",
    "print(\"Position 1: 2 + 5 = 7\") \n",
    "print(\"Position 2: 3 + 6 = 9\")\n",
    "\n",
    "# Let's also check the shapes\n",
    "print(f\"\\nArray shapes: {arr1.shape} + {arr2.shape} = {result.shape}\")\n"
   ]
  },
  {
   "cell_type": "code",
   "execution_count": 23,
   "id": "4369a224",
   "metadata": {},
   "outputs": [
    {
     "name": "stdout",
     "output_type": "stream",
     "text": [
      "2D Array (Matrix) Addition Example:\n",
      "Matrix 1:\n",
      "[[1 2]\n",
      " [3 4]]\n",
      "\n",
      "Matrix 2:\n",
      "[[5 6]\n",
      " [7 8]]\n",
      "\n",
      "Result:\n",
      "[[ 6  8]\n",
      " [10 12]]\n",
      "\n",
      "How it works:\n",
      "Position (0,0): 1 + 5 = 6\n",
      "Position (0,1): 2 + 6 = 8\n",
      "Position (1,0): 3 + 7 = 10\n",
      "Position (1,1): 4 + 8 = 12\n",
      "\n",
      "Matrix shapes: (2, 2) + (2, 2) = (2, 2)\n"
     ]
    }
   ],
   "source": [
    "# 2D Array Addition - Matrix Addition\n",
    "# Create two 2x2 matrices\n",
    "matrix1 = np.array([[1, 2], \n",
    "                    [3, 4]])\n",
    "\n",
    "matrix2 = np.array([[5, 6], \n",
    "                    [7, 8]])\n",
    "\n",
    "# Add the matrices\n",
    "result_2d = matrix1 + matrix2\n",
    "\n",
    "print(\"2D Array (Matrix) Addition Example:\")\n",
    "print(\"Matrix 1:\")\n",
    "print(matrix1)\n",
    "print(\"\\nMatrix 2:\")\n",
    "print(matrix2)\n",
    "print(\"\\nResult:\")\n",
    "print(result_2d)\n",
    "\n",
    "print(\"\\nHow it works:\")\n",
    "print(\"Position (0,0): 1 + 5 = 6\")\n",
    "print(\"Position (0,1): 2 + 6 = 8\") \n",
    "print(\"Position (1,0): 3 + 7 = 10\")\n",
    "print(\"Position (1,1): 4 + 8 = 12\")\n",
    "\n",
    "print(f\"\\nMatrix shapes: {matrix1.shape} + {matrix2.shape} = {result_2d.shape}\")\n"
   ]
  },
  {
   "cell_type": "markdown",
   "id": "ae09adce",
   "metadata": {
    "vscode": {
     "languageId": "raw"
    }
   },
   "source": [
    "## 2. Broadcasting - NumPy's Superpower!\n",
    "\n",
    "**Broadcasting** is NumPy's amazing feature that allows you to add arrays of **different shapes**. The key rules:\n",
    "\n",
    "1. **Arrays are aligned from the rightmost dimension**\n",
    "2. **Missing dimensions are assumed to be size 1**\n",
    "3. **Dimensions of size 1 can be stretched to any size**  \n",
    "4. **If dimensions don't match and can't be broadcast → Error!**\n",
    "\n",
    "Broadcasting makes many operations much more convenient and efficient. Let's explore the most common cases!"
   ]
  },
  {
   "cell_type": "code",
   "execution_count": 24,
   "id": "e480bb42",
   "metadata": {},
   "outputs": [
    {
     "name": "stdout",
     "output_type": "stream",
     "text": [
      "Scalar Broadcasting Example:\n",
      "Original array: [1 2 3 4 5]\n",
      "Scalar value:   10\n",
      "Result:         [11 12 13 14 15]\n",
      "\n",
      "What happens behind the scenes:\n",
      "The scalar 10 is conceptually expanded to [10, 10, 10, 10, 10]\n",
      "Then normal element-wise addition occurs\n",
      "\n",
      "Scalar broadcasting with 2D array:\n",
      "Original matrix:\n",
      "[[1 2 3]\n",
      " [4 5 6]]\n",
      "\n",
      "Adding scalar 100:\n",
      "[[101 102 103]\n",
      " [104 105 106]]\n"
     ]
    }
   ],
   "source": [
    "# Scalar Broadcasting - Most Common Case\n",
    "# Add a single number to every element in an array\n",
    "\n",
    "arr = np.array([1, 2, 3, 4, 5])\n",
    "scalar = 10\n",
    "\n",
    "# The scalar gets \"broadcast\" to match the array's shape\n",
    "# A scalar can be thought of as a 0 dimensional array\n",
    "# Following rule 2, the missing dimension (dimension 0) is assumed to be 1\n",
    "# Following rule 3, the scalar is stretched to match the array's shape\n",
    "result_scalar = arr + scalar\n",
    "\n",
    "print(\"Scalar Broadcasting Example:\")\n",
    "print(f\"Original array: {arr}\")\n",
    "print(f\"Scalar value:   {scalar}\")\n",
    "print(f\"Result:         {result_scalar}\")\n",
    "print()\n",
    "print(\"What happens behind the scenes:\")\n",
    "print(\"The scalar 10 is conceptually expanded to [10, 10, 10, 10, 10]\")\n",
    "print(\"Then normal element-wise addition occurs\")\n",
    "print()\n",
    "\n",
    "# Works with any shape!\n",
    "matrix = np.array([[1, 2, 3], \n",
    "                   [4, 5, 6]])\n",
    "result_matrix_scalar = matrix + 100\n",
    "\n",
    "print(\"Scalar broadcasting with 2D array:\")\n",
    "print(\"Original matrix:\")\n",
    "print(matrix)\n",
    "print(f\"\\nAdding scalar 100:\")\n",
    "print(result_matrix_scalar)\n"
   ]
  },
  {
   "cell_type": "code",
   "execution_count": 25,
   "id": "961e7a6a",
   "metadata": {},
   "outputs": [
    {
     "name": "stdout",
     "output_type": "stream",
     "text": [
      "Array Broadcasting Example (2D + 1D):\n",
      "2D matrix shape: (2, 3)\n",
      "2D matrix:\n",
      "[[1 2 3]\n",
      " [4 5 6]]\n",
      "\n",
      "1D array shape: (3,)\n",
      "1D array: [10 20 30]\n",
      "\n",
      "Result after broadcasting:\n",
      "[[11 22 33]\n",
      " [14 25 36]]\n",
      "\n",
      "How broadcasting works here:\n",
      "Row 1: [1, 2, 3] + [10, 20, 30] = [11, 22, 33]\n",
      "Row 2: [4, 5, 6] + [10, 20, 30] = [14, 25, 36]\n",
      "\n",
      "The 1D array [10, 20, 30] was broadcast to match each row of the 2D matrix!\n"
     ]
    }
   ],
   "source": [
    "# Array Broadcasting - 2D + 1D\n",
    "# Adding arrays of different dimensions\n",
    "\n",
    "# Create a 2D array (2 rows, 3 columns)\n",
    "matrix_2d = np.array([[1, 2, 3], \n",
    "                      [4, 5, 6]])\n",
    "\n",
    "# Create a 1D array (3 elements)\n",
    "array_1d = np.array([10, 20, 30])\n",
    "\n",
    "# Broadcasting: the 1D array gets \"broadcast\" to each row\n",
    "# Following rule 1, the arrays are aligned from the rightmost dimension\n",
    "# Following rule 2, the missing dimension (dimension 0) is assumed to be 1\n",
    "# Following rule 3, the 1D array is stretched along dimension 0to match the 2D matrix's shape\n",
    "result_broadcast = matrix_2d + array_1d\n",
    "\n",
    "print(\"Array Broadcasting Example (2D + 1D):\")\n",
    "print(f\"2D matrix shape: {matrix_2d.shape}\")\n",
    "print(\"2D matrix:\")\n",
    "print(matrix_2d)\n",
    "print()\n",
    "print(f\"1D array shape: {array_1d.shape}\")  \n",
    "print(f\"1D array: {array_1d}\")\n",
    "print()\n",
    "print(\"Result after broadcasting:\")\n",
    "print(result_broadcast)\n",
    "print()\n",
    "print(\"How broadcasting works here:\")\n",
    "print(\"Row 1: [1, 2, 3] + [10, 20, 30] = [11, 22, 33]\")\n",
    "print(\"Row 2: [4, 5, 6] + [10, 20, 30] = [14, 25, 36]\")\n",
    "print()\n",
    "print(\"The 1D array [10, 20, 30] was broadcast to match each row of the 2D matrix!\")\n"
   ]
  },
  {
   "cell_type": "code",
   "execution_count": 26,
   "id": "adaaf37b",
   "metadata": {},
   "outputs": [
    {
     "name": "stdout",
     "output_type": "stream",
     "text": [
      "Error Cases - Incompatible Shapes:\n",
      "Trying to add:\n",
      "Array 1 shape: (3,) → [1 2 3]\n",
      "Array 2 shape: (2, 2)\n",
      "[[1 2]\n",
      " [3 4]]\n",
      "\n",
      "ERROR OCCURRED:\n",
      "   operands could not be broadcast together with shapes (3,) (2,2) \n",
      "\n",
      "Why this failed:\n",
      "   • Array 1: shape (3,) - 3 elements in 1D\n",
      "   • Array 2: shape (2,2) - 2×2 matrix\n",
      "   • Broadcasting requires compatible dimensions\n",
      "   • (3,) and (2,2) cannot be broadcast together\n",
      "\n",
      "Debugging tip: Always check array shapes with .shape when errors occur!\n"
     ]
    }
   ],
   "source": [
    "# Error Handling - When Arrays Can't Be Added\n",
    "# Not all array shapes are compatible for addition\n",
    "\n",
    "print(\"Error Cases - Incompatible Shapes:\")\n",
    "\n",
    "# This will cause an error - let's handle it gracefully\n",
    "try:\n",
    "    incompatible1 = np.array([1, 2, 3])        # Shape: (3,)\n",
    "    incompatible2 = np.array([[1, 2], [3, 4]]) # Shape: (2, 2)\n",
    "    \n",
    "    print(f\"Trying to add:\")\n",
    "    print(f\"Array 1 shape: {incompatible1.shape} → {incompatible1}\")\n",
    "    print(f\"Array 2 shape: {incompatible2.shape}\")\n",
    "    print(incompatible2)\n",
    "    print()\n",
    "    \n",
    "    # This line will raise an error\n",
    "    bad_result = incompatible1 + incompatible2\n",
    "    \n",
    "except ValueError as e:\n",
    "    print(\"ERROR OCCURRED:\")\n",
    "    print(f\"   {e}\")\n",
    "    print()\n",
    "    print(\"Why this failed:\")\n",
    "    print(\"   • Array 1: shape (3,) - 3 elements in 1D\")\n",
    "    print(\"   • Array 2: shape (2,2) - 2×2 matrix\")\n",
    "    print(\"   • Broadcasting requires compatible dimensions\")\n",
    "    print(\"   • (3,) and (2,2) cannot be broadcast together\")\n",
    "    print()\n",
    "    print(\"Debugging tip: Always check array shapes with .shape when errors occur!\")\n"
   ]
  },
  {
   "cell_type": "code",
   "execution_count": 27,
   "id": "b54ce373",
   "metadata": {},
   "outputs": [
    {
     "name": "stdout",
     "output_type": "stream",
     "text": [
      "Alternative Syntax Comparison:\n",
      "Array 1: [1 2 3]\n",
      "Array 2: [4 5 6]\n",
      "\n",
      "Using + operator:  [5 7 9]\n",
      "Using np.add():    [5 7 9]\n",
      "\n",
      "Results are identical: True\n",
      "\n",
      "Which should you use?\n",
      "+ operator: More readable, more common\n",
      "np.add(): Useful for functional programming, can specify output array\n"
     ]
    }
   ],
   "source": [
    "# Alternative Syntax: np.add() vs + operator\n",
    "# Both ways give identical results\n",
    "\n",
    "# Using our arrays from before\n",
    "arr1 = np.array([1, 2, 3])\n",
    "arr2 = np.array([4, 5, 6])\n",
    "\n",
    "# Method 1: Using the + operator (most common)\n",
    "result_plus = arr1 + arr2\n",
    "\n",
    "# Method 2: Using np.add() function\n",
    "result_function = np.add(arr1, arr2)\n",
    "\n",
    "print(\"Alternative Syntax Comparison:\")\n",
    "print(f\"Array 1: {arr1}\")\n",
    "print(f\"Array 2: {arr2}\")\n",
    "print()\n",
    "print(f\"Using + operator:  {result_plus}\")\n",
    "print(f\"Using np.add():    {result_function}\")\n",
    "print()\n",
    "print(f\"Results are identical: {np.array_equal(result_plus, result_function)}\")\n",
    "print()\n",
    "print(\"Which should you use?\")\n",
    "print(\"+ operator: More readable, more common\")\n",
    "print(\"np.add(): Useful for functional programming, can specify output array\")\n"
   ]
  },
  {
   "cell_type": "markdown",
   "id": "cfbc2851",
   "metadata": {
    "vscode": {
     "languageId": "raw"
    }
   },
   "source": [
    "## **Exercise: Build Your Own Safe Array Adder**\n",
    "\n",
    "**Time to put your knowledge to the test!** \n",
    "\n",
    "Your task is to write a function called `safe_array_add()` that:\n",
    "\n",
    "1. **Takes two NumPy arrays as input**\n",
    "2. **Checks if their shapes are compatible for addition** (following broadcasting rules)\n",
    "3. **If shapes are NOT compatible**: Raises a `CustomException` with a helpful error message\n",
    "4. **If shapes ARE compatible**: Returns the result of adding the arrays\n",
    "\n",
    "For the best learning experience, try implementing the broadcasting rules we learned! While using try/except would work, manually checking the shapes will help you better understand how broadcasting works.\n",
    "\n",
    "### Requirements:\n",
    "- Implement the `safe_array_add(arr1, arr2)` function\n",
    "- Handle both element-wise addition and broadcasting cases\n",
    "  - Note: You can assume that scalars will not be passed in as arguments\n",
    "\n",
    "### Hint:\n",
    "Use the `.shape` attribute to check the dimensions of the arrays!"
   ]
  },
  {
   "cell_type": "code",
   "execution_count": 28,
   "id": "9f61fa38",
   "metadata": {},
   "outputs": [],
   "source": [
    "class CustomException(Exception):\n",
    "    \"\"\"Custom exception for incompatible array shapes\"\"\"\n",
    "    pass\n",
    "\n",
    "def safe_array_add(arr1, arr2):\n",
    "    \"\"\"\n",
    "    Safely add two NumPy arrays with shape compatibility checking.\n",
    "    \n",
    "    Parameters:\n",
    "    arr1, arr2 (np.ndarray): Input arrays to add\n",
    "    \n",
    "    Returns:\n",
    "    np.ndarray: Result of arr1 + arr2\n",
    "    \n",
    "    Raises:\n",
    "    CustomException: If shapes are not compatible for broadcasting\n",
    "    \"\"\"\n",
    "    # TODO: Implement your solution here\n",
    "    raise NotImplementedError(\"Not implemented\") # Remove this line when you implement your solution\n",
    "\n",
    "    \n",
    "# Test your function with the test cases below!\n"
   ]
  },
  {
   "cell_type": "code",
   "execution_count": 29,
   "id": "09ee28ec",
   "metadata": {},
   "outputs": [
    {
     "name": "stdout",
     "output_type": "stream",
     "text": [
      "Testing your safe_array_add function...\n",
      "==================================================\n",
      "  Test 1 FAILED: Not implemented\n",
      "  Test 2 FAILED: Not implemented\n",
      "  Test 3 FAILED: Not implemented\n",
      "  Test 4 FAILED: Wrong exception type - Not implemented\n",
      "\n",
      "==================================================\n",
      "If all tests pass, congratulations!\n"
     ]
    }
   ],
   "source": [
    "# TEST CASES - Run this cell to test your solution!\n",
    "\n",
    "print(\"Testing your safe_array_add function...\")\n",
    "print(\"=\" * 50)\n",
    "\n",
    "# Test Case 1: Compatible shapes (element-wise)\n",
    "try:\n",
    "    arr1 = np.array([1, 2, 3])\n",
    "    arr2 = np.array([4, 5, 6])\n",
    "    result = safe_array_add(arr1, arr2)\n",
    "    print(f\"  Test 1 PASSED: {arr1} + {arr2} = {result}\")\n",
    "except Exception as e:\n",
    "    print(f\"  Test 1 FAILED: {e}\")\n",
    "\n",
    "# Test Case 2: Compatible shapes (broadcasting - scalar)\n",
    "try:\n",
    "    arr1 = np.array([1, 2, 3])\n",
    "    scalar = np.array([10])  # Scalar as 1D array\n",
    "    result = safe_array_add(arr1, scalar)\n",
    "    print(f\"  Test 2 PASSED: {arr1} + {scalar} = {result}\")\n",
    "except Exception as e:\n",
    "    print(f\"  Test 2 FAILED: {e}\")\n",
    "\n",
    "# Test Case 3: Compatible shapes (broadcasting - 2D + 1D)\n",
    "try:\n",
    "    arr1 = np.array([[1, 2, 3], [4, 5, 6]])\n",
    "    arr2 = np.array([10, 20, 30])\n",
    "    result = safe_array_add(arr1, arr2)\n",
    "    print(f\"  Test 3 PASSED: Broadcasting 2D + 1D works\")\n",
    "    print(f\"   Result shape: {result.shape}\")\n",
    "except Exception as e:\n",
    "    print(f\"  Test 3 FAILED: {e}\")\n",
    "\n",
    "# Test Case 4: INCOMPATIBLE shapes (should raise CustomException)\n",
    "try:\n",
    "    arr1 = np.array([1, 2, 3])\n",
    "    arr2 = np.array([[1, 2], [3, 4]])\n",
    "    result = safe_array_add(arr1, arr2)\n",
    "    print(f\"Test 4 FAILED: Should have raised CustomException!\")\n",
    "except CustomException as e:\n",
    "    print(f\"  Test 4 PASSED: CustomException raised correctly - {e}\")\n",
    "except Exception as e:\n",
    "    print(f\"  Test 4 FAILED: Wrong exception type - {e}\")\n",
    "\n",
    "print(\"\\n\" + \"=\" * 50)\n",
    "print(\"If all tests pass, congratulations!\")\n"
   ]
  },
  {
   "cell_type": "markdown",
   "id": "d4696eac",
   "metadata": {
    "vscode": {
     "languageId": "raw"
    }
   },
   "source": [
    "## **Solution** \n",
    "*(Try to solve it yourself first before looking!)*\n",
    "\n",
    "Click the cell below to reveal a possible solution approach.\n"
   ]
  },
  {
   "cell_type": "code",
   "execution_count": 30,
   "id": "0cb44225",
   "metadata": {},
   "outputs": [],
   "source": [
    "class CustomException(Exception):\n",
    "    \"\"\"Custom exception for incompatible array shapes\"\"\"\n",
    "    pass\n",
    "\n",
    "def can_broadcast(shape1, shape2):\n",
    "        \"\"\"Check if two shapes can be broadcast together\"\"\"\n",
    "        # Pad shorter shape with 1s on the left\n",
    "        # Remember:\n",
    "        #   numpy arrays are aligned from the rightmost dimension\n",
    "        #   absent dimensions are assumed to be 1\n",
    "        max_len = max(len(shape1), len(shape2))\n",
    "        shape1 = (1,) * (max_len - len(shape1)) + shape1\n",
    "        shape2 = (1,) * (max_len - len(shape2)) + shape2\n",
    "        \n",
    "        # Check each dimension\n",
    "        for dim1, dim2 in zip(shape1, shape2):\n",
    "            if dim1 != dim2 and dim1 != 1 and dim2 != 1:\n",
    "                return False\n",
    "        return True\n",
    "\n",
    "def safe_array_add(arr1, arr2):\n",
    "    \"\"\"A solution that manually checks broadcasting rules\"\"\"\n",
    "    \n",
    "    if not can_broadcast(arr1.shape, arr2.shape):\n",
    "        raise CustomException(\n",
    "            f\"Cannot add arrays with shapes {arr1.shape} and {arr2.shape}. \"\n",
    "            f\"Shapes are not compatible for broadcasting.\"\n",
    "        )\n",
    "    \n",
    "    return arr1 + arr2\n"
   ]
  },
  {
   "cell_type": "markdown",
   "id": "ce30e462",
   "metadata": {},
   "source": [
    "## Key Takeaways\n",
    "\n",
    "**Congratulations! You've mastered NumPy array addition!** Here's what we covered:\n",
    "\n",
    "### **Element-wise Addition**\n",
    "- Arrays must have **identical shapes**\n",
    "- Each element adds to its corresponding element\n",
    "\n",
    "### **Broadcasting** \n",
    "- Allows adding arrays of **different but compatible shapes**\n",
    "- Scalar broadcasting is the most common case\n",
    "- Follow broadcasting rules to predict behavior\n",
    "\n",
    "### **Syntax Options**\n",
    "- Use `+` operator (most common and readable)\n",
    "- Use `np.add()` for functional programming styles\n",
    "\n",
    "### **Data Types**\n",
    "- NumPy handles type promotion automatically\n",
    "- Result promoted to prevent data loss (int + float → float)\n",
    "\n",
    "### **Error Prevention**\n",
    "- Always check array shapes when debugging: `array.shape`\n",
    "- Incompatible shapes will raise `ValueError`\n",
    "\n",
    "### **Next Steps**\n",
    "Try these operations with your own arrays! Experiment with different shapes and data types to build intuition.\n"
   ]
  }
 ],
 "metadata": {
  "kernelspec": {
   "display_name": "Python 3",
   "language": "python",
   "name": "python3"
  },
  "language_info": {
   "codemirror_mode": {
    "name": "ipython",
    "version": 3
   },
   "file_extension": ".py",
   "mimetype": "text/x-python",
   "name": "python",
   "nbconvert_exporter": "python",
   "pygments_lexer": "ipython3",
   "version": "3.11.11"
  }
 },
 "nbformat": 4,
 "nbformat_minor": 5
}
