{
 "cells": [
  {
   "cell_type": "markdown",
   "id": "a59240ce-a69b-423b-bc27-1843f87bbae3",
   "metadata": {},
   "source": [
    "# NumPy Tutorial\n",
    "Author: Ally Chen\n",
    "\n",
    "This is an introductory tutorial for NumPy, the core Python library for fast numerical computing."
   ]
  },
  {
   "cell_type": "markdown",
   "id": "84ef63ba-8601-46c0-a29b-2e6e52082992",
   "metadata": {},
   "source": [
    "## What is NumPy?\n",
    "\n",
    "NumPy provides high-performance, multidimensional arrays and vectorized operations that replace slow Python loops. Tools like pandas, SciPy, scikit-learn, and PyTorch, rely on NumPy under the hood. The result is **cleaner code that runs much faster with far less looping**. By the end of this tutorial, you’ll have the skills necessary to perform the following:\n",
    "1. Represent data as vectors and matrices.\n",
    "2. Create and inspect arrays.\n",
    "3. Index and slice arrays.\n",
    "4. Perform element-wise operations and broadcasting.\n",
    "5. Reshape & copy data."
   ]
  },
  {
   "cell_type": "markdown",
   "id": "b456566a-c36c-4117-9f54-e9f76764ce49",
   "metadata": {},
   "source": [
    "## NumPy Installation\n",
    "1. Run the following cell. If it errors, install by running `pip install numpy` in your terminal. "
   ]
  },
  {
   "cell_type": "code",
   "execution_count": 45,
   "id": "ffc47748-3d32-43aa-b574-b352bc960927",
   "metadata": {},
   "outputs": [],
   "source": [
    "import numpy as np"
   ]
  },
  {
   "cell_type": "markdown",
   "id": "bc2a7bb8-3cba-4f1f-8ebb-1336d391f7ec",
   "metadata": {},
   "source": [
    "## Multi-Dimensional Arrays"
   ]
  },
  {
   "cell_type": "markdown",
   "id": "3de8325e-7d22-48db-b045-98084942ca94",
   "metadata": {},
   "source": [
    "***Why multi-dimensional arrays for machine learning?***\n",
    "\n",
    "Multi-dimensional arrays are the backbone of NumPy. Most real machine learning data isn’t flat. A single example might be a list of features numbers, a picture (a grid of pixels), or a short sequence over time, and we usually process **many** examples at once. A multi-dimensional array lets us keep each “direction” of the data separate (rows, columns, time, color channels, batch size) and run fast operations without Python loops\n",
    "\n",
    "- A 1D array is like a simple list `[1, 2, 3]`.\n",
    "- A 2D array is like a table or matrix (rows × columns).\n",
    "- A 3D array is like a stack of tables.\n",
    "- Higher dimensions are possible, but most people stop at 2D or 3D for practical work.\n",
    "\n",
    "*NumPy arrays are called `ndarrays` (“n-dimensional arrays”) because they can have any number of dimensions.*\n",
    "The more dimensions an array has, the trickier they are to understand. "
   ]
  },
  {
   "cell_type": "markdown",
   "id": "00ca23a3-7b32-46e2-ac3a-fda727153750",
   "metadata": {},
   "source": [
    "***When do you use 1D arrays?***\n",
    "\n",
    "Use a 1D array when your data is one list of values, such as a single feature vector, a list of labels, or what a model is trying to predict. If you start stacking many of these together (many samples or many time steps), move up to 2D or higher so each axis has its own dimension."
   ]
  },
  {
   "cell_type": "code",
   "execution_count": 46,
   "id": "cdc0a839-c60f-4bca-9696-f73c4b83dce5",
   "metadata": {},
   "outputs": [
    {
     "name": "stdout",
     "output_type": "stream",
     "text": [
      "[ 5 10 15]\n"
     ]
    }
   ],
   "source": [
    " # 1D array/vector\n",
    "x = np.array([5, 10, 15])\n",
    "print(x)"
   ]
  },
  {
   "attachments": {},
   "cell_type": "markdown",
   "id": "80d07261-2e1f-4099-a017-47299dc9e7e6",
   "metadata": {},
   "source": [
    "***When do you use 2D arrays?***\n",
    "\n",
    "Use a 2D array when your data naturally forms a table. In machine learning this is the standard “samples × features” layout: each row is one example and each column is one feature. A 2D array also works for single grayscale images (height × width) or any matrix you want to compute with. If you find yourself stacking many single vectors together, switch to a 2D array so rows and columns are explicit and easy to index."
   ]
  },
  {
   "cell_type": "code",
   "execution_count": 47,
   "id": "51a152fb-f470-4957-9f47-34c66558fcd4",
   "metadata": {},
   "outputs": [
    {
     "name": "stdout",
     "output_type": "stream",
     "text": [
      "[[1 2 3]\n",
      " [4 5 6]]\n"
     ]
    }
   ],
   "source": [
    "# 2D array (matrix)\n",
    "arr2 = np.array([[1, 2, 3],\n",
    "              [4, 5, 6]])\n",
    "\n",
    "# This is a 2D array, with 2 rows and 3 columns.\n",
    "print(arr2) # (2, 3)"
   ]
  },
  {
   "cell_type": "markdown",
   "id": "4ce6125c-87a3-4d86-9294-1e4c4f21bd9e",
   "metadata": {},
   "source": [
    "***When do you use 3D arrays?***\n",
    "\n",
    "Use a 3D array when there’s one more “direction” to keep track of, like color channels, time steps, or batches of 2D items. A single color image is naturally 3D (height × width × channels). Channels are the color components stored for each pixel. For an RGB image there are three channels, **R**ed, **G**reen, and **B**lue. A batch of grayscale images is also 3D (batch × height × width). Choosing 3D makes these axes explicit, which simplifies vectorized operations and avoids writing loops."
   ]
  },
  {
   "cell_type": "markdown",
   "id": "4dcbee2f-85a0-45b5-a056-19b4ae19713e",
   "metadata": {},
   "source": [
    "Think of a 3D array as a stack of 2D tables (matrices). Each table has rows and columns (2D), when you stack multiple tables on top of eachother, another dimension is added."
   ]
  },
  {
   "cell_type": "code",
   "execution_count": 48,
   "id": "8423a5e0-5973-4e3a-b180-7d3ad918e0b4",
   "metadata": {},
   "outputs": [
    {
     "name": "stdout",
     "output_type": "stream",
     "text": [
      "[[[ 1  2  3  4]\n",
      "  [ 5  6  7  8]\n",
      "  [ 9 10 11 12]]\n",
      "\n",
      " [[13 14 15 16]\n",
      "  [17 18 19 20]\n",
      "  [21 22 23 24]]]\n"
     ]
    }
   ],
   "source": [
    "# A 3D array: 2 \"tables\", each with 3 rows and 4 columns.\n",
    "arr3 = np.array([\n",
    "    # Table 1\n",
    "    [[1, 2, 3, 4],\n",
    "     [5, 6, 7, 8],\n",
    "     [9, 10, 11, 12]],\n",
    "\n",
    "    # Table 2\n",
    "    [[13, 14, 15, 16],\n",
    "     [17, 18, 19, 20],\n",
    "     [21, 22, 23, 24]]\n",
    "])\n",
    "print(arr3)"
   ]
  },
  {
   "cell_type": "markdown",
   "id": "e47587da-ff97-4000-ab35-cd392174be93",
   "metadata": {},
   "source": [
    "## Common Arrays:\n",
    "Instead of typing out every element individually by hand, an efficent feature of NumPy is that it can generate arrays for you. Here's some of the most common ones:\n",
    "1. `np.array([...])`\n",
    "2. **Constant arrays:**\n",
    "   - `np.zeros()`\n",
    "   - `np.ones()`\n",
    "   - `np.full()`\n",
    "3. `np.arange(start, stop, step)`\n",
    "4.  `np.linspace(start, stop, num)`"
   ]
  },
  {
   "cell_type": "markdown",
   "id": "d15f7ff8-a75a-4b6e-a8ff-86752650b4b9",
   "metadata": {},
   "source": [
    "#### **np.array()**\n",
    "This array is from the Python list; we've seen this used previously when learning multi-dimensional arrays. Each pair of brackets `[...]` adds a new dimension. So a 1D list is a vector, a list of lists is a 2D matrix, a list of lists of lists is 3D, and so on.\n",
    "\n",
    "`np.array()` can create arrays of any number of dimensions, depending on the structure of the input you give it. "
   ]
  },
  {
   "cell_type": "code",
   "execution_count": 49,
   "id": "cf4070b0-3a9e-4dec-980f-b8c2378a846d",
   "metadata": {},
   "outputs": [],
   "source": [
    "# 1D\n",
    "a = np.array([1, 2, 3])\n",
    "\n",
    "# 2D\n",
    "b = np.array([[1, 2, 3],\n",
    "              [4, 5, 6]])\n",
    "\n",
    "# 3D\n",
    "c = np.array([ [[1, 2], [3, 4]],\n",
    "               [[5, 6], [7, 8]] ])"
   ]
  },
  {
   "cell_type": "markdown",
   "id": "f73b7834-8993-4229-a6d9-0eb70d7005bd",
   "metadata": {},
   "source": [
    "#### **Constant Arrays (zeros, ones, full)**\n",
    "Constant arrays are super useful for quickly creating arrays filled with zeros or ones of any shape you want. When you prepare data or build simple baselines, you often need an array that starts at a known constant value, then you fill or update it later. NumPy makes this simple: use `np.zeros(shape)` to allocate an array of zeros; `np.ones(shape)` works the same way but fills with ones; and `np.full(shape, value)` lets you choose any constant. The API is identical across all three, only the fill value changes. In machine learning, these are handy for things like placeholder predictions, masks, padding, or bias columns."
   ]
  },
  {
   "cell_type": "markdown",
   "id": "ee628834-87ff-4095-9ced-b63fb2f0ee78",
   "metadata": {},
   "source": [
    "***How do we create these arrays?***\n",
    "\n",
    "The structure for this is `np.zeros(shape)`, where `shape` is the dimensions of the array you want NumPy to build. The same applies for `np.ones` and `np.full`."
   ]
  },
  {
   "cell_type": "code",
   "execution_count": 50,
   "id": "07add490-0eca-4a7e-ad36-a223017fbf14",
   "metadata": {},
   "outputs": [
    {
     "name": "stdout",
     "output_type": "stream",
     "text": [
      "a:\n",
      " [0. 0. 0. 0. 0.]\n",
      "b:\n",
      " [[1. 1. 1.]\n",
      " [1. 1. 1.]]\n",
      "c:\n",
      " [[[7 7]\n",
      "  [7 7]]\n",
      "\n",
      " [[7 7]\n",
      "  [7 7]]]\n"
     ]
    }
   ],
   "source": [
    "# 1D array of 5 zeros\n",
    "a = np.zeros(5) \n",
    "\n",
    "# 2D array (2 rows, 3 columns)\n",
    "b = np.ones((2, 3))   \n",
    "\n",
    "# 3D array (2 tables, 2 rows, 2 columns)\n",
    "c = np.full((2, 2, 2), 7)\n",
    "\n",
    "print(\"a:\\n\", a)\n",
    "print(\"b:\\n\", b)\n",
    "print(\"c:\\n\", c)"
   ]
  },
  {
   "cell_type": "markdown",
   "id": "f33eaa26-562e-4c55-bbca-05b0b0765360",
   "metadata": {},
   "source": [
    "#### **Exercise:** Creating Multi-Dimensional & Constant Number Arrays"
   ]
  },
  {
   "cell_type": "markdown",
   "id": "a9af8a2a-6000-4343-aec8-c147eeb78c0d",
   "metadata": {},
   "source": [
    "Try it out by completing the following tasks.\n",
    "\n",
    "**Task:**\n",
    "1. Create a `5x5` array of all zeros.\n",
    "2. Create a `2x3` array of all ones.\n",
    "3. Create a `2x2x2` array filled with 5.\n",
    "4. Create a 3D array with 2 layers, each layer is 2×3:\n",
    "\n",
    "layer 0 → `[[100, 101, 102], [103, 104, 105]]`\n",
    "\n",
    "layer 1 → `[[200, 201, 202], [203, 204, 205]]`\n",
    "\n",
    "5. Print each array.\n",
    "\n",
    "Use the starter code provided below:"
   ]
  },
  {
   "cell_type": "code",
   "execution_count": 51,
   "id": "faf99291-fe3e-487e-a5f2-80da7257b501",
   "metadata": {},
   "outputs": [
    {
     "name": "stdout",
     "output_type": "stream",
     "text": [
      "a: [[11, 12, 13], [14, 15, 16]]\n"
     ]
    }
   ],
   "source": [
    "# Starter Code\n",
    "\n",
    "import numpy as np\n",
    "\n",
    "# 1. Create a 5x5 array of zeros\n",
    "a = ___\n",
    "print(\"a:\", a)"
   ]
  },
  {
   "cell_type": "code",
   "execution_count": 52,
   "id": "a07a4ce7-e18e-4e6c-9437-5e040183898e",
   "metadata": {},
   "outputs": [
    {
     "name": "stdout",
     "output_type": "stream",
     "text": [
      "b: [[11, 12, 13], [14, 15, 16]]\n"
     ]
    }
   ],
   "source": [
    "# 2. Create a 4x3 array of ones\n",
    "b = ___\n",
    "print(\"b:\", b)"
   ]
  },
  {
   "cell_type": "code",
   "execution_count": 53,
   "id": "af87810d-f9b2-4915-b353-6f544d0850dd",
   "metadata": {},
   "outputs": [
    {
     "name": "stdout",
     "output_type": "stream",
     "text": [
      "c: [[11, 12, 13], [14, 15, 16]]\n"
     ]
    }
   ],
   "source": [
    "# 3. Create a 3x3x3 array filled with 5\n",
    "c = ___\n",
    "print(\"c:\", c)"
   ]
  },
  {
   "cell_type": "code",
   "execution_count": 54,
   "id": "a1c6ce65-8a40-4cf6-9e9b-9eac807e0b87",
   "metadata": {},
   "outputs": [
    {
     "name": "stdout",
     "output_type": "stream",
     "text": [
      "3D: [[11, 12, 13], [14, 15, 16]]\n"
     ]
    }
   ],
   "source": [
    "# 4. 3D: 2 layers, each 2x3\n",
    "a3 = __\n",
    "print(\"3D:\", a3)"
   ]
  },
  {
   "cell_type": "markdown",
   "id": "a800ddd6-552c-4e1f-a32e-d0460d861e33",
   "metadata": {},
   "source": [
    "**SOLUTION**\n",
    "\n",
    "***Pause here and try it yourself before scrolling down.***"
   ]
  },
  {
   "cell_type": "code",
   "execution_count": 55,
   "id": "5d892633-b385-402c-927d-aa13253383f8",
   "metadata": {},
   "outputs": [],
   "source": [
    "# 1.\n",
    "a = np.zeros((5, 5))\n",
    "\n",
    "# 2.\n",
    "b = np.ones((4, 3))\n",
    "\n",
    "# 3.\n",
    "c = np.full((3, 3, 3), 5)\n",
    "\n",
    "# 4.\n",
    "a3 = np.array([\n",
    "    [[100, 101, 102], [103, 104, 105]],\n",
    "    [[200, 201, 202], [203, 204, 205]],\n",
    "])"
   ]
  },
  {
   "cell_type": "code",
   "execution_count": 56,
   "id": "11157c37-00b4-4120-b26a-0034e9215616",
   "metadata": {},
   "outputs": [
    {
     "name": "stdout",
     "output_type": "stream",
     "text": [
      "a: [[0. 0. 0. 0. 0.]\n",
      " [0. 0. 0. 0. 0.]\n",
      " [0. 0. 0. 0. 0.]\n",
      " [0. 0. 0. 0. 0.]\n",
      " [0. 0. 0. 0. 0.]]\n"
     ]
    }
   ],
   "source": [
    "# 5.\n",
    "print(\"a:\", a)"
   ]
  },
  {
   "cell_type": "code",
   "execution_count": 57,
   "id": "4ffa51ea-a0d6-4a8f-98ad-4d7f90778101",
   "metadata": {},
   "outputs": [
    {
     "name": "stdout",
     "output_type": "stream",
     "text": [
      "b: [[1. 1. 1.]\n",
      " [1. 1. 1.]\n",
      " [1. 1. 1.]\n",
      " [1. 1. 1.]]\n"
     ]
    }
   ],
   "source": [
    "print(\"b:\", b)"
   ]
  },
  {
   "cell_type": "code",
   "execution_count": 58,
   "id": "9e4d3384-722c-4c6f-b721-16c80ae81ab8",
   "metadata": {},
   "outputs": [
    {
     "name": "stdout",
     "output_type": "stream",
     "text": [
      "c: [[[5 5 5]\n",
      "  [5 5 5]\n",
      "  [5 5 5]]\n",
      "\n",
      " [[5 5 5]\n",
      "  [5 5 5]\n",
      "  [5 5 5]]\n",
      "\n",
      " [[5 5 5]\n",
      "  [5 5 5]\n",
      "  [5 5 5]]]\n"
     ]
    }
   ],
   "source": [
    "print(\"c:\", c)"
   ]
  },
  {
   "cell_type": "code",
   "execution_count": 59,
   "id": "cd4b736c-8292-4ab8-a575-fc3b6ecdf1c7",
   "metadata": {},
   "outputs": [
    {
     "name": "stdout",
     "output_type": "stream",
     "text": [
      "3D: [[[100 101 102]\n",
      "  [103 104 105]]\n",
      "\n",
      " [[200 201 202]\n",
      "  [203 204 205]]]\n"
     ]
    }
   ],
   "source": [
    "print(\"3D:\", a3)"
   ]
  },
  {
   "cell_type": "markdown",
   "id": "22cdc9b2-de5d-4e41-8344-d019f4d5e8fd",
   "metadata": {},
   "source": [
    "#### **np.arange()**\n",
    "Now lets move onto creating sequences!\n",
    "\n",
    "`np.arange(start, stop, step)` creates values by stepping from start up to but not including stop. It’s most natural when you care about the step size, like “give me every 2nd number from 0 to 10,” which would be `np.arange(0, 10, 2)` → `0, 2, 4, 6, 8`. It’s great for integer sequences. With floating steps, tiny rounding errors can appear, so the last value may not land exactly where you expect. It’s the fastest way to make arrays of consecutive numbers or evenly spaced numbers without typing them out manually. They also work with any step size, you can make arrays that skip numbers (like evens, odds, multiples of 3, etc.) or even count backwards.\n",
    "\n",
    "- `start` &rarr; where the sequence begins (default = 0).\n",
    "- `stop` &rarr; where the sequence ends (no default).\n",
    "- `step` &rarr; how much to increase each time (default = 1)."
   ]
  },
  {
   "cell_type": "markdown",
   "id": "14e5d736-1642-4f4b-aac8-aa865dbcb7ef",
   "metadata": {},
   "source": [
    "*Reminder:* Arrays start from 0, meaning the elements in the array will always be n-1."
   ]
  },
  {
   "cell_type": "code",
   "execution_count": 60,
   "id": "4c3008af-0188-4d95-872c-0e4351f98ad5",
   "metadata": {},
   "outputs": [
    {
     "name": "stdout",
     "output_type": "stream",
     "text": [
      "a: [ 0  1  2  3  4  5  6  7  8  9 10 11 12 13 14 15 16 17 18 19 20 21 22 23\n",
      " 24 25 26 27 28 29 30 31 32 33 34 35 36 37 38 39 40 41 42 43 44 45 46 47\n",
      " 48 49 50 51 52 53 54 55 56 57 58 59 60 61 62 63 64 65 66 67 68 69 70 71\n",
      " 72 73 74 75 76 77 78 79 80 81 82 83 84 85 86 87 88 89 90 91 92 93 94 95\n",
      " 96 97 98 99]\n",
      "b: [ 0  3  6  9 12]\n",
      "c: [ 5  4  3  2  1  0 -1 -2 -3 -4]\n",
      "d: [ 2  4  6  8 10 12]\n"
     ]
    }
   ],
   "source": [
    "# Sequence:\n",
    "# 0 up to (but not including) 100.\n",
    "a = np.arange(0, 100)  \n",
    "\n",
    "# Sequence by any step size:\n",
    "# Start = 0, stop = 15 (ends at 12), step = 3.\n",
    "b = np.arange(0, 15, 3)  \n",
    "\n",
    "# Counting down:\n",
    "# De-increment by 1.\n",
    "c = np.arange(5, -5, -1)\n",
    "\n",
    "# Counting up by even numbers:\n",
    "# Start = 2, end = 13 (ends at 12), step = 2.\n",
    "d = np.arange(2, 13, 2)\n",
    "\n",
    "print(\"a:\", a)\n",
    "print(\"b:\", b)\n",
    "print(\"c:\", c)\n",
    "print(\"d:\", d)"
   ]
  },
  {
   "cell_type": "markdown",
   "id": "9adad62f-ccc3-4f0d-ba7a-ca0b5af832de",
   "metadata": {},
   "source": [
    "#### **np.linspace()**\n",
    "\n",
    "`np.linspace(start, stop, num)` creates exactly `num` evenly spaced values between start and stop. It’s the right choice when you care about how many points you get (for example, generating x-values for a plot), which is very common in math/engineering/CS when you need smooth ranges for graphs. \n",
    "- `start` &rarr; where the sequence begins (inclusive by default).\n",
    "- `stop` &rarr; where the sequence ends (inclusive by default).\n",
    "- `num` &rarr; how many pieces to generate (default = 50).\n",
    "\n",
    "Then it gives you all the marks where it's split."
   ]
  },
  {
   "cell_type": "code",
   "execution_count": 61,
   "id": "fe69148b-f3b9-421a-a4bd-d11d360b2fdf",
   "metadata": {},
   "outputs": [
    {
     "name": "stdout",
     "output_type": "stream",
     "text": [
      "[ 0.   2.5  5.   7.5 10. ]\n"
     ]
    }
   ],
   "source": [
    "# Split the line from 0 to 10 into 5 equal parts\n",
    "# This array starts at 0, stops at 10, and has 5 pieces.\n",
    "\n",
    "arr = np.linspace(0, 10, 5)\n",
    "print(arr)\n"
   ]
  },
  {
   "cell_type": "markdown",
   "id": "0c6a9800-432c-4132-b15d-980d48b30648",
   "metadata": {},
   "source": [
    "***When should you use `.arange` vs `linspace`?***\n",
    "- Use `.arange` when you know the **step size** you want.\n",
    "- Use `.linspace` when you know the **number of points** you want."
   ]
  },
  {
   "cell_type": "markdown",
   "id": "1c05ab96-a3c6-45c7-bb4e-e1c07911e483",
   "metadata": {},
   "source": [
    "## Inspecting Arrays"
   ]
  },
  {
   "cell_type": "markdown",
   "id": "12760202-6c19-418f-971a-5d6264fdda7f",
   "metadata": {},
   "source": [
    "This section will look at the metadata of an array (not just the numbers inside it). That way, when working with bigger data later, you know how to read and deal with the information.\n",
    "\n",
    "**When you create arrays, its important to know:**\n",
    "- `.shape` &rarr; the size in each dimension (rows, cols, …)\n",
    "- `.ndim` &rarr; number of dimensions (1D vector, 2D matrix, etc.)\n",
    "- `.size` &rarr; total number of elements in array,\n",
    "- `.dtype` &rarr; type of values inside the array (integers, floats, etc.)"
   ]
  },
  {
   "cell_type": "markdown",
   "id": "ea3aa70b-5ea4-4075-bd5e-28807c862653",
   "metadata": {},
   "source": [
    "***Why is `shape` important?***\n",
    "\n",
    "When NumPy code doesn’t behave the way you expect, the first thing to check is the array’s `shape`. The shape attribute shows the structure of an array, meaning how many rows, columns, or higher dimensions it has. This is important because NumPy operations often require arrays to have matching or compatible shapes. Most NumPy errors come from shape mismatches."
   ]
  },
  {
   "cell_type": "code",
   "execution_count": 62,
   "id": "3e924f0f-6888-4299-b709-72d1310771fb",
   "metadata": {},
   "outputs": [
    {
     "name": "stdout",
     "output_type": "stream",
     "text": [
      "2D Shape: (2, 3)\n"
     ]
    }
   ],
   "source": [
    "import numpy as np\n",
    "\n",
    "# 2 rows, 3 columns\n",
    "arr2d = np.array([[1, 2, 3],\n",
    "                [4, 5, 6]])\n",
    "print(\"2D Shape:\", arr2d.shape)   # (2, 3)"
   ]
  },
  {
   "cell_type": "markdown",
   "id": "73c06518-8946-4002-8449-9116c377a2f4",
   "metadata": {},
   "source": [
    "**How do we read the shape of a 3D array?**"
   ]
  },
  {
   "cell_type": "code",
   "execution_count": 63,
   "id": "952cc94b-969d-4d28-ba15-3621c4835ea3",
   "metadata": {},
   "outputs": [
    {
     "name": "stdout",
     "output_type": "stream",
     "text": [
      "3D Shape: (2, 3, 4)\n"
     ]
    }
   ],
   "source": [
    "arr3d = np.array([\n",
    "    [[ 1,  2,  3,  4],\n",
    "     [ 5,  6,  7,  8],\n",
    "     [ 9, 10, 11, 12]],\n",
    "\n",
    "    [[13, 14, 15, 16],\n",
    "     [17, 18, 19, 20],\n",
    "     [21, 22, 23, 24]]\n",
    "])\n",
    "print(\"3D Shape:\", arr3d.shape) # (2, 3, 4)"
   ]
  },
  {
   "cell_type": "markdown",
   "id": "26367456-5f7b-4b78-8815-e7f1b088348b",
   "metadata": {},
   "source": [
    "In this 3D array:\n",
    "- 2 &rarr; shows the number of \"tables\" (or layers in the stack).\n",
    "- 3 &rarr; shows the number of rows in each table.\n",
    "- 4 &rarr; shows the number of columns in each table."
   ]
  },
  {
   "cell_type": "markdown",
   "id": "373ae74d-80ca-404a-b0e4-46e2769c8fcf",
   "metadata": {},
   "source": [
    "**Vector `(N,)` vs Column vector `(N, 1)`**\n",
    "\n",
    "A 1D vector has shape `(N,)`; a column vector has shape `(N, 1)`. They print similarly but behave differently. The first has one axis; the second has two axes with one colum. This distinction matters for broadcasting and matrix-style math: adding a `(N,)` vector to a 2D matrix stretches across columns, while adding a `(N, 1)` column stretches down rows. Knowing which one you have prevents surprises in element-wise math and linear-algebra code."
   ]
  },
  {
   "cell_type": "markdown",
   "id": "439fa7cf-dbf4-4e23-88e9-be034e769184",
   "metadata": {},
   "source": [
    "***Why is `size` important?***\n",
    "\n",
    "The `size` attribute tells you the total number of elements inside the array. This is useful for double-checking that you created the expected amount of data and for estimating how much memory the array might use."
   ]
  },
  {
   "cell_type": "code",
   "execution_count": 64,
   "id": "d15d7af8-47bd-4c48-8923-c97620e594fc",
   "metadata": {},
   "outputs": [
    {
     "name": "stdout",
     "output_type": "stream",
     "text": [
      "5\n"
     ]
    }
   ],
   "source": [
    "# total of 6 elements\n",
    "print(arr.size)   # 6"
   ]
  },
  {
   "cell_type": "markdown",
   "id": "679326c2-d7be-44e7-bc46-fe20fa08c079",
   "metadata": {},
   "source": [
    "***Why is `ndim` important?***\n",
    "\n",
    "The `ndim` attribute shows how many dimensions the array has. Knowing the number of dimensions helps you understand the structure of your data."
   ]
  },
  {
   "cell_type": "code",
   "execution_count": 65,
   "id": "00805bd8-127e-439f-bd1a-eead0a43ac09",
   "metadata": {},
   "outputs": [
    {
     "name": "stdout",
     "output_type": "stream",
     "text": [
      "1\n"
     ]
    }
   ],
   "source": [
    "# this is a 2D array\n",
    "print(arr.ndim)   # 2"
   ]
  },
  {
   "cell_type": "markdown",
   "id": "5d55eb4a-5808-4f0b-b103-76622fc79726",
   "metadata": {},
   "source": [
    "***Why is `dtype` important?***\n",
    "\n",
    "The `dtype` attribute tells you what kind of values are stored in the array, such as integers, floating-point numbers, or booleans. Names like `int8`, `int32`, `float32`, `float64` tell you how many bits are used per element. More bits &rarr; more memory per value, but a larger integer range or more decimal precision for floats. This matters because it determines the precision of calculations and whether certain operations can be carried out without errors. "
   ]
  },
  {
   "cell_type": "code",
   "execution_count": 66,
   "id": "69bed734-6cf8-4cab-a9cb-5e3faf6bbfbf",
   "metadata": {},
   "outputs": [
    {
     "name": "stdout",
     "output_type": "stream",
     "text": [
      "float64\n"
     ]
    }
   ],
   "source": [
    "print(arr.dtype)   # int64"
   ]
  },
  {
   "cell_type": "markdown",
   "id": "0ee99ee9-cc5d-4ef6-9727-f1c454ecbe36",
   "metadata": {},
   "source": [
    "## Indexing & Slicing"
   ]
  },
  {
   "cell_type": "markdown",
   "id": "03613f3d-e567-4372-976b-ee4a23b3cf2c",
   "metadata": {},
   "source": [
    "***Why is indexing useful?***\n",
    "\n",
    "Indexing is important because real-world datasets are often very large. Being able to directly access one value, or a whole row, or column, at once without looping through the entire array makes NumPy code both faster and simpler. It also lets you pick out exactly the data you need from an array. Instead of working with the whole dataset, you can zoom in on specific values or smaller parts.\n",
    "\n",
    "***How do we use indexing?***\n",
    "\n",
    "In a 1D array, indexing works the same as a list:"
   ]
  },
  {
   "cell_type": "code",
   "execution_count": 67,
   "id": "b7849e44-8b89-415c-94f7-4ead0bb956d5",
   "metadata": {},
   "outputs": [
    {
     "name": "stdout",
     "output_type": "stream",
     "text": [
      "10\n",
      "30\n"
     ]
    }
   ],
   "source": [
    "import numpy as np\n",
    "arr = np.array([10, 20, 30])\n",
    "print(arr[0])  # gives 10\n",
    "print(arr[2])  # gives 30"
   ]
  },
  {
   "cell_type": "markdown",
   "id": "8c33b34a-a636-4ac0-8bf6-b839f5adb91f",
   "metadata": {},
   "source": [
    "Now, let's look into how indexing works with multi-dimensional arrays:\n",
    "\n",
    "In a 2D array you index with `arr[row, column]`: the first number moves **down** the rows and the second moves **across** the columns, with counting starting at 0. For the array below, `arr2d[1, 2]` selects row 1 then column 2, which is `6`."
   ]
  },
  {
   "cell_type": "code",
   "execution_count": 68,
   "id": "1cc93311-108c-4442-a7ed-f3c8a9e56f0f",
   "metadata": {},
   "outputs": [
    {
     "name": "stdout",
     "output_type": "stream",
     "text": [
      "2\n",
      "6\n"
     ]
    }
   ],
   "source": [
    "arr2d = np.array([[1, 2, 3],\n",
    "                  [4, 5, 6]])\n",
    "print(arr2d[0, 1])  # row 0, col 1: result = 2\n",
    "print(arr2d[1, 2])  # row 1, col 2: result = 6\n"
   ]
  },
  {
   "cell_type": "markdown",
   "id": "6fce7c6e-d152-44c9-ae5f-d4199684320e",
   "metadata": {},
   "source": [
    "In 3D arrays you need three indices: `arr[table, row, column]`. Indexing 3D arrays is similar to indexing 2D arrays. The only difference is that we are now adding depth, or multiple tables. \n",
    "\n",
    "The first index picks which 2D slice (table) you’re on, the second moves down the rows within that table, and the third moves across the columns."
   ]
  },
  {
   "cell_type": "code",
   "execution_count": 69,
   "id": "f5392cc8-3763-4079-9e43-47f28fce8b3d",
   "metadata": {},
   "outputs": [
    {
     "name": "stdout",
     "output_type": "stream",
     "text": [
      "1\n",
      "6\n",
      "8\n",
      "12\n"
     ]
    }
   ],
   "source": [
    "arr3d = np.array([\n",
    "    [[1, 2, 3],\n",
    "     [4, 5, 6]],\n",
    "\n",
    "    [[7, 8, 9],\n",
    "     [10, 11, 12]]\n",
    "])\n",
    "\n",
    "# selects the first table’s first row and first column\n",
    "print(arr3d[0, 0, 0]) # 1\n",
    "\n",
    "# selects the first table’s second row and third column \n",
    "print(arr3d[0, 1, 2]) # 6\n",
    "\n",
    "# picks the second table’s first row and second column \n",
    "print(arr3d[1, 0, 1]) # 8\n",
    "\n",
    "# picks the second table’s second row and third column \n",
    "print(arr3d[1, 1, 2]) # 12"
   ]
  },
  {
   "cell_type": "markdown",
   "id": "d6894978-edb7-43b6-abea-67284faeddc6",
   "metadata": {},
   "source": [
    "***What is Slicing?***\n",
    "\n",
    "Slicing lets you take a **sub-array** along any dimension without writing loops. You use it to grab a row or column, select a window of features, crop an image patch, or split a dataset by ranges. It’s faster than looping in plain Python because NumPy does the work in optimized C.\n",
    "\n",
    "The basic pattern is:\n",
    "`array[start:stop:step]`\n",
    "- start &rarr; where to begin (index number, default = 0)\n",
    "- stop &rarr; where to end (but it does not include this index)\n",
    "- step &rarr; how much to skip each time (default = 1)\n",
    "\n",
    "**Let's look at how we apply this:**\n",
    "\n",
    "In 1D, a slice is `a[start:stop:step]`. It returns a new view that walks from `start` up to but not including `stop`, jumping by `step`. This is the fastest way to take ranges or every n-th element without loops. Removing a value reverts it to that values default."
   ]
  },
  {
   "cell_type": "code",
   "execution_count": 70,
   "id": "ada1180f-98fe-47a0-8c21-67408a3f9342",
   "metadata": {},
   "outputs": [
    {
     "name": "stdout",
     "output_type": "stream",
     "text": [
      "[20 30 40]\n",
      "[10 20 30]\n",
      "[10 30 50]\n"
     ]
    }
   ],
   "source": [
    "import numpy as np\n",
    "\n",
    "a = np.array([10, 20, 30, 40, 50])\n",
    "\n",
    "# elements at indices 1,2,3,\n",
    "print(a[1:4])     # [20 30 40]\n",
    "\n",
    "# first 3 elements\n",
    "print(a[:3])      # [10 20 30]\n",
    "\n",
    "# every 2nd element\n",
    "print(a[::2])     # [10 30 50]\n"
   ]
  },
  {
   "cell_type": "markdown",
   "id": "9215cd5f-b093-4b41-855e-2aaf1168ba71",
   "metadata": {},
   "source": [
    "In 2D, slicing uses two parts: `arr[row_slice, col_slice]`. The first piece chooses rows; the second piece chooses columns. A lone `:` means “take everything” along that axis. This lets you grab full rows or columns, crop a sub-table, or keep every other column with no loops required."
   ]
  },
  {
   "cell_type": "code",
   "execution_count": 71,
   "id": "41bcf642-2077-4d05-bd4d-8abcfc94d41c",
   "metadata": {},
   "outputs": [
    {
     "name": "stdout",
     "output_type": "stream",
     "text": [
      "[[2 3]\n",
      " [5 6]]\n",
      "[1 4 7]\n",
      "[4 5 6]\n"
     ]
    }
   ],
   "source": [
    "b = np.array([[1, 2, 3],\n",
    "              [4, 5, 6],\n",
    "              [7, 8, 9]])\n",
    "\n",
    "# rows 0–1, columns 1–2\n",
    "print(b[0:2, 1:3]) \n",
    "# [[2 3]\n",
    "#  [5 6]]\n",
    "\n",
    "# all rows, first column\n",
    "print(b[:, 0])    # [1 4 7]\n",
    "\n",
    "# entire second row \n",
    "print(b[1, :])    # [4 5 6]\n"
   ]
  },
  {
   "cell_type": "markdown",
   "id": "1c17d754-ad02-4d92-bca9-88f4ce002c7a",
   "metadata": {},
   "source": [
    "A 3D array adds one more axis; `arr[table_slice, row_slice, col_slice]`, where the first piece picks which 2D tables you want, the second piece picks rows inside those tables, and the third piece picks columns. The same `start:stop:step` rules apply, and `:` still means “take everything” on that axis."
   ]
  },
  {
   "cell_type": "code",
   "execution_count": 72,
   "id": "8dc6bd52-5818-49f3-90a6-01dfa25c64cc",
   "metadata": {},
   "outputs": [
    {
     "name": "stdout",
     "output_type": "stream",
     "text": [
      "[[[ 1  2  3]\n",
      "  [ 4  5  6]]\n",
      "\n",
      " [[ 7  8  9]\n",
      "  [10 11 12]]]\n",
      "[2 5]\n",
      "[[ 7  8]\n",
      " [10 11]]\n"
     ]
    }
   ],
   "source": [
    "c = np.array([\n",
    "    [[1, 2, 3],\n",
    "     [4, 5, 6]],\n",
    "\n",
    "    [[7, 8, 9],\n",
    "     [10,11,12]]\n",
    "])\n",
    "\n",
    "# both tables, first two rows, all columns\n",
    "print(c[:, 0:2, :])\n",
    "\n",
    "# first table, all rows, column 1 -> [2 5]\n",
    "print(c[0, :, 1])     \n",
    "\n",
    "# second table, all rows, first two columns\n",
    "print(c[1, :, :2])    \n"
   ]
  },
  {
   "cell_type": "markdown",
   "id": "5318cbd7-67c5-4b52-9a35-3df5aa3de9e0",
   "metadata": {},
   "source": [
    "#### **Exercise:** Indexing & Slicing 3D Arrays"
   ]
  },
  {
   "cell_type": "markdown",
   "id": "3eddb73c-b12d-49aa-95f1-e85404e0d974",
   "metadata": {},
   "source": [
    "Using the array provided below, complete the following tasks:"
   ]
  },
  {
   "cell_type": "markdown",
   "id": "c4fde26c-6396-49f3-828e-304dd6287d08",
   "metadata": {},
   "source": [
    "**Task**\n",
    "1. Use indexing to get the element in the second table, second row, third column.\n",
    "2. Use slicing to print the entire first table.\n",
    "3. Use slicing to print the last row from each table.\n",
    "4. Use slicing to print the second column from each table.\n",
    "5. Combine indexing and slicing to print the last 2 rows and last 2 columns from both tables."
   ]
  },
  {
   "cell_type": "code",
   "execution_count": 73,
   "id": "9a28334b-d2b0-42e6-9468-951ece5ec11d",
   "metadata": {},
   "outputs": [],
   "source": [
    "arr3d = np.array([\n",
    "    [[ 1,  2,  3],\n",
    "     [ 4,  5,  6],\n",
    "     [ 7,  8,  9]],\n",
    "\n",
    "    [[10, 11, 12],\n",
    "     [13, 14, 15],\n",
    "     [16, 17, 18]]\n",
    "])"
   ]
  },
  {
   "cell_type": "code",
   "execution_count": 74,
   "id": "d9c73072-a6b8-4087-8587-866c57036197",
   "metadata": {},
   "outputs": [],
   "source": [
    "# 1. Use indexing to get the element in the second table, second row, third column."
   ]
  },
  {
   "cell_type": "code",
   "execution_count": 75,
   "id": "0e0a5258-e20e-4423-bebd-0f7e3a6488f1",
   "metadata": {},
   "outputs": [],
   "source": [
    "# 2. Use slicing to print the entire first table."
   ]
  },
  {
   "cell_type": "code",
   "execution_count": 76,
   "id": "d158c8f7-c96b-4f88-af46-7ee40d32705a",
   "metadata": {},
   "outputs": [],
   "source": [
    "# 3. Use slicing to print the last row from each table."
   ]
  },
  {
   "cell_type": "code",
   "execution_count": 77,
   "id": "a0cc8c0e-312c-4868-9293-cec127b01990",
   "metadata": {},
   "outputs": [],
   "source": [
    "# 4. Use slicing to print the second column from each table."
   ]
  },
  {
   "cell_type": "code",
   "execution_count": 78,
   "id": "a75c01df-4e58-4fe3-ad58-2113d300c951",
   "metadata": {},
   "outputs": [],
   "source": [
    "# 5. Combine indexing and slicing to print the last 2 rows and last 2 columns from both tables."
   ]
  },
  {
   "cell_type": "markdown",
   "id": "93bc58a2-ab60-43d9-93ad-7a0a6ecc021d",
   "metadata": {},
   "source": [
    "**SOLUTION**\n",
    "\n",
    "***Pause here and try it yourself before scrolling down.***"
   ]
  },
  {
   "cell_type": "code",
   "execution_count": 79,
   "id": "9a5a312d-ced4-4c4a-8776-dec4fa1b231f",
   "metadata": {},
   "outputs": [
    {
     "name": "stdout",
     "output_type": "stream",
     "text": [
      "1.\n",
      "15\n",
      "2.\n",
      "[[1 2 3]\n",
      " [4 5 6]\n",
      " [7 8 9]]\n",
      "3.\n",
      "[[ 7  8  9]\n",
      " [16 17 18]]\n",
      "4.\n",
      "[[ 2  5  8]\n",
      " [11 14 17]]\n",
      "5.\n",
      "[[[ 5  6]\n",
      "  [ 8  9]]\n",
      "\n",
      " [[14 15]\n",
      "  [17 18]]]\n"
     ]
    }
   ],
   "source": [
    "# 1. Specific element (table 1, row 1, col 2)\n",
    "print(\"1.\")\n",
    "print(arr3d[1, 1, 2]) \n",
    "\n",
    "# 2. Entire first table\n",
    "print(\"2.\")\n",
    "print(arr3d[0, :, :])\n",
    "\n",
    "# 3. Last row from each table\n",
    "print(\"3.\")\n",
    "print(arr3d[:, 2, :])\n",
    "\n",
    "# 4. Second column from each table\n",
    "print(\"4.\")\n",
    "print(arr3d[:, :, 1])\n",
    "\n",
    "# 5. Last 2 rows and last 2 columns from both tables\n",
    "print(\"5.\")\n",
    "print(arr3d[:, 1:3, 1:3])"
   ]
  },
  {
   "cell_type": "markdown",
   "id": "86c31489-f8fe-4d4e-b456-99e44f2200ff",
   "metadata": {},
   "source": [
    "## Element-Wise Operations"
   ]
  },
  {
   "cell_type": "markdown",
   "id": "b95a2d34-45ea-4ecc-a331-dc9385328801",
   "metadata": {},
   "source": [
    "***What is an element-wise operation?***\n"
   ]
  },
  {
   "cell_type": "markdown",
   "id": "f96c167e-1789-426f-8cd1-6ce17d777f96",
   "metadata": {},
   "source": [
    "NumPy arrays are designed so that when you use standard math symbols (+, -, *, /, etc.), the operation is applied to each element individually, not to the array as a whole. **This is called element-wise operations.** Element-wise operation applies the same math to each matching position in two arrays. For this to work, the **shapes must be exactly the same** so NumPy can line up element with the element in the same position in the other array. *If your shapes don’t match, save that for the next part (broadcasting), where we’ll see how NumPy handles it without loops.*"
   ]
  },
  {
   "cell_type": "markdown",
   "id": "ba1b383f-88d2-4021-bcee-7eb74d429be4",
   "metadata": {},
   "source": [
    "***Element-wise Examples:***"
   ]
  },
  {
   "cell_type": "code",
   "execution_count": 80,
   "id": "599937cb-143c-40d9-b332-a35cba0efd04",
   "metadata": {},
   "outputs": [
    {
     "name": "stdout",
     "output_type": "stream",
     "text": [
      "[1 2 3]\n",
      "[10 20 30]\n",
      "\n",
      "Array (a + b):\n",
      " [11 22 33]\n",
      "\n",
      "Array (a * b):\n",
      " [10 40 90]\n"
     ]
    }
   ],
   "source": [
    "import numpy as np\n",
    "\n",
    "a = np.array([1, 2, 3])\n",
    "b = np.array([10, 20, 30])\n",
    "\n",
    "# Arrays\n",
    "print(a)\n",
    "print(b)\n",
    "\n",
    "# Addition\n",
    "print(\"\\nArray (a + b):\\n\",a + b)   # [11 22 33]\n",
    "\n",
    "# Multiplication\n",
    "print(\"\\nArray (a * b):\\n\",a * b)   # [10 40 90]"
   ]
  },
  {
   "cell_type": "markdown",
   "id": "120562fe-9c39-4048-89f9-2b3ea39cc917",
   "metadata": {},
   "source": [
    "**Explanation:** NumPy is adding and multiplying each element above. \n",
    "By performing `a + b`, every element in `a` is being added to the corresponding element in `b`: `1 + 10`, `2 + 20`, `3 + 30`. The same applies to multiplication."
   ]
  },
  {
   "cell_type": "markdown",
   "id": "c1df7c52-92f0-479f-805a-4fde876569b4",
   "metadata": {},
   "source": [
    "#### **Exercise:** Element-Wise Operations\n",
    "\n",
    "You’ve learned how NumPy can apply operations element by element across arrays. Now it’s your turn to practice, complete the following task below.\n",
    "\n",
    "**Task:**\n",
    "1. Create two 2D arrays `a` and `b` of the same shape.\n",
    "2. Print the arrays above.\n",
    "3. Compute and print all element-wise operations."
   ]
  },
  {
   "cell_type": "code",
   "execution_count": 81,
   "id": "e3c6e367-5e20-46db-9aa9-7a6479e3b762",
   "metadata": {},
   "outputs": [],
   "source": [
    "# 1. Create two 2D arrays `a` and `b` of the same shape. They should contain the following elements:\n",
    "#   - Array a -> [[1, 2, 3],\n",
    "#                  4, 5, 6]]\n",
    "#   - Array b -> [[10, 20, 30]\n",
    "#                  40, 50 , 60]]"
   ]
  },
  {
   "cell_type": "code",
   "execution_count": 82,
   "id": "20be3e2c-5b17-4e40-a693-36f7756989ed",
   "metadata": {
    "jp-MarkdownHeadingCollapsed": true
   },
   "outputs": [],
   "source": [
    "# 2. Print the arrays above."
   ]
  },
  {
   "cell_type": "code",
   "execution_count": 83,
   "id": "9eecc711-8db1-4488-945a-9b9423aa2595",
   "metadata": {},
   "outputs": [],
   "source": [
    "# 3. Compute and print all operations: +, -, *, /, and **2."
   ]
  },
  {
   "cell_type": "markdown",
   "id": "e305c82a-4281-40a0-8f7e-7ff86a72cf63",
   "metadata": {},
   "source": [
    "**SOLUTION**\n",
    "\n",
    "***Pause here and try it yourself before scrolling down.***"
   ]
  },
  {
   "cell_type": "code",
   "execution_count": 84,
   "id": "1de27d71-8ea7-4d62-9a96-685fdcec442a",
   "metadata": {},
   "outputs": [
    {
     "name": "stdout",
     "output_type": "stream",
     "text": [
      "a:\n",
      " [[1 2 3]\n",
      " [4 5 6]]\n",
      "\n",
      "b:\n",
      " [[10 20 30]\n",
      " [40 50 60]]\n",
      "\n",
      "a + b =\n",
      " [[11 22 33]\n",
      " [44 55 66]]\n",
      "\n",
      "a - b =\n",
      " [[ -9 -18 -27]\n",
      " [-36 -45 -54]]\n",
      "\n",
      "a * b =\n",
      " [[ 10  40  90]\n",
      " [160 250 360]]\n",
      "\n",
      "a / b =\n",
      " [[0.1 0.1 0.1]\n",
      " [0.1 0.1 0.1]]\n",
      "\n",
      "a ** 2 =\n",
      " [[ 1  4  9]\n",
      " [16 25 36]]\n"
     ]
    }
   ],
   "source": [
    "import numpy as np\n",
    "\n",
    "# Create two arrays\n",
    "a = np.array([[1, 2, 3],\n",
    "              [4, 5, 6]])\n",
    "\n",
    "b = np.array([[10, 20, 30],\n",
    "              [40, 50, 60]])\n",
    "\n",
    "# Print a & b\n",
    "print(\"a:\\n\", a)\n",
    "print(\"\\nb:\\n\", b)\n",
    "\n",
    "# Element-wise operations\n",
    "print(\"\\na + b =\\n\", a + b)       # element-wise addition\n",
    "print(\"\\na - b =\\n\", a - b)       # element-wise subtraction\n",
    "print(\"\\na * b =\\n\", a * b)       # element-wise multiplication\n",
    "print(\"\\na / b =\\n\", a / b)       # element-wise division\n",
    "print(\"\\na ** 2 =\\n\", a ** 2)     # element-wise power\n"
   ]
  },
  {
   "cell_type": "markdown",
   "id": "67418f17",
   "metadata": {},
   "source": [
    "## Broadcasting"
   ]
  },
  {
   "cell_type": "markdown",
   "id": "5d204715",
   "metadata": {},
   "source": [
    "***What is Broadcasting?***"
   ]
  },
  {
   "cell_type": "markdown",
   "id": "45e7026f",
   "metadata": {},
   "source": [
    "Broadcasting is how NumPy lets you write **loop-free, vectorized code** even when array shapes don’t exactly match. During an operation, NumPy can automatically **stretch** any dimension of size `1` (or a missing dimension in a 1D vector) so the shapes line up. **Broadcasting is the set of rules that allow arrays of different shapes to work together in element-wise operations**. Practically, this is why in **linear models** you can score an entire dataset in one expression; `y = X @ w + b`. Broadcasting repeats the bias `b` across all rows. More generally, it lets you add a bias vector to every row, scale/standardize columns, and combine arrays of compatible shapes, with no Python loops needed.\n",
    "\n",
    "***What makes two dimensions compatible?***\n",
    "\n",
    "Two dimensions are compatible if they are equal OR one of them is `1`. All dimensions must be compatible for the operation to proceed."
   ]
  },
  {
   "cell_type": "markdown",
   "id": "1ce62e5a",
   "metadata": {},
   "source": [
    "***Scalars + Arrays***\n",
    "\n",
    "Normally, if you tried to **add a list and a number in plain Python**, it would give you an **error**. This is where NumPy comes into play.\n",
    "\n",
    "NumPy allows you to mix scalars and arrays using broadcasting. A single number is broadcast to every element automatically.\n",
    "- `a` has shape (2,3), `b` is just a scalar with shape( , )."
   ]
  },
  {
   "cell_type": "code",
   "execution_count": 85,
   "id": "f715b373",
   "metadata": {},
   "outputs": [
    {
     "name": "stdout",
     "output_type": "stream",
     "text": [
      "[[11 12 13]\n",
      " [14 15 16]]\n"
     ]
    }
   ],
   "source": [
    "a = np.array([[1, 2, 3],\n",
    "              [4, 5, 6]])\n",
    "\n",
    "b = 10\n",
    "\n",
    "print(a + b) # Scalar b is broadcast across every element of array a"
   ]
  },
  {
   "cell_type": "markdown",
   "id": "98158e30-8f00-4af3-8c69-c0ba38147b70",
   "metadata": {},
   "source": [
    "A scalar has no dimensions. Broadcasting works by **expanding smaller arrays** so their shapes match, so NumPy \"stretches\" the scalar into the same shape as `a`. *This saves you from writing loops or manually copying values.*"
   ]
  },
  {
   "cell_type": "markdown",
   "id": "14a47112-a1e0-4f4a-bbcb-178708aeb9e6",
   "metadata": {},
   "source": [
    "Essentially, it turns `b = 10` into:"
   ]
  },
  {
   "cell_type": "code",
   "execution_count": 86,
   "id": "8bf829f9-f14a-4509-9678-1b2b5f7dc59a",
   "metadata": {},
   "outputs": [
    {
     "data": {
      "text/plain": [
       "[[10, 10, 10], [10, 10, 10]]"
      ]
     },
     "execution_count": 86,
     "metadata": {},
     "output_type": "execute_result"
    }
   ],
   "source": [
    "[[10, 10, 10],\n",
    " [10, 10, 10]]"
   ]
  },
  {
   "cell_type": "markdown",
   "id": "695ef546-179c-4b43-92d6-0fdce38b7d2a",
   "metadata": {},
   "source": [
    "Then performs element-wise addition:"
   ]
  },
  {
   "cell_type": "code",
   "execution_count": 87,
   "id": "0d72cc69-33b5-40ab-bc1f-b7b11a694791",
   "metadata": {},
   "outputs": [
    {
     "data": {
      "text/plain": [
       "[[11, 12, 13], [14, 15, 16]]"
      ]
     },
     "execution_count": 87,
     "metadata": {},
     "output_type": "execute_result"
    }
   ],
   "source": [
    "[[1 + 10, 2 + 10, 3 + 10],\n",
    " [4 + 10, 5 + 10, 6 + 10]]"
   ]
  },
  {
   "cell_type": "markdown",
   "id": "d3bf2d45-7ac1-4e57-8e61-082be2dab6e8",
   "metadata": {},
   "source": [
    "Now Numpy has added each element of `a` with the corresponding `10`, the result becomes:"
   ]
  },
  {
   "cell_type": "code",
   "execution_count": 88,
   "id": "c85a5c55-3b97-459b-a5b0-0dd3d1f89fc2",
   "metadata": {},
   "outputs": [
    {
     "data": {
      "text/plain": [
       "[[11, 12, 13], [14, 15, 16]]"
      ]
     },
     "execution_count": 88,
     "metadata": {},
     "output_type": "execute_result"
    }
   ],
   "source": [
    "[[11, 12, 13],\n",
    " [14, 15, 16]]"
   ]
  },
  {
   "cell_type": "markdown",
   "id": "a4b71add-2a97-46c0-b3b2-2176a953dea4",
   "metadata": {},
   "source": [
    "***Arrays + Arrays***"
   ]
  },
  {
   "cell_type": "markdown",
   "id": "3243df9f-a11c-4cec-8ea8-f527f962c9b3",
   "metadata": {},
   "source": [
    "Next, let's look at broadcasting when dealing with only arrays.\n",
    "\n",
    "Suppose we have:"
   ]
  },
  {
   "cell_type": "markdown",
   "id": "fcca3fdc-0ff2-4f8a-9395-492c2f63f6f6",
   "metadata": {},
   "source": [
    "**`(3,)` vs `(3, 1)`**\n",
    "\n",
    "A row vector with shape `(3,)` matches the **columns** of `A`, so NumPy stretches it horizontally.  \n",
    "A column vector with shape `(3, 1)` matches the **rows** of `A`, so NumPy stretches it vertically.  \n",
    "This is why `(3,)` and `(3, 1)` behave differently even though they hold three numbers."
   ]
  },
  {
   "cell_type": "markdown",
   "id": "92174cc7-56df-448b-bb96-a6cda3ae1176",
   "metadata": {},
   "source": [
    "*Reminder: `(N,)` is a 1-D vector; when combined with an (row, col) array it lines up with the last dimension and broadcasts across rows. `(N, 1)` is a 2-D column; it matches the rows and broadcasts across columns.*"
   ]
  },
  {
   "cell_type": "code",
   "execution_count": 89,
   "id": "66fbcb6b-264f-46e6-934d-99d873b08039",
   "metadata": {},
   "outputs": [
    {
     "name": "stdout",
     "output_type": "stream",
     "text": [
      "A shape: (3, 3) | row shape: (3,) | col shape: (3, 1)\n",
      "\n",
      "A + row  (adds to each row across columns):\n",
      " [[11 22 33]\n",
      " [14 25 36]\n",
      " [17 28 39]]\n",
      "\n",
      "A + col  (adds down rows):\n",
      " [[101 102 103]\n",
      " [204 205 206]\n",
      " [307 308 309]]\n"
     ]
    }
   ],
   "source": [
    "A = np.array([[1, 2, 3],\n",
    "              [4, 5, 6],\n",
    "              [7, 8, 9]])        # shape (3, 3)\n",
    "\n",
    "row = np.array([10, 20, 30])      # shape (3,) -> stretches across columns\n",
    "col = np.array([[100], [200], [300]])  # shape (3,1) -> stretches down rows\n",
    "\n",
    "print(\"A shape:\", A.shape, \"| row shape:\", row.shape, \"| col shape:\", col.shape)\n",
    "\n",
    "print(\"\\nA + row  (adds to each row across columns):\\n\", A + row)\n",
    "print(\"\\nA + col  (adds down rows):\\n\", A + col)\n"
   ]
  },
  {
   "cell_type": "markdown",
   "id": "7b096661-f773-4e58-85fe-255535c8a89c",
   "metadata": {},
   "source": [
    "***How does this work?***\n",
    "\n",
    "Broadcasting compares shapes right-to-left and two sizes are compatible if they are equal or `1`. Our matrix `A` is      `(3, 3)`. The vector row has shape `(3, )`, which NumPy treats like `(1, 3)`; the last dimension 3 matches, and the leading 1 is stretched down the 3 rows, so `row` is added to every row of `A`. The column `col` has shape `(3, 1)`; the first dimension 3 matches the rows, and the trailing `1` is stretched across the 3 columns, so `col` is added to every column. In both cases the result is (3, 3), as if row/col were expanded to full size, without writing loops. "
   ]
  },
  {
   "cell_type": "markdown",
   "id": "bcfef17d-7209-4dc5-8819-d043a48ee143",
   "metadata": {},
   "source": [
    "#### **Exercise:** Broadcasting"
   ]
  },
  {
   "cell_type": "markdown",
   "id": "107c8cd9-ba41-4bf9-baef-930e9d7514d1",
   "metadata": {},
   "source": [
    "**Task**\n",
    "1. Create a 5x5 array `a` of zeros.\n",
    "\n",
    "3. Using arange(), add a row vector `b` containing elements 0-4 inclusive, to array `a`.\n",
    "\n",
    "4. Multiply the new array `a` with a column vector `c`, containing elements 1-5 inclusive."
   ]
  },
  {
   "cell_type": "code",
   "execution_count": 90,
   "id": "aac31ff8-cacc-4f48-b30d-45abf67b9899",
   "metadata": {},
   "outputs": [
    {
     "name": "stdout",
     "output_type": "stream",
     "text": [
      "Array a: [[1 2 3]\n",
      " [4 5 6]]\n"
     ]
    }
   ],
   "source": [
    "# 1. Create and print a 5x5 array `a` of zeros. \n",
    "print(\"Array a:\", a)"
   ]
  },
  {
   "cell_type": "code",
   "execution_count": 91,
   "id": "2f967fb6-c553-416a-b3a4-8f775ae92dcf",
   "metadata": {},
   "outputs": [
    {
     "name": "stdout",
     "output_type": "stream",
     "text": [
      "Row vector: 10\n"
     ]
    }
   ],
   "source": [
    "# 2. Using arange(), create row vector `b` containing elements 0-4 inclusive. Print the row vector.\n",
    "print (\"Row vector:\", b)"
   ]
  },
  {
   "cell_type": "code",
   "execution_count": 92,
   "id": "3e0756be-26ea-43cb-9d1b-6cc3b475f531",
   "metadata": {},
   "outputs": [
    {
     "name": "stdout",
     "output_type": "stream",
     "text": [
      "Column vector: [[[ 1  2  3]\n",
      "  [ 4  5  6]]\n",
      "\n",
      " [[ 7  8  9]\n",
      "  [10 11 12]]]\n"
     ]
    }
   ],
   "source": [
    "# 3. Create column vector `c`, containing elements 1-5 inclusive. Print the column vector.\n",
    "print (\"Column vector:\", c)"
   ]
  },
  {
   "cell_type": "code",
   "execution_count": 93,
   "id": "c172f267-9498-42cc-9e09-d4da3843f934",
   "metadata": {},
   "outputs": [
    {
     "name": "stdout",
     "output_type": "stream",
     "text": [
      "a + b:\n"
     ]
    }
   ],
   "source": [
    "# 4. Add array `a` and row vector `b`. Print the result.\n",
    "print (\"a + b:\")"
   ]
  },
  {
   "cell_type": "code",
   "execution_count": 94,
   "id": "6914bed2-55b7-4c50-909e-186f58ce0d00",
   "metadata": {},
   "outputs": [
    {
     "name": "stdout",
     "output_type": "stream",
     "text": [
      "(a * b) + c:\n"
     ]
    }
   ],
   "source": [
    "# 5. Multiply array `a` by column vector `c`. Print the result.\n",
    "print (\"(a * b) + c:\")"
   ]
  },
  {
   "cell_type": "markdown",
   "id": "ce38eb58-c1c3-4860-b69c-20fe7537ee3b",
   "metadata": {},
   "source": [
    "**SOLUTION**\n",
    "\n",
    "***Pause here and try it yourself before scrolling down.***"
   ]
  },
  {
   "cell_type": "code",
   "execution_count": 95,
   "id": "a46ae6a0-c5cc-4b0a-a7e8-f840a73a5be2",
   "metadata": {},
   "outputs": [
    {
     "name": "stdout",
     "output_type": "stream",
     "text": [
      "Array a: [[0. 0. 0. 0. 0.]\n",
      " [0. 0. 0. 0. 0.]\n",
      " [0. 0. 0. 0. 0.]\n",
      " [0. 0. 0. 0. 0.]\n",
      " [0. 0. 0. 0. 0.]]\n",
      "Row vector: [0 1 2 3 4]\n",
      "Column vector: [[1]\n",
      " [2]\n",
      " [3]\n",
      " [4]\n",
      " [5]]\n",
      "a + b: [[0. 1. 2. 3. 4.]\n",
      " [0. 1. 2. 3. 4.]\n",
      " [0. 1. 2. 3. 4.]\n",
      " [0. 1. 2. 3. 4.]\n",
      " [0. 1. 2. 3. 4.]]\n",
      "(a + b) * c: [[0. 0. 0. 0. 0.]\n",
      " [0. 0. 0. 0. 0.]\n",
      " [0. 0. 0. 0. 0.]\n",
      " [0. 0. 0. 0. 0.]\n",
      " [0. 0. 0. 0. 0.]]\n"
     ]
    }
   ],
   "source": [
    "# 1. 5x5 array of zeros\n",
    "a = np.zeros((5, 5))\n",
    "print(\"Array a:\", a)\n",
    "\n",
    "# 2. row vector b = [0 1 2 3 4]\n",
    "b = np.arange(5)\n",
    "print (\"Row vector:\", b)\n",
    "\n",
    "# 3. column vector c = [[1], [2], [3], [4], [5]]\n",
    "c = np.array([[1],\n",
    "              [2],\n",
    "              [3],\n",
    "              [4],\n",
    "              [5]])\n",
    "print (\"Column vector:\", c)\n",
    "\n",
    "# 4. add row vector b\n",
    "print(\"a + b:\", a + b)\n",
    "\n",
    "# 5. multiply by column vector c\n",
    "print(\"(a + b) * c:\", a * c)"
   ]
  },
  {
   "cell_type": "markdown",
   "id": "66f01659-82cf-44d1-bcf9-4e06df33ecea",
   "metadata": {},
   "source": [
    "## **Bonus:** Reshaping & Copying"
   ]
  },
  {
   "cell_type": "markdown",
   "id": "46dcb9d4-67d6-41e8-92d1-cada91f2adf7",
   "metadata": {},
   "source": [
    "***What is Reshaping?***\n",
    "\n",
    "Reshaping changes the shape (rows × columns × dimensions) of an array without changing the data inside. The total number of elements must stay the same."
   ]
  },
  {
   "cell_type": "markdown",
   "id": "6809a016-0cf9-4ea9-bb65-3b961f39ebd5",
   "metadata": {},
   "source": [
    "Here's an example below:"
   ]
  },
  {
   "cell_type": "code",
   "execution_count": 96,
   "id": "ad854c3d-1044-419f-b415-a67d298a95c8",
   "metadata": {},
   "outputs": [
    {
     "name": "stdout",
     "output_type": "stream",
     "text": [
      "[ 1  2  3  4  5  6  7  8  9 10 11 12]\n"
     ]
    }
   ],
   "source": [
    "arr = np.arange(1, 13)\n",
    "\n",
    "print(arr)\n",
    " # [1, 2, ..., 12]"
   ]
  },
  {
   "cell_type": "markdown",
   "id": "5829267e-c8e8-4990-889c-cbe28b61c368",
   "metadata": {},
   "source": [
    " - The original array has 12 elements.\n",
    " - Reshaping into `3, 4` means 3 rows x 4 columns = 12 elements."
   ]
  },
  {
   "cell_type": "code",
   "execution_count": 97,
   "id": "a5735371-74d3-42eb-85ff-39e87a6f2fdb",
   "metadata": {},
   "outputs": [
    {
     "name": "stdout",
     "output_type": "stream",
     "text": [
      "[[ 1  2  3  4]\n",
      " [ 5  6  7  8]\n",
      " [ 9 10 11 12]]\n"
     ]
    }
   ],
   "source": [
    "reshaped = arr.reshape(3, 4)\n",
    "\n",
    "print(reshaped)\n",
    "# [[ 1  2  3  4]\n",
    "#  [ 5  6  7  8]\n",
    "#  [ 9 10 11 12]]\n"
   ]
  },
  {
   "cell_type": "markdown",
   "id": "024d2910-8862-4fec-8edd-808b8c3c90f1",
   "metadata": {},
   "source": [
    "A handy feature NumPy offers is the use of `-1`. This saves you the hassle of having to do the math yourself, `-1` tells NumPy to figure out the dimension for you.\n",
    "*You can only one `-1` at a time, or else NumPy won't know which dimension to calculate.*"
   ]
  },
  {
   "cell_type": "code",
   "execution_count": 98,
   "id": "7f0329db-3d25-42cc-92f7-5a9c5a3a71e4",
   "metadata": {},
   "outputs": [
    {
     "name": "stdout",
     "output_type": "stream",
     "text": [
      "[[ 1  2  3  4]\n",
      " [ 5  6  7  8]\n",
      " [ 9 10 11 12]]\n",
      "[[ 1  2  3  4  5  6]\n",
      " [ 7  8  9 10 11 12]]\n"
     ]
    }
   ],
   "source": [
    "# Case 1:\n",
    "print(arr.reshape(3, -1))  # 3 rows, NumPy calculates columns\n",
    "\n",
    "# Case 2:\n",
    "print(arr.reshape(-1, 6))  # 6 columns, NumPy calculates rows\n"
   ]
  },
  {
   "cell_type": "markdown",
   "id": "2b3fc603-1055-40d5-943d-4949f33175dc",
   "metadata": {},
   "source": [
    "- In the first case: 12 / 3 = 4 &rarr; shape `(3, 4)`\n",
    "- In the second case: 12 / 6 = 2 &rarr; shape `(2, 6)`"
   ]
  },
  {
   "cell_type": "markdown",
   "id": "f89ed796-e990-46ba-9833-db47bb72d024",
   "metadata": {},
   "source": [
    "***What is Copying?***\n",
    "\n",
    "In NumPy, when you assign one array to another variable, both variables point to the same data in memory. This means that if you change one variable, the other changes too. This is also known as a **view** or **reference**. To prevent this, we use `.copy()` for an independent array. This duplicates the data in memory, so changes in one array don’t affect the other."
   ]
  },
  {
   "cell_type": "code",
   "execution_count": 99,
   "id": "b2e007f2-5db7-4b0e-a6b0-505e069e3a4e",
   "metadata": {},
   "outputs": [
    {
     "name": "stdout",
     "output_type": "stream",
     "text": [
      "[99  2  3]\n",
      "[1 2 3]\n"
     ]
    }
   ],
   "source": [
    "a = np.array([1, 2, 3])\n",
    "b = a        # not a real copy\n",
    "c = a.copy() # real copy\n",
    "\n",
    "b[0] = 99\n",
    "\n",
    "# a and b share the same data, changing b also changes a.\n",
    "print(a)  # [99  2  3]\n",
    "\n",
    "# .copy() creates a completely independent array, changing c does not change a.\n",
    "print(c)  # [1  2  3]\n"
   ]
  },
  {
   "cell_type": "markdown",
   "id": "cb119189-e940-4b77-a3b7-36013182aefd",
   "metadata": {},
   "source": [
    "#### **Exercise:** Reshaping & Copying"
   ]
  },
  {
   "cell_type": "markdown",
   "id": "1d8e88c3-e0ae-4f95-962c-f139a5a974cb",
   "metadata": {},
   "source": [
    "**Task**\n",
    "1. Create a `3×4` array `A` with the numbers 1–12. Print array `A`.\n",
    "2. Reshape it into a new array `V` that is a view of the original.\n",
    "   - Modify element `[0, 0] = 55` in the original.\n",
    "4. Now make a copy `C` of the original array and reshape it.\n",
    "   - Modify element `[0, 0] = 66` in the original."
   ]
  },
  {
   "cell_type": "code",
   "execution_count": 100,
   "id": "b32e3c6d-a893-4395-a428-4b036ed3f483",
   "metadata": {},
   "outputs": [],
   "source": [
    "# 1. Using arange() and reshape(), create a 3×4 array A with the numbers 1–12. Print array A."
   ]
  },
  {
   "cell_type": "code",
   "execution_count": 101,
   "id": "b3499029-3e13-4cc4-830b-647ea475047b",
   "metadata": {},
   "outputs": [],
   "source": [
    "# 2. Reshape it into a new array `V` that is a view of the original. Modify element `[0, 0] = 55` in the original, \n",
    "#    compare the two arrays and confirm whether they are still identical."
   ]
  },
  {
   "cell_type": "code",
   "execution_count": 102,
   "id": "dcf80778-4036-4110-b317-b1ed887f850d",
   "metadata": {},
   "outputs": [],
   "source": [
    "# 3. Make a real copy `C = A.reshape(2, 6).copy()`. Modify element `[0, 0] = 66` in the original, \n",
    "#    compare the two arrays and confirm whether they are still identical."
   ]
  },
  {
   "cell_type": "markdown",
   "id": "f66c5e9a-105c-41bb-951f-edf8bdb33f0b",
   "metadata": {},
   "source": [
    "**SOLUTION**\n",
    "\n",
    "***Pause here and try it yourself before scrolling down.***"
   ]
  },
  {
   "cell_type": "code",
   "execution_count": 103,
   "id": "484bf4b9-9e78-4fb5-af58-3c142b5c932e",
   "metadata": {},
   "outputs": [
    {
     "name": "stdout",
     "output_type": "stream",
     "text": [
      "Original A: [[ 1  2  3  4]\n",
      " [ 5  6  7  8]\n",
      " [ 9 10 11 12]]\n",
      "After modifying A (view test):\n",
      "A: [[55  2  3  4]\n",
      " [ 5  6  7  8]\n",
      " [ 9 10 11 12]]\n",
      "V: [[55  2  3  4  5  6]\n",
      " [ 7  8  9 10 11 12]]\n",
      "After re-modifying A (copy test):\n",
      "A: [[66  2  3  4]\n",
      " [ 5  6  7  8]\n",
      " [ 9 10 11 12]]\n",
      "C: [[55  2  3  4  5  6]\n",
      " [ 7  8  9 10 11 12]]\n"
     ]
    }
   ],
   "source": [
    "# 1. create 3x4 array A\n",
    "A = np.arange(1, 13).reshape(3, 4)\n",
    "print(\"Original A:\", A)\n",
    "\n",
    "# 2. reshape into a view V\n",
    "V = A.reshape(2, 6)\n",
    "\n",
    "# modify element [0,0] in A\n",
    "A[0, 0] = 55\n",
    "print(\"After modifying A (view test):\")\n",
    "print(\"A:\", A)\n",
    "print(\"V:\", V)   # V should also show the change (still identical to A’s data)\n",
    "\n",
    "# 3. make a copy C of the original and reshape\n",
    "C = A.reshape(2, 6).copy()\n",
    "\n",
    "# modify element [0,0] in A again\n",
    "A[0, 0] = 66\n",
    "print(\"After re-modifying A (copy test):\")\n",
    "print(\"A:\", A)\n",
    "print(\"C:\", C)   # C should NOT change\n"
   ]
  }
 ],
 "metadata": {
  "kernelspec": {
   "display_name": "Python 3 (ipykernel)",
   "language": "python",
   "name": "python3"
  },
  "language_info": {
   "codemirror_mode": {
    "name": "ipython",
    "version": 3
   },
   "file_extension": ".py",
   "mimetype": "text/x-python",
   "name": "python",
   "nbconvert_exporter": "python",
   "pygments_lexer": "ipython3",
   "version": "3.13.5"
  }
 },
 "nbformat": 4,
 "nbformat_minor": 5
}
