{
 "cells": [
  {
   "cell_type": "markdown",
   "id": "9a60799f",
   "metadata": {},
   "source": [
    "# Matplotlib Tutorial\n",
    "Author: Lauren Gliane\n",
    "\n",
    "Welcome to the tutorial! To get you comfortable with using Matplotlib we will cover:\n",
    "1. Why learn?\n",
    "2. Plotting Lines/Points\n",
    "3. Bar Charts and Histograms\n",
    "4. Scatter plots\n",
    "5. Box Charts\n",
    "6. Customization (markers, line, labels, grids)\n",
    "7. Random Data and Importing Data\n"
   ]
  },
  {
   "cell_type": "markdown",
   "id": "496ae29e",
   "metadata": {},
   "source": [
    "## 1. Why Learn Matplotlib?\n",
    "Learning Matplotlib allows you to turn boring data into eye-catching, story-driven visuals. Whether you’re exploring trends, explaining your project results, or impressing in a presentation, Matplotlib lets you bring your data to life with colorful, customizable charts. It’s a must-have skill for turning numbers into something people can actually see, understand, and remember—and it makes your work stand out in any class, research project, or career path.\n",
    "\n",
    "Using Matplotlib gives you the most customization and flexibility when creating visualized data. Create anything you want: graph your performance, plot a dataset you found, and teach others this valuable skill!"
   ]
  },
  {
   "cell_type": "markdown",
   "id": "9fbb4ffa",
   "metadata": {},
   "source": [
    "## 2. Plotting A Line\n",
    "The plot() function takes in two parameters. The first takes in the points on the x axis. The second takes in the points on the y axis.\n",
    "\n",
    "[Matplotlib Line Documentation](https://matplotlib.org/stable/gallery/lines_bars_and_markers/simple_plot.html)"
   ]
  },
  {
   "cell_type": "markdown",
   "id": "500168b7",
   "metadata": {},
   "source": [
    "#### Test it out\n",
    "Run this code below to practice calling the **array(), plot(), and show()** functions from the libraries we just imported.\n",
    "\n",
    "1. Import **libraries** (pyplot and numpy)\n",
    "2. Create an **array of x-points** (ranging 0 to 10) into **xpoints variable**\n",
    "3. Create an **array of y-points** (ranging 0 to 240) into **ypoints variable**\n",
    "4. Generate and show plot using **plot(xpoints, ypoints)** and **show()**"
   ]
  },
  {
   "cell_type": "code",
   "execution_count": null,
   "id": "68a10119",
   "metadata": {
    "vscode": {
     "languageId": "plaintext"
    }
   },
   "outputs": [],
   "source": [
    "# import our libraries\n",
    "import matplotlib.pyplot as plt\n",
    "import numpy as np\n",
    "\n",
    "# create an array using the array() function in the numpy library\n",
    "xpoints = np.array([0, 10])\n",
    "ypoints = np.array([0, 240])\n",
    "\n",
    "# generate and show our plot using the plot() and show() functions from pyplot library\n",
    "plt.plot(xpoints, ypoints)\n",
    "plt.show()"
   ]
  },
  {
   "cell_type": "markdown",
   "id": "935a0af5",
   "metadata": {},
   "source": [
    "### Plotting Points\n",
    "To plot only specified points, use the shortcut 'o' as a third parameter. This means rings.\n",
    "\n",
    "Other \n"
   ]
  },
  {
   "cell_type": "code",
   "execution_count": null,
   "id": "e4019f0e",
   "metadata": {
    "vscode": {
     "languageId": "plaintext"
    }
   },
   "outputs": [],
   "source": [
    "# create an array\n",
    "xpoints = np.array([0, 10])\n",
    "ypoints = np.array([0, 240])\n",
    "\n",
    "# use the 'o' shortcut to only plot points, no line\n",
    "plt.plot(xpoints, ypoints, 'o')\n",
    "plt.show()"
   ]
  },
  {
   "cell_type": "markdown",
   "id": "b500def2",
   "metadata": {},
   "source": [
    "### Plotting Multiple Points\n",
    "Below is an example of how to plot just the four coordinates (1,3), (2,7), (3,9), (5,2).\n",
    "\n",
    "#### Try it out!\n",
    "On your own, alter the example code below and plot 3 coordinates (0,4), (9,7), and (3,17)."
   ]
  },
  {
   "cell_type": "code",
   "execution_count": null,
   "id": "21dea885",
   "metadata": {
    "vscode": {
     "languageId": "plaintext"
    }
   },
   "outputs": [],
   "source": [
    "# two arrays of coords (1,3), (2,7), (3,9), (5,2)\n",
    "xpoints = np.array([1, 2, 3, 5])\n",
    "ypoints = np.array([4, 7, 9, 2])\n",
    "\n",
    "plt.plot(xpoints, ypoints)\n",
    "plt.show()"
   ]
  },
  {
   "cell_type": "markdown",
   "id": "fc72dc42",
   "metadata": {},
   "source": [
    "## 3. Bar Charts and Histograms"
   ]
  },
  {
   "cell_type": "markdown",
   "id": "ac84ea65",
   "metadata": {},
   "source": [
    "### Bar Charts\n",
    "\n",
    "Bar charts are useful when comparing values between different categories. Matplotlib uses the bar() function to create these.\n",
    "\n",
    "[matplotlib.pyplot.bar Documentation](https://matplotlib.org/stable/api/_as_gen/matplotlib.pyplot.bar.html)\n",
    "\n",
    "#### Try it out!\n",
    "Our x points will be fruit names (categories). Our y points will be the amount of fruits (values)."
   ]
  },
  {
   "cell_type": "code",
   "execution_count": null,
   "id": "79dfa897",
   "metadata": {
    "vscode": {
     "languageId": "plaintext"
    }
   },
   "outputs": [],
   "source": [
    "# categories and values\n",
    "x = np.array([\"Apples\", \"Bananas\", \"Cherries\", \"Dates\"])\n",
    "y = np.array([5, 7, 3, 8])\n",
    "\n",
    "plt.bar(x, y)\n",
    "plt.show()"
   ]
  },
  {
   "cell_type": "markdown",
   "id": "c236164b",
   "metadata": {},
   "source": [
    "#### Challenge yourself!\n",
    "Change the bar chart we just made into a horizontal bar chart using [barh()](https://matplotlib.org/stable/api/_as_gen/matplotlib.pyplot.barh.html).\n",
    "Change the fruits and values to reflect the values in this [report of popular fruits](https://www.freshproduce.com/resources/consumer-trends/top-20/)."
   ]
  },
  {
   "cell_type": "markdown",
   "id": "61ae4eb1",
   "metadata": {},
   "source": [
    "## Histograms\n",
    "Histograms are use to show the distribution of a dataset. We use the the hist() function to do so.\n",
    "\n",
    "#### Try it out!\n",
    "We'll use the [numpy.random.normal()](https://numpy.org/doc/stable/reference/random/generated/numpy.random.normal.html) to generate 250 random values with mean 170 and std 10."
   ]
  },
  {
   "cell_type": "code",
   "execution_count": null,
   "id": "921b01ec",
   "metadata": {
    "vscode": {
     "languageId": "plaintext"
    }
   },
   "outputs": [],
   "source": [
    "# generate 250 random values with mean 170 and std 10\n",
    "x = np.random.normal(170, 10, 250)\n",
    "\n",
    "plt.hist(x)\n",
    "plt.show()"
   ]
  },
  {
   "cell_type": "markdown",
   "id": "82139239",
   "metadata": {},
   "source": [
    "#### Challenge yourself!\n",
    "Change the number of bins in the histogram using the bins parameter (e.g., plt.hist(x, bins=20)). Try experimenting with different bin counts and observe how it changes the distribution shape."
   ]
  },
  {
   "cell_type": "markdown",
   "id": "958afeb7",
   "metadata": {},
   "source": [
    "## 4. Scatter Plots\n",
    "\n",
    "Scatter plots show the relationship between two variables. Use the [scatter()](https://matplotlib.org/stable/api/_as_gen/matplotlib.pyplot.scatter.html) function.\n",
    "\n",
    "#### Try it out!"
   ]
  },
  {
   "cell_type": "markdown",
   "id": "48a9cd51",
   "metadata": {},
   "source": [
    "x = np.array([5, 7, 8, 7, 2, 17, 2, 9, 4, 11])\n",
    "y = np.array([99, 86, 87, 88, 100, 86, 103, 87, 94, 78])\n",
    "\n",
    "plt.scatter(x, y)\n",
    "plt.show()"
   ]
  },
  {
   "cell_type": "markdown",
   "id": "a03d1a9a",
   "metadata": {},
   "source": [
    "#### Challenge yourself!\n",
    "Modify the scatter plot to show red dots instead of default blue ones. Hint: add a color='red' parameter in scatter()."
   ]
  },
  {
   "cell_type": "markdown",
   "id": "0ef876bd",
   "metadata": {},
   "source": [
    "## 5. Box Charts\n",
    "A box plot (or whisker plot) shows the distribution, median, and outliers of a dataset. Use the [boxplot()](https://matplotlib.org/stable/api/_as_gen/matplotlib.pyplot.boxplot.html) function to create one!\n",
    "\n",
    "#### Try it out!\n",
    "We'll use [numpy.random.normal()](https://numpy.org/doc/stable/reference/random/generated/numpy.random.normal.html) to generate random numbers again."
   ]
  },
  {
   "cell_type": "code",
   "execution_count": null,
   "id": "b3d358b5",
   "metadata": {
    "vscode": {
     "languageId": "plaintext"
    }
   },
   "outputs": [],
   "source": [
    "# generate random data\n",
    "data = np.random.normal(100, 20, 200)\n",
    "\n",
    "plt.boxplot(data)\n",
    "plt.show()"
   ]
  },
  {
   "cell_type": "markdown",
   "id": "8d80bc1c",
   "metadata": {},
   "source": [
    "#### Challenge yourself!\n",
    "Generate two sets of random data and plot them together in the same box chart by passing a list of datasets into boxplot(). For example:"
   ]
  },
  {
   "cell_type": "code",
   "execution_count": null,
   "id": "9bb6835f",
   "metadata": {
    "vscode": {
     "languageId": "plaintext"
    }
   },
   "outputs": [],
   "source": [
    "plt.boxplot([data1, data2])"
   ]
  },
  {
   "cell_type": "markdown",
   "id": "b1d18487",
   "metadata": {},
   "source": [
    "## Customization\n",
    "The default graphs look clean, but customizing our graphs can better represent data themes and showcase your data. We'll cover how to add/change:\n",
    "- [markers](https://matplotlib.org/stable/api/markers_api.html)\n",
    "- [linestyles](https://matplotlib.org/stable/gallery/lines_bars_and_markers/linestyles.html)\n",
    "- [axis labels](https://matplotlib.org/stable/api/_as_gen/matplotlib.pyplot.xlabel.html)\n",
    "- [grid](https://matplotlib.org/stable/api/_as_gen/matplotlib.pyplot.grid.html)\n",
    "\n",
    "#### Try it out!\n",
    "Test the code below to see all four customizers in action."
   ]
  },
  {
   "cell_type": "code",
   "execution_count": null,
   "id": "b8669a6d",
   "metadata": {
    "vscode": {
     "languageId": "plaintext"
    }
   },
   "outputs": [],
   "source": [
    "x = np.array([1, 2, 3, 4, 5])\n",
    "y = np.array([2, 6, 8, 14, 20])\n",
    "\n",
    "plt.plot(x, y, marker='o', linestyle='--', color='purple')\n",
    "plt.xlabel(\"X Axis\")\n",
    "plt.ylabel(\"Y Axis\")\n",
    "plt.grid(True)\n",
    "plt.show()\n"
   ]
  },
  {
   "cell_type": "markdown",
   "id": "7baeb076",
   "metadata": {},
   "source": [
    "#### Challenge yourself!\n",
    "Try customizing the line style to be dotted (':'), use triangle markers ('^'), and set the line color to green."
   ]
  },
  {
   "cell_type": "markdown",
   "id": "40e68843",
   "metadata": {},
   "source": [
    "## 8. Random Data and Importing Data\n",
    "Sometimes you won’t always type in your own data points. You might want to generate random data for testing or import existing data from a file.\n",
    "\n",
    "### Generating Random Data\n",
    "You can use the [numpy.random.rand()](https://numpy.org/doc/stable/reference/random/generated/numpy.random.rand.html) function to generate random points between a 0 and 1."
   ]
  },
  {
   "cell_type": "code",
   "execution_count": null,
   "id": "eef009ee",
   "metadata": {
    "vscode": {
     "languageId": "plaintext"
    }
   },
   "outputs": [],
   "source": [
    "# generate 50 random x and y points between 0 and 1\n",
    "x = np.random.rand(50)\n",
    "y = np.random.rand(50)\n",
    "\n",
    "# create a scatter plot\n",
    "plt.scatter(x, y)\n",
    "plt.show()"
   ]
  },
  {
   "cell_type": "markdown",
   "id": "5452567a",
   "metadata": {},
   "source": [
    "### Importing Data from a File\n",
    "You can also import real-world data using the [numpy.loadtxt()](https://numpy.org/doc/stable/reference/generated/numpy.loadtxt.html) function. Suppose you have a CSV file named data.csv with two columns (x, y):\n",
    "\n",
    "##### data.csv"
   ]
  },
  {
   "cell_type": "markdown",
   "id": "46f59946",
   "metadata": {},
   "source": [
    "1,2\n",
    "2,4\n",
    "3,1\n",
    "4,3\n",
    "5,7"
   ]
  },
  {
   "cell_type": "markdown",
   "id": "aa5606f1",
   "metadata": {},
   "source": [
    "You can load and plot data.csv like this:"
   ]
  },
  {
   "cell_type": "code",
   "execution_count": null,
   "id": "67057144",
   "metadata": {
    "vscode": {
     "languageId": "plaintext"
    }
   },
   "outputs": [],
   "source": [
    "# load CSV data into two arrays\n",
    "data = np.loadtxt(\"data.csv\", delimiter=\",\")\n",
    "x = data[:,0]   # first column\n",
    "y = data[:,1]   # second column\n",
    "\n",
    "plt.plot(x, y, marker='o')\n",
    "plt.show()"
   ]
  },
  {
   "cell_type": "markdown",
   "id": "93c040fc",
   "metadata": {},
   "source": [
    "#### Challenge yourself\n",
    "\n",
    "1. Use np.random.rand() to generate 100 random points, but scale them up to be between 0 and 100 instead of 0 and 1.\n",
    "Hint: multiply the output of rand() by 100.\n",
    "\n",
    "2. Create your own small CSV file with at least 5 (x, y) pairs and use loadtxt() to plot them."
   ]
  }
 ],
 "metadata": {
  "kernelspec": {
   "display_name": "Python 3 (ipykernel)",
   "language": "python",
   "name": "python3"
  },
  "language_info": {
   "codemirror_mode": {
    "name": "ipython",
    "version": 3
   },
   "file_extension": ".py",
   "mimetype": "text/x-python",
   "name": "python",
   "nbconvert_exporter": "python",
   "pygments_lexer": "ipython3",
   "version": "3.10.4"
  }
 },
 "nbformat": 4,
 "nbformat_minor": 5
}
