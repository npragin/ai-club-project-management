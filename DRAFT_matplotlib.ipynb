{
 "cells": [
  {
   "cell_type": "markdown",
   "id": "0",
   "metadata": {},
   "source": [
    "# Matplotlib Tutorial\n",
    "Author: Lauren Gliane\n",
    "\n",
    "Welcome to the tutorial! To get you comfortable with using Matplotlib we will cover:\n",
    "1. Why learn?\n",
    "2. Plotting Lines/Points\n",
    "3. Bar Charts and Histograms\n",
    "4. Scatter plots\n",
    "5. Box Charts\n",
    "6. Customization (markers, line, labels, grids)\n",
    "7. Random Data and Importing Data\n"
   ]
  },
  {
   "cell_type": "markdown",
   "id": "1",
   "metadata": {},
   "source": [
    "## 1. Why Learn Matplotlib?\n",
    "Learning Matplotlib allows you to turn boring data into eye-catching, story-driven visuals. Whether you’re exploring trends, explaining your project results, or impressing in a presentation, Matplotlib lets you bring your data to life with colorful, customizable charts. It’s a must-have skill for turning numbers into something people can actually see, understand, and it makes your work stand out in any class, research project, or career path.\n",
    "\n",
    "In context of __Machine Learning applications__, Matplotlib can be used to:\n",
    "1. __Understand model behavior__: visualization can offer insights into crucial behavior patterns like cluster formations, learning process of a neural netowkr, or showing decision boundaries.\n",
    "2. __Hyperparameter tuning__: Plots can help with visualizing the effect of changing hyperparameters on your model's performance, which is helpful during the optimization process."
   ]
  },
  {
   "cell_type": "markdown",
   "id": "2",
   "metadata": {},
   "source": [
    "## 2. Plotting A Line\n",
    "The `plot()` function takes in two parameters. The first takes in the points on the x axis. The second takes in the points on the y axis.\n",
    "\n",
    "[Matplotlib Line Documentation](https://matplotlib.org/stable/gallery/lines_bars_and_markers/simple_plot.html)\n",
    "\n",
    "### The Importance of Lines in ML\n",
    "[__Exploratory Data Analysis (EDA)__](https://www.geeksforgeeks.org/data-analysis/what-is-exploratory-data-analysis/) is a process involving steps to discover patterns, identify anomalies, and test model versions. In order to perform EDA, we need to visualize the data, using tools like Matplotlib. Other Python tools like Pandas can clean, filter, and manipulate your data. For now, Matplotlib is sufficient."
   ]
  },
  {
   "cell_type": "markdown",
   "id": "3",
   "metadata": {},
   "source": [
    "#### Test it out\n",
    "Run this code below to practice calling the `array()`, `plot()`, and `show()` functions from the matplotlib libraries.\n",
    "\n",
    "1. Create an **array of x-points** (ranging 0 to 10) into **xpoints variable**\n",
    "2. Create an **array of y-points** (ranging 0 to 240) into **ypoints variable**\n",
    "3. Generate and show plot using **plot(xpoints, ypoints)** and **show()**\n",
    "\n",
    "#### Importing libraries\n",
    "If any cell fail to run try running `pip install matplotlib`.\n",
    "\n",
    "For this exercise you won't need to import any libraries, but the code below demonstrates how to:"
   ]
  },
  {
   "cell_type": "code",
   "execution_count": null,
   "id": "4",
   "metadata": {},
   "outputs": [],
   "source": [
    "# import our libraries\n",
    "import matplotlib.pyplot as plt\n",
    "import numpy as np"
   ]
  },
  {
   "cell_type": "code",
   "execution_count": null,
   "id": "5",
   "metadata": {},
   "outputs": [],
   "source": [
    "# create an array using the array() function in the numpy library\n",
    "xpoints = np.array([0, 10])\n",
    "ypoints = np.array([0, 240])\n",
    "\n",
    "# generate and show our plot using the plot() and show() functions from pyplot library\n",
    "plt.plot(xpoints, ypoints)\n",
    "plt.show()"
   ]
  },
  {
   "cell_type": "markdown",
   "id": "6",
   "metadata": {},
   "source": [
    "### Plotting Points\n",
    "To plot only specified points, use the shortcut 'o' as a third parameter to plot the points in the graph.\n",
    "\n",
    "The points or __markers__ can be changed to different symbols. The [matplotlib.markers Documentation](https://matplotlib.org/stable/api/markers_api.html) provides a key for all available customization symbols. \n",
    "\n",
    "##### Try out different shapes\n",
    "Use the shortcut `'s'` as the third parameter in `plt.plot(xpoints, ypoints, ' ')`to change the marker to a square shape.\n"
   ]
  },
  {
   "cell_type": "code",
   "execution_count": null,
   "id": "7",
   "metadata": {},
   "outputs": [],
   "source": [
    "# create an array\n",
    "xpoints = np.array([0, 10])\n",
    "ypoints = np.array([0, 240])\n",
    "\n",
    "# use the 'o' shortcut to only plot points, no line\n",
    "plt.plot(xpoints, ypoints, 'o')\n",
    "plt.show()"
   ]
  },
  {
   "cell_type": "markdown",
   "id": "8",
   "metadata": {},
   "source": [
    "### Plotting Multiple Points\n",
    "Below is an example of how to plot just the four coordinates (1,3), (2,7), (3,9), (5,2).\n",
    "\n",
    "#### Try it out!\n",
    "On your own, alter the example code below and plot 3 coordinates (0,4), (9,7), and (3,17)."
   ]
  },
  {
   "cell_type": "code",
   "execution_count": null,
   "id": "9",
   "metadata": {},
   "outputs": [],
   "source": []
  },
  {
   "cell_type": "code",
   "execution_count": null,
   "id": "10",
   "metadata": {},
   "outputs": [],
   "source": [
    "# two arrays of coords (1,3), (2,7), (3,9), (5,2)\n",
    "xpoints = np.array([1, 2, 3, 5])\n",
    "ypoints = np.array([4, 7, 9, 2])\n",
    "\n",
    "plt.plot(xpoints, ypoints)\n",
    "plt.show()"
   ]
  },
  {
   "cell_type": "markdown",
   "id": "11",
   "metadata": {},
   "source": [
    "## 3. Bar Charts and Histograms"
   ]
  },
  {
   "cell_type": "markdown",
   "id": "12",
   "metadata": {},
   "source": [
    "### Bar Charts\n",
    "\n",
    "Bar charts are important in machine learning for:\n",
    "1. __Visualizing and comparing categorical data:__ bar charts allow for easy identification of higher or lower values between categories.\n",
    "2. __Identifying patterns:__ trends in data are highlighted by bar charts and can show relationships within your data.\n",
    "3. __Evaluating model performance:__ performance metrics (such as error rates or accuracy) are often visualized through bar charts to compare the effect of changes.\n",
    "\n",
    "\n",
    "Matplotlib uses the `plt.bar()` function to create bar charts. \n",
    "\n",
    "[matplotlib.pyplot.bar Documentation](https://matplotlib.org/stable/api/_as_gen/matplotlib.pyplot.bar.html)\n",
    "\n",
    "\n",
    "\n",
    "#### Try it out!\n",
    "Our x points will be fruit names (categories). Our y points will be the amount of fruits (values)."
   ]
  },
  {
   "cell_type": "code",
   "execution_count": null,
   "id": "13",
   "metadata": {},
   "outputs": [],
   "source": [
    "# categories and values\n",
    "x = np.array([\"Apples\", \"Bananas\", \"Cherries\", \"Dates\"])\n",
    "y = np.array([5, 7, 3, 8])\n",
    "\n",
    "plt.bar(x, y)\n",
    "plt.show()"
   ]
  },
  {
   "cell_type": "markdown",
   "id": "14",
   "metadata": {},
   "source": [
    "#### Challenge yourself!\n",
    "Change the bar chart we just made into a horizontal bar chart using [plt.barh()](https://matplotlib.org/stable/api/_as_gen/matplotlib.pyplot.barh.html).\n",
    "Change the fruits and values to reflect the values in this [report of popular fruits](https://www.freshproduce.com/resources/consumer-trends/top-20/)."
   ]
  },
  {
   "cell_type": "code",
   "execution_count": null,
   "id": "15",
   "metadata": {},
   "outputs": [],
   "source": [
    "# write your code here"
   ]
  },
  {
   "cell_type": "markdown",
   "id": "16",
   "metadata": {},
   "source": [
    "## Histograms\n",
    "Histograms are used to show the distribution of a dataset, this is helpful when identifying distribution type as normal, skewed, or another pattern. The distribution visualization feature of histograms can also provide valuable insights that can guide [data preprocessing](https://www.geeksforgeeks.org/machine-learning/data-preprocessing-machine-learning-python), [feature engineering](https://www.geeksforgeeks.org/machine-learning/what-is-feature-engineering/), and [model selection](https://www.geeksforgeeks.org/machine-learning/model-selection-for-machine-learning/). \n",
    "\n",
    "#### Try it out!\n",
    "To generate our histogram use the the `hist()` function to do so.\n",
    "We'll use the [numpy.random.normal()](https://numpy.org/doc/stable/reference/random/generated/numpy.random.normal.html) to generate 250 random values with mean 170 and std 10."
   ]
  },
  {
   "cell_type": "code",
   "execution_count": null,
   "id": "17",
   "metadata": {},
   "outputs": [],
   "source": [
    "# generate 250 random values with mean 170 and std 10\n",
    "x = np.random.normal(170, 10, 250)\n",
    "\n",
    "plt.hist(x)\n",
    "plt.show()"
   ]
  },
  {
   "cell_type": "markdown",
   "id": "18",
   "metadata": {},
   "source": [
    "#### Challenge yourself!\n",
    "Change the number of bins in the histogram using the bins parameter (e.g., plt.hist(x, bins=20)). Try experimenting with different bin counts and observe how it changes the distribution shape."
   ]
  },
  {
   "cell_type": "code",
   "execution_count": null,
   "id": "19",
   "metadata": {},
   "outputs": [],
   "source": [
    "# write your code here"
   ]
  },
  {
   "cell_type": "markdown",
   "id": "20",
   "metadata": {},
   "source": [
    "## 4. Scatter Plots\n",
    "\n",
    "Scatter plots are important in ML for visually identifying patterns, trends, and correlations between variables, detecting outliers, and understanding the distribution of data.\n",
    "1. Pattern and Trend Recognition\n",
    "2. Understanding Data Distribution\n",
    "3. Predictive Modeling Insights\n",
    "\n",
    "Use the [scatter()](https://matplotlib.org/stable/api/_as_gen/matplotlib.pyplot.scatter.html) function.\n",
    "\n",
    "#### Try it out!"
   ]
  },
  {
   "cell_type": "code",
   "execution_count": null,
   "id": "21",
   "metadata": {},
   "outputs": [],
   "source": [
    "x = np.array([5, 7, 8, 7, 2, 17, 2, 9, 4, 11])\n",
    "y = np.array([99, 86, 87, 88, 100, 86, 103, 87, 94, 78])\n",
    "\n",
    "plt.scatter(x, y)\n",
    "plt.show()"
   ]
  },
  {
   "cell_type": "markdown",
   "id": "22",
   "metadata": {},
   "source": [
    "#### Challenge yourself!\n",
    "Modify the scatter plot to show red dots instead of default blue ones. Hint: add a `color='red'` parameter in `scatter()`."
   ]
  },
  {
   "cell_type": "code",
   "execution_count": null,
   "id": "23",
   "metadata": {},
   "outputs": [],
   "source": [
    "# write your code here"
   ]
  },
  {
   "cell_type": "markdown",
   "id": "24",
   "metadata": {},
   "source": [
    "## 5. Box Charts\n",
    "A box plot (or whisker plot) shows the distribution, median, and outliers of a dataset. Use the [boxplot()](https://matplotlib.org/stable/api/_as_gen/matplotlib.pyplot.boxplot.html) function to create one!\n",
    "\n",
    "#### Try it out!\n",
    "We'll use [numpy.random.normal()](https://numpy.org/doc/stable/reference/random/generated/numpy.random.normal.html) to generate random numbers again."
   ]
  },
  {
   "cell_type": "code",
   "execution_count": null,
   "id": "25",
   "metadata": {},
   "outputs": [],
   "source": [
    "# generate random data\n",
    "data = np.random.normal(100, 20, 200)\n",
    "\n",
    "plt.boxplot(data)\n",
    "plt.show()"
   ]
  },
  {
   "cell_type": "markdown",
   "id": "26",
   "metadata": {},
   "source": [
    "#### Challenge yourself!\n",
    "Generate two sets of random data and plot them together in the same box chart by passing a list of datasets into boxplot(). For example:"
   ]
  },
  {
   "cell_type": "code",
   "execution_count": null,
   "id": "27",
   "metadata": {},
   "outputs": [],
   "source": [
    "plt.boxplot([data1, data2])"
   ]
  },
  {
   "cell_type": "code",
   "execution_count": null,
   "id": "28",
   "metadata": {},
   "outputs": [],
   "source": [
    "# use this space for the box plot challenge"
   ]
  },
  {
   "cell_type": "markdown",
   "id": "29",
   "metadata": {},
   "source": [
    "## 6. Customization\n",
    "The default graphs look clean, but customizing our graphs can better represent data themes and showcase your data. We'll cover how to add/change:\n",
    "- [markers](https://matplotlib.org/stable/api/markers_api.html)\n",
    "- [linestyles](https://matplotlib.org/stable/gallery/lines_bars_and_markers/linestyles.html)\n",
    "- [axis labels](https://matplotlib.org/stable/api/_as_gen/matplotlib.pyplot.xlabel.html)\n",
    "- [grid](https://matplotlib.org/stable/api/_as_gen/matplotlib.pyplot.grid.html)\n",
    "\n",
    "#### Try it out!\n",
    "Test the code below to see all four customizers in action."
   ]
  },
  {
   "cell_type": "code",
   "execution_count": null,
   "id": "30",
   "metadata": {},
   "outputs": [],
   "source": [
    "x = np.array([1, 2, 3, 4, 5])\n",
    "y = np.array([2, 6, 8, 14, 20])\n",
    "\n",
    "plt.plot(x, y, marker='o', linestyle='--', color='purple')\n",
    "plt.xlabel(\"X Axis\")\n",
    "plt.ylabel(\"Y Axis\")\n",
    "plt.grid(True)\n",
    "plt.show()\n"
   ]
  },
  {
   "cell_type": "markdown",
   "id": "31",
   "metadata": {},
   "source": [
    "#### Challenge yourself!\n",
    "Try customizing the line style to be dotted (':'), use triangle markers ('^'), and set the line color to green."
   ]
  },
  {
   "cell_type": "code",
   "execution_count": null,
   "id": "32",
   "metadata": {},
   "outputs": [],
   "source": [
    "# write your code here"
   ]
  },
  {
   "cell_type": "markdown",
   "id": "33",
   "metadata": {},
   "source": [
    "## 8. Random Data and Importing Data\n",
    "Sometimes you won’t always type in your own data points. You might want to generate random data for testing or import existing data from a file.\n",
    "\n",
    "### Generating Random Data\n",
    "You can use the [numpy.random.rand()](https://numpy.org/doc/stable/reference/random/generated/numpy.random.rand.html) function to generate random points between a 0 and 1."
   ]
  },
  {
   "cell_type": "code",
   "execution_count": null,
   "id": "34",
   "metadata": {},
   "outputs": [],
   "source": [
    "# generate 50 random x and y points between 0 and 1\n",
    "x = np.random.rand(50)\n",
    "y = np.random.rand(50)\n",
    "\n",
    "# create a scatter plot\n",
    "plt.scatter(x, y)\n",
    "plt.show()"
   ]
  },
  {
   "cell_type": "markdown",
   "id": "35",
   "metadata": {},
   "source": [
    "### Importing Data from a File\n",
    "You can also import real-world data using the [numpy.loadtxt()](https://numpy.org/doc/stable/reference/generated/numpy.loadtxt.html) function. Suppose you have a CSV file named data.csv with two columns (x, y):\n",
    "\n",
    "##### data.csv"
   ]
  },
  {
   "cell_type": "markdown",
   "id": "36",
   "metadata": {},
   "source": [
    "1,2\n",
    "2,4\n",
    "3,1\n",
    "4,3\n",
    "5,7"
   ]
  },
  {
   "cell_type": "markdown",
   "id": "37",
   "metadata": {},
   "source": [
    "You can load and plot data.csv like this:"
   ]
  },
  {
   "cell_type": "code",
   "execution_count": null,
   "id": "38",
   "metadata": {},
   "outputs": [],
   "source": [
    "# load CSV data into two arrays\n",
    "data = np.loadtxt(\"data.csv\", delimiter=\",\")\n",
    "x = data[:,0]   # first column\n",
    "y = data[:,1]   # second column\n",
    "\n",
    "plt.plot(x, y, marker='o')\n",
    "plt.show()"
   ]
  },
  {
   "cell_type": "markdown",
   "id": "39",
   "metadata": {},
   "source": [
    "#### Challenge yourself\n",
    "\n",
    "1. Use np.random.rand() to generate 100 random points, but scale them up to be between 0 and 100 instead of 0 and 1.\n",
    "Hint: multiply the output of rand() by 100.\n",
    "\n",
    "2. Create your own small CSV file with at least 5 (x, y) pairs and use loadtxt() to plot them."
   ]
  },
  {
   "cell_type": "code",
   "execution_count": null,
   "id": "40",
   "metadata": {},
   "outputs": [],
   "source": [
    "# write your code here"
   ]
  },
  {
   "cell_type": "markdown",
   "id": "41",
   "metadata": {},
   "source": [
    "## Key\n",
    "\n",
    "Line Challenge"
   ]
  }
 ],
 "metadata": {},
 "nbformat": 4,
 "nbformat_minor": 5
}
