{
 "cells": [
  {
   "cell_type": "markdown",
   "id": "9a60799f",
   "metadata": {},
   "source": [
    "# Matplotlib Tutorial\n",
    "\n",
    "Welcome to the tutorial! To get you comfortable with using Matplotlib will cover:\n",
    "1. Importing libraries\n",
    "2. Plotting Lines/Points\n",
    "3. Customization (markers, line, labels, grids)\n",
    "4. Changing plot types\n"
   ]
  },
  {
   "cell_type": "markdown",
   "id": "6e98a284",
   "metadata": {},
   "source": [
    "## Import Matplotlib and Pyplot and Numpy\n",
    "\n",
    "1. Add **matplotlib** into your applications by entering **'import matplotlib'** into your terminal\n",
    "2. Add **pyplot** into your applications by entering **'import matplotlib.pyplot as plt'** into your terminal. We'll refer to pyplot as 'plt' for short\n",
    "3. Add **pyplot** into your applications by entering **'import numpy as np'** into your terminal. We'll refer to pyplot as 'np' for short\n"
   ]
  },
  {
   "cell_type": "markdown",
   "id": "9fbb4ffa",
   "metadata": {},
   "source": [
    "### Plotting A Line\n",
    "The plot() function takes in two parameters. The first takes in the points on the x axis. The second takes in the points on the y axis.\n"
   ]
  },
  {
   "cell_type": "markdown",
   "id": "500168b7",
   "metadata": {},
   "source": [
    "#### Test it out\n",
    "Run this code below to practice calling the **array(), plot(), and show()** functions from the libraries we just imported.\n",
    "\n",
    "1. Import **libraries** (pyplot and numpy)\n",
    "2. Create an **array of x-points** (ranging 0 to 10) into **xpoints variable**\n",
    "3. Create an **array of y-points** (ranging 0 to 240) into **ypoints variable**\n",
    "4. Generate and show plot using **plot(xpoints, ypoints)** and **show()**"
   ]
  },
  {
   "cell_type": "code",
   "execution_count": null,
   "id": "68a10119",
   "metadata": {
    "vscode": {
     "languageId": "plaintext"
    }
   },
   "outputs": [],
   "source": [
    "# import our libraries\n",
    "import matplotlib.pyplot as plt\n",
    "import numpy as np\n",
    "\n",
    "# create an array using the array() function in the numpy library\n",
    "xpoints = np.array([0, 10])\n",
    "ypoints = np.array([0, 240])\n",
    "\n",
    "# generate and show our plot using the plot() and show() functions from pyplot library\n",
    "plt.plot(xpoints, ypoints)\n",
    "plt.show()"
   ]
  },
  {
   "cell_type": "markdown",
   "id": "935a0af5",
   "metadata": {},
   "source": [
    "### Plotting Points\n",
    "To plot only specified points, use the shortcut 'o' as a third parameter. This means rings.\n"
   ]
  },
  {
   "cell_type": "code",
   "execution_count": null,
   "id": "e4019f0e",
   "metadata": {
    "vscode": {
     "languageId": "plaintext"
    }
   },
   "outputs": [],
   "source": [
    "# create an array\n",
    "xpoints = np.array([0, 10])\n",
    "ypoints = np.array([0, 240])\n",
    "\n",
    "# use the 'o' shortcut to only plot points, no line\n",
    "plt.plot(xpoints, ypoints, 'o')\n",
    "plt.show()"
   ]
  },
  {
   "cell_type": "markdown",
   "id": "b500def2",
   "metadata": {},
   "source": [
    "### Plotting Multiple Points\n",
    "Below is an example of how to plot just the four coordinates (1,3), (2,7), (3,9), (5,2).\n",
    "\n",
    "#### Try it out!\n",
    "On your own, use the code below and plot 3 coordinates (0,4), (9,7), and (3,17)."
   ]
  },
  {
   "cell_type": "code",
   "execution_count": null,
   "id": "21dea885",
   "metadata": {
    "vscode": {
     "languageId": "plaintext"
    }
   },
   "outputs": [],
   "source": [
    "# two arrays of coords (1,3), (2,7), (3,9), (5,2)\n",
    "xpoints = np.array([1, 2, 3, 5])\n",
    "ypoints = np.array([4, 7, 9, 2])\n",
    "\n",
    "plt.plot(xpoints, ypoints)\n",
    "plt.show()"
   ]
  }
 ],
 "metadata": {
  "kernelspec": {
   "display_name": "Python 3 (ipykernel)",
   "language": "python",
   "name": "python3"
  },
  "language_info": {
   "codemirror_mode": {
    "name": "ipython",
    "version": 3
   },
   "file_extension": ".py",
   "mimetype": "text/x-python",
   "name": "python",
   "nbconvert_exporter": "python",
   "pygments_lexer": "ipython3",
   "version": "3.10.4"
  }
 },
 "nbformat": 4,
 "nbformat_minor": 5
}
