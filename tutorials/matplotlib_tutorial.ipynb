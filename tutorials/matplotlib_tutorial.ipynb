{
 "cells": [
  {
   "cell_type": "markdown",
   "id": "0",
   "metadata": {},
   "source": [
    "# Matplotlib Tutorial\n",
    "\n",
    "Author: Lauren Gliane\n",
    "\n",
    "Welcome to the tutorial! To get you comfortable with using Matplotlib we will cover:\n",
    "\n",
    "1. Why Learn?\n",
    "2. Plotting Lines and Points\n",
    "3. Bar Charts and Histograms\n",
    "4. Scatter Plots\n",
    "5. Box Charts\n",
    "6. Customization (markers, line, labels, grids)\n",
    "\n",
    "**Note:** You should complete the NumPy tutorial before this one!\n"
   ]
  },
  {
   "cell_type": "markdown",
   "id": "1",
   "metadata": {},
   "source": [
    "## 1. Why Learn Matplotlib?\n",
    "\n",
    "Whether you’re exploring trends, explaining your project results, or impressing in a presentation, **Matplotlib lets you bring your data to life with colorful, customizable charts**. It’s a must-have skill for turning numbers into something people can actually see, understand, and it makes your work stand out in any class, research project, or career path.\n",
    "\n",
    "In context of **Machine Learning applications**, Matplotlib can be used to:\n",
    "\n",
    "1. **Understand model behavior**\n",
    "   - Visualization can offer insights into your model by showing the learning process of a neural network or decision boundaries (where your model starts to change its mind).\n",
    "2. **Hyperparameter tuning**\n",
    "   - Plots can help understand the effect of changing hyperparameters on your model's performance, which lets you understand how to achieve the best results.\n"
   ]
  },
  {
   "cell_type": "markdown",
   "id": "2",
   "metadata": {},
   "source": [
    "### Importing our libraries\n",
    "\n",
    "If the cell below throws an error, run `pip install matplotlib numpy` in your terminal.\n"
   ]
  },
  {
   "cell_type": "code",
   "execution_count": null,
   "id": "3",
   "metadata": {},
   "outputs": [],
   "source": [
    "import matplotlib.pyplot as plt\n",
    "import numpy as np"
   ]
  },
  {
   "cell_type": "markdown",
   "id": "4",
   "metadata": {},
   "source": [
    "## 2. Plotting Lines and Points\n",
    "\n",
    "### The Importance of Lines in ML\n",
    "\n",
    "**Exploratory Data Analysis (EDA)** is a process taken to understand the data you are working with. EDA involves plotting your data to discover patterns and identify anomalies. To perform EDA, we need to visualize the data using tools like Matplotlib.\n"
   ]
  },
  {
   "cell_type": "markdown",
   "id": "5",
   "metadata": {},
   "source": [
    "### Plotting Lines\n",
    "\n",
    "[Matplotlib Line Documentation](https://matplotlib.org/stable/gallery/lines_bars_and_markers/simple_plot.html), [matplotlib.plot() Documentation](https://matplotlib.org/stable/api/_as_gen/matplotlib.pyplot.plot.html), [matplotlib.show() Documentation](https://matplotlib.org/stable/api/_as_gen/matplotlib.pyplot.show.html)\n",
    "\n",
    "The `plt.plot()` function takes in two parameters. The first takes in x-values of your points, and the second takes in the y-values of your points. The function adds elements to the figures, but does not create a visible graph yet. `plt.show()` opens a graphical user interface (GUI) window to display your figures.\n",
    "\n",
    "_Note:_\n",
    "_In Jupyter Notebooks, calling `plt.show()` is not necessary, but you must call it to view your plots when running Python code in your terminal._\n"
   ]
  },
  {
   "cell_type": "code",
   "execution_count": null,
   "id": "6",
   "metadata": {},
   "outputs": [],
   "source": [
    "# create an array of points: (0, 0) and (10, 10)\n",
    "points = np.array([[0, 0], [10, 10]])\n",
    "\n",
    "# Use slicing to pass in the x-values first, then the y-values\n",
    "plt.plot(points[:, 0], points[:, 1])\n",
    "plt.show()"
   ]
  },
  {
   "cell_type": "markdown",
   "id": "7",
   "metadata": {},
   "source": [
    "### Plotting Points\n",
    "\n",
    "To plot only specified points, use the shortcut 'o' as a third parameter to plot the points in the graph.\n",
    "\n",
    "The points or **markers** can be changed to different symbols. The [matplotlib.markers Documentation](https://matplotlib.org/stable/api/markers_api.html) provides a key for all available customization symbols.\n",
    "\n",
    "##### Exercise 1: Try out different shapes\n",
    "\n",
    "Open the documentation link above and plot the same points with different markers, such as a square or a star!\n"
   ]
  },
  {
   "cell_type": "code",
   "execution_count": null,
   "id": "8",
   "metadata": {},
   "outputs": [],
   "source": [
    "# create an array of 10 random points\n",
    "points = np.random.rand(10, 2) * 10\n",
    "\n",
    "# use the 'o' shortcut to only plot points, no line\n",
    "plt.plot(points[:, 0], points[:, 1], \"o\")\n",
    "plt.show()"
   ]
  },
  {
   "cell_type": "markdown",
   "id": "9",
   "metadata": {},
   "source": [
    "#### Exercise 2\n",
    "\n",
    "On your own, plot 3 coordinates using triangles (0,4), (3,7), and (9,17).\n"
   ]
  },
  {
   "cell_type": "code",
   "execution_count": null,
   "id": "10",
   "metadata": {},
   "outputs": [],
   "source": [
    "# write your code here"
   ]
  },
  {
   "cell_type": "markdown",
   "id": "11",
   "metadata": {},
   "source": [
    "#### **Solution**\n",
    "\n",
    "(Try to solve it yourself first before looking!)\n",
    "\n",
    "Click the cells below to reveal a possible solution approach.\n"
   ]
  },
  {
   "cell_type": "code",
   "execution_count": null,
   "id": "12",
   "metadata": {},
   "outputs": [],
   "source": [
    "points = np.array([[0, 4], [3, 7], [9, 17]])\n",
    "\n",
    "plt.plot(points[:, 0], points[:, 1], \"^\")\n",
    "plt.show()"
   ]
  },
  {
   "cell_type": "markdown",
   "id": "13",
   "metadata": {},
   "source": [
    "## 3. Bar Charts and Histograms\n",
    "\n",
    "Bar charts and histograms are important in machine learning for:\n",
    "\n",
    "1. **Visualizing and comparing categorical data:** bar charts allow you to easily compare frequencies of discrete values.\n",
    "2. **Evaluating model performance:** performance metrics (such as error rates or accuracy) are often visualized through bar charts to compare the effect of changes.\n"
   ]
  },
  {
   "cell_type": "markdown",
   "id": "14",
   "metadata": {},
   "source": [
    "### Bar Charts\n",
    "\n",
    "[matplotlib.pyplot.bar Documentation](https://matplotlib.org/stable/api/_as_gen/matplotlib.pyplot.bar.html)\n",
    "\n",
    "Matplotlib uses the `plt.bar()` function to create bar charts.\n",
    "\n",
    "#### Demo\n",
    "\n",
    "Our x-values will be fruit names (categories). Our y points will be the amount of fruits (values).\n"
   ]
  },
  {
   "cell_type": "code",
   "execution_count": null,
   "id": "15",
   "metadata": {},
   "outputs": [],
   "source": [
    "# categories and values\n",
    "x = np.array([\"Apples\", \"Bananas\", \"Cherries\", \"Dates\"])\n",
    "y = np.array([5, 7, 3, 8])\n",
    "\n",
    "plt.bar(x, y)\n",
    "plt.show()"
   ]
  },
  {
   "cell_type": "markdown",
   "id": "16",
   "metadata": {},
   "source": [
    "#### Exercise 3\n",
    "\n",
    "Create a **horizontal bar** chart to show the **top 4** fruits and their % according to this [report of popular fruits](https://www.freshproduce.com/resources/consumer-trends/top-20/).\n",
    "\n",
    "_Hint: Use [plt.barh()](https://matplotlib.org/stable/api/_as_gen/matplotlib.pyplot.barh.html) instead of just `plt.bar()`to create horizontal chart. If your x-axis doesn't look quite right, take a look at the docs!_\n"
   ]
  },
  {
   "cell_type": "code",
   "execution_count": null,
   "id": "17",
   "metadata": {},
   "outputs": [],
   "source": [
    "# write your code here"
   ]
  },
  {
   "cell_type": "markdown",
   "id": "18",
   "metadata": {},
   "source": [
    "#### **Solution**\n",
    "\n",
    "(Try to solve it yourself first before looking!)\n",
    "\n",
    "Click the cells below to reveal a possible solution approach.\n"
   ]
  },
  {
   "cell_type": "code",
   "execution_count": null,
   "id": "19",
   "metadata": {},
   "outputs": [],
   "source": [
    "points = np.array(\n",
    "    [\n",
    "        [\"Grapes\", 74],\n",
    "        [\"Apples\", 77],\n",
    "        [\"Berries\", 82],\n",
    "        [\"Bananas\", 84],\n",
    "    ]\n",
    ")\n",
    "\n",
    "plt.barh(points[:, 0], points[:, 1])\n",
    "plt.show()"
   ]
  },
  {
   "cell_type": "markdown",
   "id": "20",
   "metadata": {},
   "source": [
    "## Histograms\n",
    "\n",
    "Histograms are used to show the distribution of a dataset, this is helpful when identifying distribution type as normal, skewed, or something else. The distribution visualization feature of histograms can also provide valuable insights that can guide:\n",
    "\n",
    "1. **Data Preprocessing**: transforming your data to a different scale to aid learning\n",
    "2. **Feature Engineering**: turning raw data in to relevant information to improve your model\n",
    "3. **Model Selection**: choosing a model fit for the given problem helps avoid overfitting and underfitting\n",
    "\n",
    "#### Demo: Try it out!\n",
    "\n",
    "To generate our histogram use the the `hist()` function to do so.\n",
    "We'll use the [numpy.random.normal()](https://numpy.org/doc/stable/reference/random/generated/numpy.random.normal.html) to generate 250 random values with mean 170 and std 10.\n"
   ]
  },
  {
   "cell_type": "code",
   "execution_count": null,
   "id": "21",
   "metadata": {},
   "outputs": [],
   "source": [
    "# generate 250 random values with mean 170 and std 10\n",
    "x = np.random.normal(170, 10, 250)\n",
    "\n",
    "plt.hist(x)\n",
    "plt.show()"
   ]
  },
  {
   "cell_type": "markdown",
   "id": "22",
   "metadata": {},
   "source": [
    "#### Exercise 4\n",
    "\n",
    "Alter the code above to **change the number of bins** in the histogram using the bins parameter (e.g., `plt.hist(x, bins=20)`). Try experimenting with different bin counts and observe how it changes the distribution shape.\n"
   ]
  },
  {
   "cell_type": "code",
   "execution_count": null,
   "id": "23",
   "metadata": {},
   "outputs": [],
   "source": [
    "# write your code here"
   ]
  },
  {
   "cell_type": "markdown",
   "id": "24",
   "metadata": {},
   "source": [
    "## 4. Scatter Plots\n",
    "\n",
    "Scatter plots are important in ML for visually identifying patterns, trends, and correlations between variables, detecting outliers, and understanding the distribution of data.\n",
    "\n",
    "1. Pattern and Trend Recognition: identifying themes within a dataset (image/voice recognition, movement/behavior patterns)\n",
    "2. Understanding Data Distribution: discovering positive, negative, or no correlation between variable changes\n",
    "3. Predictive Modeling Insights: provides insights to comparing actual values against predicted values\n",
    "\n",
    "#### Demo: Try it out!\n",
    "\n",
    "Use the [scatter()](https://matplotlib.org/stable/api/_as_gen/matplotlib.pyplot.scatter.html) function to generate a scatter plot from the x and y array.\n"
   ]
  },
  {
   "cell_type": "code",
   "execution_count": null,
   "id": "25",
   "metadata": {},
   "outputs": [],
   "source": [
    "x = np.array([5, 7, 8, 7, 2, 17, 2, 9, 4, 11])\n",
    "y = np.array([99, 86, 87, 88, 100, 86, 103, 87, 94, 78])\n",
    "\n",
    "plt.scatter(x, y)\n",
    "plt.show()"
   ]
  },
  {
   "cell_type": "markdown",
   "id": "26",
   "metadata": {},
   "source": [
    "#### Exercise 5: Challenge yourself!\n",
    "\n",
    "Modify the scatter plot to show red dots instead of default blue ones. Hint: add a `color='red'` parameter in `scatter()`.\n"
   ]
  },
  {
   "cell_type": "code",
   "execution_count": null,
   "id": "27",
   "metadata": {},
   "outputs": [],
   "source": [
    "# write your code here"
   ]
  },
  {
   "cell_type": "markdown",
   "id": "28",
   "metadata": {},
   "source": [
    "## 5. Box Charts\n",
    "\n",
    "A box plot (or whisker plot) shows the distribution, median, and outliers of a dataset.\n",
    "Plotting box charts, or box-and-whisker plots, is important for machine learning applications because they are a compact and effective method for visualizing data distribution and detecting outliers. This is a crucial step in the exploratory data analysis (EDA) and data preprocessing phases of any ML project.\n",
    "\n",
    "Use the [boxplot()](https://matplotlib.org/stable/api/_as_gen/matplotlib.pyplot.boxplot.html) function to create one!\n",
    "\n",
    "#### Demo: Try it out!\n",
    "\n",
    "We'll use [numpy.random.normal()](https://numpy.org/doc/stable/reference/random/generated/numpy.random.normal.html) to generate random numbers again.\n"
   ]
  },
  {
   "cell_type": "code",
   "execution_count": null,
   "id": "29",
   "metadata": {},
   "outputs": [],
   "source": [
    "# generate random data\n",
    "data = np.random.normal(100, 20, 200)\n",
    "\n",
    "plt.boxplot(data)\n",
    "plt.show()"
   ]
  },
  {
   "cell_type": "markdown",
   "id": "30",
   "metadata": {},
   "source": [
    "## 6. Customization\n",
    "\n",
    "The default graphs look clean, but customizing our graphs can better represent data themes and showcase your data. We'll cover how to add/change:\n",
    "\n",
    "- [markers](https://matplotlib.org/stable/api/markers_api.html)\n",
    "- [linestyles](https://matplotlib.org/stable/gallery/lines_bars_and_markers/linestyles.html)\n",
    "- [axis labels](https://matplotlib.org/stable/api/_as_gen/matplotlib.pyplot.xlabel.html)\n",
    "- [grid](https://matplotlib.org/stable/api/_as_gen/matplotlib.pyplot.grid.html)\n",
    "\n",
    "#### Try it out!\n",
    "\n",
    "Test the code below to see all four customizers in action.\n"
   ]
  },
  {
   "cell_type": "code",
   "execution_count": null,
   "id": "31",
   "metadata": {},
   "outputs": [],
   "source": [
    "x = np.array([1, 2, 3, 4, 5])\n",
    "y = np.array([2, 6, 8, 14, 20])\n",
    "\n",
    "# marker: circle\n",
    "# linestyle:  dashed\n",
    "# color: purple\n",
    "plt.plot(x, y, marker=\"o\", linestyle=\"--\", color=\"purple\")\n",
    "plt.show()\n"
   ]
  },
  {
   "cell_type": "markdown",
   "id": "32",
   "metadata": {},
   "source": [
    "### Lines and Markers\n",
    "\n",
    "A variety of [linestyles](https://matplotlib.org/stable/gallery/lines_bars_and_markers/linestyles.html) and [markers](https://matplotlib.org/stable/api/markers_api.html) are provided in the matplotlib library. Complete the challenge below to the specified colors and markers, but also test out other symbols on your own!\n",
    "\n",
    "#### Exercise 7: Challenge yourself!\n",
    "\n",
    "Try customizing the line style to be dotted, use triangle markers, and set the line color to green. _(Hint: Check through the linked documentation above)_\n"
   ]
  },
  {
   "cell_type": "code",
   "execution_count": null,
   "id": "33",
   "metadata": {},
   "outputs": [],
   "source": [
    "x = np.array([1, 2, 3, 4, 5])\n",
    "y = np.array([2, 6, 8, 14, 20])\n",
    "\n",
    "# write your code below\n"
   ]
  },
  {
   "cell_type": "markdown",
   "id": "34",
   "metadata": {},
   "source": [
    "#### **Solution**\n",
    "\n",
    "(Try to solve it yourself first before looking!)\n",
    "\n",
    "Click the cells below to reveal a possible solution approach.\n"
   ]
  },
  {
   "cell_type": "code",
   "execution_count": null,
   "id": "35",
   "metadata": {},
   "outputs": [],
   "source": [
    "x = np.array([1, 2, 3, 4, 5])\n",
    "y = np.array([2, 6, 8, 14, 20])\n",
    "\n",
    "plt.plot(x, y, linestyle=\":\", marker=\"^\", color=\"green\")\n",
    "plt.show()"
   ]
  },
  {
   "cell_type": "markdown",
   "id": "36",
   "metadata": {},
   "source": [
    "### Labeling: Title and Axes\n",
    "\n",
    "One of the most important parts: Let's name our [title](https://matplotlib.org/stable/api/_as_gen/matplotlib.pyplot.title.html), [x axis](https://matplotlib.org/stable/api/_as_gen/matplotlib.pyplot.xlabel.html), and [y axis](https://matplotlib.org/stable/api/_as_gen/matplotlib.pyplot.ylabel.html).\n",
    "(Click for matplotlib Documentation)\n",
    "\n",
    "#### Exercise 8\n",
    "\n",
    "Use the following functions to create labels for the Exercise 7 graph:\n",
    "\n",
    "1. `plt.title(your_title)`\n",
    "2. `plt.xlabel(your_xlabel)`\n",
    "3. `plt.ylabel(your_ylabel)`\n"
   ]
  },
  {
   "cell_type": "code",
   "execution_count": null,
   "id": "37",
   "metadata": {},
   "outputs": [],
   "source": [
    "x = np.array([1, 2, 3, 4, 5])\n",
    "y = np.array([2, 6, 8, 14, 20])\n",
    "\n",
    "plt.plot(x, y, marker=\"o\", linestyle=\"--\", color=\"purple\")\n",
    "\n",
    "# write your code here\n",
    "\n",
    "plt.show()"
   ]
  }
 ],
 "metadata": {},
 "nbformat": 4,
 "nbformat_minor": 5
}
