{
 "cells": [
  {
   "cell_type": "markdown",
   "id": "0",
   "metadata": {},
   "source": [
    "# PyTorch QuickGuide\n",
    "\n",
    "Author: Kellen Sullivan\n",
    "\n",
    "This is a quick guide for how to load in pre-built models provided by PyTorch to train and deploy on your own on dataset. If you are interested in learning all the PyTorch basics, and how to build your very own model, checkout the official PyTorch begineers guide [here](https://docs.pytorch.org/tutorials/beginner/basics/intro.html).\n"
   ]
  },
  {
   "cell_type": "markdown",
   "id": "1",
   "metadata": {},
   "source": [
    "## Getting Started\n",
    "\n",
    "To get started using PyTorch, you first have to install it! To do so, open a new terminal and run the following command:\n",
    "\n",
    "- If you are on Windows/Mac: `pip3 install torch torchvision`\n",
    "- If you are on Linux: `pip3 install torch torchvision --index-url https://download.pytorch.org/whl/cpu`\n",
    "\n",
    "Note that these commands will use your CPU as the compute platform. If you have an NVIDIA GPU, you can install PyTorch with CUDA as the compute platform to greatly speed up training. Check out the official installation guide to learn more: https://pytorch.org/get-started/locally/\n",
    "\n",
    "You can confirm PyTorch was successfully installed by importing the package and printing out its version.\n"
   ]
  },
  {
   "cell_type": "code",
   "execution_count": null,
   "id": "2",
   "metadata": {},
   "outputs": [],
   "source": [
    "import torch\n",
    "\n",
    "print(torch.__version__)"
   ]
  },
  {
   "cell_type": "markdown",
   "id": "3",
   "metadata": {},
   "source": [
    "## Loading a Prebuilt Model\n",
    "\n",
    "PyTorch has libraries such as [torchvision](https://docs.pytorch.org/vision/0.8/models.html), [torchaudio](https://docs.pytorch.org/audio/stable/models.html), and [torchtext](https://docs.pytorch.org/text/stable/models.html) that provide prebuilt models to quickly process image data, audio data, or text data. In this quickguide, we will use a prebuilt model from torchvision to classify images into 1 of 10 categories: airplane, automobile, bird, cat, deer, dog, frog, horse, ship, and truck.\n"
   ]
  },
  {
   "cell_type": "markdown",
   "id": "4",
   "metadata": {},
   "source": [
    "### Datasets\n",
    "\n",
    "Before we load in a prebuilt model, we need to get data. Thankfully torchvision provides datasets that can be easily accessed to train neural networks in PyTorch, including the [CIFAR-10](https://www.cs.toronto.edu/~kriz/cifar.html) dataset that we will be training a model on!\n",
    "\n",
    "CIFAR-10 contains small 32×32 pixel color images across 10 categories.\n",
    "However, the prebuilt ResNet-18 model we will later use to classify CIFAR-10 images was originally trained on [ImageNet](https://www.image-net.org/download.php?utm_source=chatgpt.com), a much larger dataset with 224×224 pixel images and 1,000 output classes.\n",
    "\n",
    "Because of these differences, we’ll need to do two things:\n",
    "\n",
    "1. Resize the CIFAR-10 images to match the input size expected by ResNet-18 (224x224).\n",
    "2. Modify the model’s final layer so it predicts 10 classes instead of 1,000. We will do this later in the PreBuilt Models section.\n",
    "\n",
    "To start, we’ll define a transform to resize the CIFAR-10 images and prepare them for use with the ResNet-18 prebuilt model.\n"
   ]
  },
  {
   "cell_type": "code",
   "execution_count": null,
   "id": "5",
   "metadata": {},
   "outputs": [],
   "source": [
    "from torchvision import datasets, transforms\n",
    "\n",
    "transform = transforms.Compose(\n",
    "    [\n",
    "        transforms.Resize((224, 224)),  # resize images: 32x32 -> 224x224\n",
    "        transforms.ToTensor(),\n",
    "    ]\n",
    ")\n",
    "\n",
    "training_data = datasets.CIFAR10(root=\"data\", train=True, download=True, transform=transform)\n",
    "\n",
    "test_data = datasets.CIFAR10(root=\"data\", train=False, download=True, transform=transform)"
   ]
  },
  {
   "cell_type": "markdown",
   "id": "6",
   "metadata": {},
   "source": [
    "We load training data and testing data separately, that way we can train the model using the training data and then test it on never before seen data, to ensure the model is indeed learning how to classify images and not just memorizing the training dataset.\n",
    "\n",
    "`training_data` is a set of 50,000 3x32x32 images with their corresponding labels (3 representes the 3 color channels red, green, and blue)\n",
    "\n",
    "`test_data` is a set of 10,000 3x32x32 images with their corresponding labels\n",
    "\n",
    "The parameters do the following:\n",
    "\n",
    "- `root` is the path where the train/test data is stored or should be saved\n",
    "- `train` specifies which dataset to fetch, training or test\n",
    "- `download` if true, dowloads the data from the internet if it's not available at `root`.\n",
    "- `transform` specify the transformations to be applied to the dataset using a `transforms.Compose` object\n",
    "\n",
    "To check that we successfully loaded the data, let's print a random example image from the training dataset.\n"
   ]
  },
  {
   "cell_type": "code",
   "execution_count": null,
   "id": "7",
   "metadata": {},
   "outputs": [],
   "source": [
    "import random\n",
    "\n",
    "import matplotlib.pyplot as plt\n",
    "\n",
    "idx = random.randint(0, len(training_data) - 1)\n",
    "img, label = training_data[idx]\n",
    "\n",
    "# show image\n",
    "plt.imshow(img.permute(1, 2, 0))\n",
    "plt.title(training_data.classes[label])\n",
    "plt.axis(\"off\")\n",
    "plt.show()"
   ]
  },
  {
   "cell_type": "markdown",
   "id": "8",
   "metadata": {},
   "source": [
    "### DataLoader\n",
    "\n",
    "Before we can start training, we need an efficient way to feed images from our dataset into our model. Thankfully, PyTorch’s `DataLoader` class makes this simple. It wraps an existing dataset and handles batching, shuffling, and loading data in parallel, which can greatly improve training efficiency. The key difference between a dataset and `DataLoader` is that a dataset provides access to individual samples, while a `DataLoader` controls how those samples are efficiently fed to the model during training.\n",
    "\n",
    "The following code creates two DataLoaders, one for training and one for testing:\n"
   ]
  },
  {
   "cell_type": "code",
   "execution_count": null,
   "id": "9",
   "metadata": {},
   "outputs": [],
   "source": [
    "train_loader = torch.utils.data.DataLoader(\n",
    "    training_data,\n",
    "    batch_size=64,  # number of samples loaded per batch, aka how many images are trained on at a time\n",
    "    shuffle=True,  # randomize the order of samples\n",
    "    num_workers=2,  # number of processes used to load data\n",
    ")\n",
    "\n",
    "test_loader = torch.utils.data.DataLoader(test_data, batch_size=64, shuffle=False, num_workers=2)"
   ]
  },
  {
   "cell_type": "markdown",
   "id": "10",
   "metadata": {},
   "source": [
    "These parameters determine how your data is batched, shuffled, and loaded\n",
    "\n",
    "- `batch_size` is how many samples are loaded per batch.\n",
    "- `shuffle=True` randomizes the sample order each time the data is loaded, preventing the model from memorizing the order.\n",
    "- `num_workers` is the number of subprocesses used to load data in parallel.\n"
   ]
  },
  {
   "cell_type": "markdown",
   "id": "11",
   "metadata": {},
   "source": [
    "### Prebuilt Models\n",
    "\n",
    "Now that we have loaded our data and can iterate through it, we can load in our pre-built model! You can read about many different prebuilt models provided by torchvision [here](https://docs.pytorch.org/vision/0.9/models.html). For this quickguide we will use the [ResNet-18](https://docs.pytorch.org/vision/2.0/models/generated/torchvision.models.resnet18.html) model due to its small size.\n"
   ]
  },
  {
   "cell_type": "code",
   "execution_count": null,
   "id": "12",
   "metadata": {},
   "outputs": [],
   "source": [
    "import torch.nn as nn\n",
    "import torchvision.models as models\n",
    "\n",
    "resnet_model = models.resnet18(weights=None)  # only load model structure, not model weights"
   ]
  },
  {
   "cell_type": "markdown",
   "id": "13",
   "metadata": {},
   "source": [
    "You can view the structure of any PyTorch model by simply printing it\n"
   ]
  },
  {
   "cell_type": "code",
   "execution_count": null,
   "id": "14",
   "metadata": {},
   "outputs": [],
   "source": [
    "print(resnet_model)"
   ]
  },
  {
   "cell_type": "markdown",
   "id": "15",
   "metadata": {},
   "source": [
    "Notice that by default, the ResNet18 model’s final layer is defined as the following:\n",
    "\n",
    "`(fc): Linear(in_features=512, out_features=1000, bias=True)`\n",
    "\n",
    "This model was originally designed for a classification task that required distinguishing between 1000 different categories. However, our CIFAR-10 dataset only has 10 classes (airplane, automobile, bird, cat, deer, dog, frog, horse, ship, and truck).\n",
    "\n",
    "Since we only need to classify images into 10 categories instead of 1000, we need to adjust the final layer so the model produces 10 output scores instead of the default 1000. We can do this by replacing the last layer with a new layer that maps the same 512 input features to 10 output nodes:\n"
   ]
  },
  {
   "cell_type": "code",
   "execution_count": null,
   "id": "16",
   "metadata": {},
   "outputs": [],
   "source": [
    "resnet_model.fc = nn.Linear(resnet_model.fc.in_features, 10)  # overwrite resnet_model.fc layer to have 10 output nodes\n",
    "\n",
    "print(resnet_model)"
   ]
  },
  {
   "cell_type": "markdown",
   "id": "17",
   "metadata": {},
   "source": [
    "The final layer should now have 10 outputs, matching the exact structure we need to classify CIFAR-10 images!\n"
   ]
  },
  {
   "cell_type": "markdown",
   "id": "18",
   "metadata": {},
   "source": [
    "## Train a Model\n",
    "\n",
    "Our ResNet18 model contains over 11 million parameters (weights and biases) that influence how the model classifies images. In order for the model to accurately classify images, it must learn the optimal values for those weights and biases through training.\n",
    "\n",
    "Before we can train our model, we need to define two key components: a loss function and an optimizer.\n",
    "\n",
    "- The [loss function](https://docs.pytorch.org/tutorials/beginner/basics/optimization_tutorial.html#loss-function) measures how far the model’s predictions are from the correct labels. The lower the loss, the better the model is performing.\n",
    "- The [optimizer](https://docs.pytorch.org/tutorials/beginner/basics/optimization_tutorial.html#optimizer) updates the model’s parameters based on the loss, nudging them in directions that reduce future errors. It uses an algorithm called backpropagation to compute how much each parameter contributed to the loss and how it should be adjusted.\n"
   ]
  },
  {
   "cell_type": "code",
   "execution_count": null,
   "id": "19",
   "metadata": {},
   "outputs": [],
   "source": [
    "import torch.optim as optim\n",
    "\n",
    "loss_function = nn.CrossEntropyLoss()\n",
    "optimizer = optim.Adam(\n",
    "    resnet_model.parameters(), lr=0.001\n",
    ")  # lr: learning rate affects how quickly the model adjusts parameters"
   ]
  },
  {
   "cell_type": "markdown",
   "id": "20",
   "metadata": {},
   "source": [
    "We train the model by iterating over all the images in our training dataset. For each batch of images and their corresponding labels:\n",
    "\n",
    "1. We reset the gradients using `optimizer.zero_grad()` so updates from previous batches don’t accumulate.\n",
    "2. We pass the images through the model to get predictions.\n",
    "3. We calculate the loss between the predictions and true labels.\n",
    "4. We backpropagate the loss using `loss.backward()`, which computes how each parameter should change.\n",
    "5. We update the model parameters with `optimizer.step()`.\n",
    "\n",
    "Over many iterations, the model gradually adjusts its 11 million+ parameters to improve its predictions.\n"
   ]
  },
  {
   "cell_type": "code",
   "execution_count": null,
   "id": "21",
   "metadata": {},
   "outputs": [],
   "source": [
    "running_loss = 0.0\n",
    "for i, (images, labels) in enumerate(train_loader):\n",
    "    outputs = resnet_model(images)  # get model predictions for this batch of images\n",
    "    loss = loss_function(outputs, labels)  # calculate loss\n",
    "\n",
    "    # Track running loss on training data\n",
    "    print(f\"[Batch {i + 1:5d}] training loss: {loss.item():.4f}\")\n",
    "\n",
    "    loss.backward()  # compute gradients for each weight (how each weight should change to minimize loss)\n",
    "    optimizer.step()  # update model weights\n",
    "\n",
    "    optimizer.zero_grad()  # reset gradients from the previous batch\n",
    "\n",
    "print(\"Finished Training\")"
   ]
  },
  {
   "cell_type": "markdown",
   "id": "22",
   "metadata": {},
   "source": [
    "If you want to learn more about how gradients and backpropagation work, check out the [PyTorch Optimization Tutorial](https://docs.pytorch.org/tutorials/beginner/basics/optimization_tutorial.html)\n"
   ]
  },
  {
   "cell_type": "markdown",
   "id": "23",
   "metadata": {},
   "source": [
    "## Evaluate a Model\n",
    "\n",
    "After training, we need to test how well our model generalizes to unseen data. This step is crucial because a model that performs well on training data might simply be memorizing it rather than learning meaningful patterns — a problem known as overfitting.\n",
    "\n",
    "To evaluate performance, we use the test dataset, which the model has never seen during training. We pass each batch of test images through the model, compare its predictions to the true labels, and compute the overall accuracy.\n"
   ]
  },
  {
   "cell_type": "code",
   "execution_count": null,
   "id": "24",
   "metadata": {},
   "outputs": [],
   "source": [
    "correct, total = 0, 0\n",
    "resnet_model.eval()  # set the model to evaluation mode\n",
    "with torch.no_grad():  # disable gradient tracking since we’re not updating weights\n",
    "    for images, labels in test_loader:\n",
    "        outputs = resnet_model(images)  # get model predictions for a batch of images\n",
    "        _, predicted = torch.max(outputs, 1)  # select the class with the highest score\n",
    "        total += labels.size(0)  # count total number of images processed\n",
    "        correct += (predicted == labels).sum().item()  # count how many predictions were correct\n",
    "\n",
    "print(f\"Test accuracy: {100 * correct / total:.2f}%\")"
   ]
  },
  {
   "cell_type": "markdown",
   "id": "25",
   "metadata": {},
   "source": [
    "This gives the model's accuracy percentage or the percentage of test images that were correctly classified. For more advanced analysis of classification models, you could also compute metrics like [precision](https://developers.google.com/machine-learning/crash-course/classification/accuracy-precision-recall#precision), [recall](https://developers.google.com/machine-learning/crash-course/classification/accuracy-precision-recall#recall_or_true_positive_rate), or a [confusion matrix](https://www.geeksforgeeks.org/machine-learning/confusion-matrix-machine-learning/), but accuracy is a good starting point for quick model evaluation.\n"
   ]
  },
  {
   "cell_type": "markdown",
   "id": "26",
   "metadata": {},
   "source": [
    "## Save a Model\n",
    "\n",
    "Once training is complete, you can save your model so it can be reused later without retraining. To do so, we will use the `torch.save` method to save the model structure and weights to a file called `model.pth`.\n"
   ]
  },
  {
   "cell_type": "code",
   "execution_count": null,
   "id": "27",
   "metadata": {},
   "outputs": [],
   "source": [
    "torch.save(resnet_model, \"model.pth\")  # save model to model.pth file"
   ]
  },
  {
   "cell_type": "markdown",
   "id": "28",
   "metadata": {},
   "source": [
    "You can then reload the model with all the weights it learned while training using the `torch.load` method.\n"
   ]
  },
  {
   "cell_type": "code",
   "execution_count": null,
   "id": "29",
   "metadata": {},
   "outputs": [],
   "source": [
    "resnet_model = torch.load(\"model.pth\")  # load full model stored in model.pth"
   ]
  },
  {
   "cell_type": "markdown",
   "id": "30",
   "metadata": {},
   "source": [
    "## Conclusion and Further Readings\n",
    "\n",
    "Congratulations for completing the PyTorch Quick Guide! 🎓🎉 You now have the skills to load, train, and test a PyTorch Model!\n",
    "\n",
    "If you want to learn all the PyTorch basics, check out some of these resources:\n",
    "\n",
    "- [Official PyTorch Begineers Guide](https://docs.pytorch.org/tutorials/beginner/basics/intro.html).\n",
    "- [Deep Learning with PyTorch: A 60 Minute Blitz](https://docs.pytorch.org/tutorials/beginner/deep_learning_60min_blitz.html)\n"
   ]
  }
 ],
 "metadata": {},
 "nbformat": 4,
 "nbformat_minor": 5
}
