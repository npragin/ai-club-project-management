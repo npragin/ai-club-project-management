{
 "cells": [
  {
   "cell_type": "markdown",
   "id": "0",
   "metadata": {},
   "source": [
    "# NumPy Tutorial\n",
    "\n",
    "Author: Ally Chen\n",
    "\n",
    "This is an introductory tutorial for NumPy, the core Python library for fast numerical computing.\n"
   ]
  },
  {
   "cell_type": "markdown",
   "id": "1",
   "metadata": {},
   "source": [
    "## What is NumPy?\n",
    "\n",
    "NumPy provides high-performance, multidimensional arrays and vectorized operations that replace slow Python loops. Tools like pandas, SciPy, scikit-learn, and PyTorch, rely on NumPy under the hood. The result is **cleaner code that runs much faster with far less looping**. By the end of this tutorial, you’ll have the skills necessary to perform the following:\n",
    "\n",
    "1. Represent data as vectors and matrices.\n",
    "2. Create and inspect arrays.\n",
    "3. Index and slice arrays.\n",
    "4. Perform element-wise operations and broadcasting.\n",
    "5. Reshape & copy data.\n"
   ]
  },
  {
   "cell_type": "markdown",
   "id": "2",
   "metadata": {},
   "source": [
    "## NumPy Installation\n",
    "\n",
    "Run the following cell. If it errors, install by running `pip install numpy` in your terminal.\n"
   ]
  },
  {
   "cell_type": "code",
   "execution_count": null,
   "id": "3",
   "metadata": {},
   "outputs": [],
   "source": [
    "import numpy as np"
   ]
  },
  {
   "cell_type": "markdown",
   "id": "4",
   "metadata": {},
   "source": [
    "## Multi-Dimensional Arrays\n"
   ]
  },
  {
   "cell_type": "markdown",
   "id": "5",
   "metadata": {},
   "source": [
    "**_Why multi-dimensional arrays for machine learning?_**\n",
    "\n",
    "Multi-dimensional arrays are the backbone of NumPy. Most real machine learning data isn’t flat. A single example might be a list of features (measurements used to make predictions), a picture (a grid of pixels), or a short sequence over time, and we usually process **many** examples at once, in what we call \"batches\". A multi-dimensional array lets us keep each \"dimension\" of the data separate (rows, columns, time, color channels, batch size) and run fast operations without Python loops\n",
    "\n",
    "**_What do multi-dimensional arrays look like?_**\n",
    "\n",
    "- A 1D array is like a simple list `[1, 2, 3]`.\n",
    "- A 2D array is like a table or matrix (rows × columns).\n",
    "- A 3D array is like a stack of tables.\n",
    "- Higher dimensions are possible, but most people stop at 2D or 3D for practical work.\n",
    "\n",
    "_NumPy arrays are called `ndarrays` (“n-dimensional arrays”) because they can have any number of dimensions._\n",
    "The more dimensions an array has, the trickier they are to understand.\n"
   ]
  },
  {
   "cell_type": "markdown",
   "id": "6",
   "metadata": {},
   "source": [
    "**_When do you use 1D arrays?_**\n",
    "\n",
    "Use a 1D array when your data is one list of values, such as a single feature vector (measurements used to make predictions) or a list of labels (what a model is trying to predict). If you start stacking many of these together (many samples or many time steps), move up to 2D or higher.\n"
   ]
  },
  {
   "cell_type": "code",
   "execution_count": null,
   "id": "7",
   "metadata": {},
   "outputs": [],
   "source": [
    "# 1D array/vector\n",
    "x = np.array([5, 10, 15])\n",
    "print(x)"
   ]
  },
  {
   "attachments": {},
   "cell_type": "markdown",
   "id": "8",
   "metadata": {},
   "source": [
    "**_When do you use 2D arrays?_**\n",
    "\n",
    "Use a 2D array when your data naturally forms a table. In machine learning this is the standard “samples × features” layout where each row is one example and each column is one feature. A 2D array can also represent a single grayscale image or any matrix. If you find yourself juggling many 1D arrays, switch to a 2D array so rows and columns are explicit and easy to index.\n"
   ]
  },
  {
   "cell_type": "code",
   "execution_count": null,
   "id": "9",
   "metadata": {},
   "outputs": [],
   "source": [
    "# 2D array (matrix), with 2 rows and 3 columns\n",
    "arr2 = np.array([[1, 2, 3], [4, 5, 6]])\n",
    "print(arr2)"
   ]
  },
  {
   "cell_type": "markdown",
   "id": "10",
   "metadata": {},
   "source": [
    "**_When do you use 3D arrays?_**\n",
    "\n",
    "Use a 3D array when there’s one more “direction” to keep track of, like color channels, time steps, or batches of 2D items. A single color image is naturally 3D (height × width × channels). Channels are the color components stored for each pixel; for an RGB image there are three channels, red, green, and blue.\n"
   ]
  },
  {
   "cell_type": "markdown",
   "id": "11",
   "metadata": {},
   "source": [
    "Think of a 3D array as a stack of 2D tables (matrices). Each table has rows and columns (2D), when you stack multiple tables on top of eachother, another dimension is added.\n"
   ]
  },
  {
   "cell_type": "code",
   "execution_count": null,
   "id": "12",
   "metadata": {},
   "outputs": [],
   "source": [
    "# A 3D array: 2 \"tables\", each with 3 rows and 4 columns.\n",
    "arr3 = np.array(\n",
    "    [\n",
    "        # Table 1\n",
    "        [[1, 2, 3, 4], [5, 6, 7, 8], [9, 10, 11, 12]],\n",
    "        # Table 2\n",
    "        [[13, 14, 15, 16], [17, 18, 19, 20], [21, 22, 23, 24]],\n",
    "    ]\n",
    ")\n",
    "print(arr3)"
   ]
  },
  {
   "cell_type": "markdown",
   "id": "13",
   "metadata": {},
   "source": [
    "## Common Arrays:\n",
    "\n",
    "An handy feature of NumPy is that it can create arrays for you, instead of you having to typing out every element individually. Here's some of the most common ones:\n",
    "\n",
    "1. `np.array([...])`\n",
    "\n",
    "2. **Constant arrays:**\n",
    "\n",
    "   - `np.zeros()`\n",
    "   - `np.ones()`\n",
    "   - `np.full()`\n",
    "\n",
    "3. `np.arange(start, stop, step)`\n",
    "4. `np.linspace(start, stop, num)`\n"
   ]
  },
  {
   "cell_type": "markdown",
   "id": "14",
   "metadata": {},
   "source": [
    "#### **np.array()**\n",
    "\n",
    "This creates an ndarray from a Python list, as we've seen when learning multi-dimensional arrays.\n"
   ]
  },
  {
   "cell_type": "code",
   "execution_count": null,
   "id": "15",
   "metadata": {},
   "outputs": [],
   "source": [
    "# 1D\n",
    "a = np.array([1, 2, 3])\n",
    "\n",
    "# 2D\n",
    "b = np.array([[1, 2, 3], [4, 5, 6]])\n",
    "\n",
    "# 3D\n",
    "c = np.array([[[1, 2], [3, 4]], [[5, 6], [7, 8]]])"
   ]
  },
  {
   "cell_type": "markdown",
   "id": "16",
   "metadata": {},
   "source": [
    "#### **Constant Arrays (zeros, ones, full)**\n",
    "\n",
    "Constant arrays are super useful for quickly creating arrays filled with zeros or ones of any shape you want. When you prepare data or build simple baselines, you often need an array that starts at a known constant value, then you fill or update it later. NumPy makes this simple: use `np.zeros(shape)` to allocate an array of zeros; `np.ones(shape)` works the same way but fills with ones; and `np.full(shape, value)` lets you choose any constant. The API is identical across all three, only the fill value changes.\n"
   ]
  },
  {
   "cell_type": "markdown",
   "id": "17",
   "metadata": {},
   "source": [
    "**_How do we create these arrays?_**\n",
    "\n",
    "The structure for this is `np.zeros(shape)`, where `shape` is the dimensions of the array you want NumPy to build. The same applies for `np.ones` and `np.full`.\n"
   ]
  },
  {
   "cell_type": "code",
   "execution_count": null,
   "id": "18",
   "metadata": {},
   "outputs": [],
   "source": [
    "# 1D array of 5 zeros\n",
    "a = np.zeros(5)\n",
    "\n",
    "# 2D array (2 rows, 3 columns)\n",
    "b = np.ones((2, 3))\n",
    "\n",
    "# 3D array (2 tables, 3 rows, 4 columns)\n",
    "c = np.full((2, 3, 4), 7)\n",
    "\n",
    "print(\"a:\\n\", a)\n",
    "print(\"b:\\n\", b)\n",
    "print(\"c:\\n\", c)"
   ]
  },
  {
   "cell_type": "markdown",
   "id": "19",
   "metadata": {},
   "source": [
    "#### **Exercise:** Creating Multi-Dimensional & Constant Number Arrays\n"
   ]
  },
  {
   "cell_type": "markdown",
   "id": "20",
   "metadata": {},
   "source": [
    "Try it out by completing the following tasks.\n",
    "\n",
    "**Task:**\n",
    "\n",
    "1. Create a `5x5` array of all zeros.\n",
    "\n",
    "2. Create a `2x3` array of all ones.\n",
    "\n",
    "3. Create a `2x2x2` array filled with 5.\n",
    "\n",
    "4. Create a 3D array with 2 tables.\n",
    "\n",
    "- The first table should start at 100\n",
    "- The second table should start at 200\n",
    "- Both tables should have a shape of (2, 3)\n",
    "- Both tables should increment by 1 as you go across the rows\n",
    "\n",
    "Use the starter code provided below:\n"
   ]
  },
  {
   "cell_type": "code",
   "execution_count": null,
   "id": "21",
   "metadata": {},
   "outputs": [],
   "source": [
    "# 1. Create a 5x5 array of zeros\n",
    "a = ___\n",
    "print(\"a:\", a)"
   ]
  },
  {
   "cell_type": "code",
   "execution_count": null,
   "id": "22",
   "metadata": {},
   "outputs": [],
   "source": [
    "# 2. Create a 4x3 array of ones\n",
    "b = ___\n",
    "print(\"b:\", b)"
   ]
  },
  {
   "cell_type": "code",
   "execution_count": null,
   "id": "23",
   "metadata": {},
   "outputs": [],
   "source": [
    "# 3. Create a 3x3x3 array filled with 5\n",
    "c = ___\n",
    "print(\"c:\", c)"
   ]
  },
  {
   "cell_type": "code",
   "execution_count": null,
   "id": "24",
   "metadata": {},
   "outputs": [],
   "source": [
    "# 4. 2 layers, each 2x3\n",
    "d = ___\n",
    "print(\"d:\", d)"
   ]
  },
  {
   "cell_type": "markdown",
   "id": "25",
   "metadata": {},
   "source": [
    "**SOLUTION**\n",
    "\n",
    "**_Pause here and try it yourself before scrolling down._**\n"
   ]
  },
  {
   "cell_type": "code",
   "execution_count": null,
   "id": "26",
   "metadata": {},
   "outputs": [],
   "source": [
    "# 1.\n",
    "a = np.zeros((5, 5))\n",
    "\n",
    "# 2.\n",
    "b = np.ones((4, 3))\n",
    "\n",
    "# 3.\n",
    "c = np.full((3, 3, 3), 5)\n",
    "\n",
    "# 4.\n",
    "d = np.array(\n",
    "    [\n",
    "        [[100, 101, 102], [103, 104, 105]],\n",
    "        [[200, 201, 202], [203, 204, 205]],\n",
    "    ]\n",
    ")"
   ]
  },
  {
   "cell_type": "markdown",
   "id": "27",
   "metadata": {},
   "source": [
    "#### **np.arange()**\n",
    "\n",
    "Now lets move onto creating sequences!\n",
    "\n",
    "`np.arange(start, stop, step)` creates values by stepping from the start up to, but not including, stop. It’s most natural when you care about the step size, like “give me every 2nd number from 0 to 10,” which would be `np.arange(0, 10, 2)` → `0, 2, 4, 6, 8`. It’s the fastest way to make arrays of evenly spaced numbers without typing them out manually. They also work with any step size, you can make arrays that skip numbers or even count backwards.\n",
    "\n",
    "- `start` &rarr; where the sequence begins (default = 0).\n",
    "- `stop` &rarr; where the sequence ends (no default).\n",
    "- `step` &rarr; how much to increase each time (default = 1).\n"
   ]
  },
  {
   "cell_type": "code",
   "execution_count": null,
   "id": "28",
   "metadata": {},
   "outputs": [],
   "source": [
    "# Sequence:\n",
    "# 0 up to (but not including) 100.\n",
    "a = np.arange(100)\n",
    "\n",
    "# Sequence by any step size:\n",
    "# Start = 6, stop = 15 (ends at 12), step = 3.\n",
    "b = np.arange(6, 15, 3)\n",
    "\n",
    "# Counting down:\n",
    "# De-increment by 1.\n",
    "c = np.arange(5, -5, -1)\n",
    "\n",
    "print(\"a:\", a)\n",
    "print(\"b:\", b)\n",
    "print(\"c:\", c)"
   ]
  },
  {
   "cell_type": "markdown",
   "id": "29",
   "metadata": {},
   "source": [
    "#### **np.linspace()**\n",
    "\n",
    "`np.linspace(start, stop, num)` creates exactly `num` evenly spaced values between start and stop. It’s the right choice when you care about how many points you get, like when generating points for the x-axis of a plot.\n",
    "\n",
    "- `start` &rarr; where the sequence begins (inclusive).\n",
    "- `stop` &rarr; where the sequence ends (inclusive, but can be changed).\n",
    "- `num` &rarr; how many elements to generate (default = 50).\n"
   ]
  },
  {
   "cell_type": "code",
   "execution_count": null,
   "id": "30",
   "metadata": {},
   "outputs": [],
   "source": [
    "# Split the line from 0 to 10 into 5 equal parts\n",
    "arr = np.linspace(0, 10, 5)\n",
    "print(arr)"
   ]
  },
  {
   "cell_type": "markdown",
   "id": "31",
   "metadata": {},
   "source": [
    "**_When should you use `.arange` vs `linspace`?_**\n",
    "\n",
    "- Use `.arange` when you know the **step size** you want.\n",
    "- Use `.linspace` when you know the **number of points** you want.\n"
   ]
  },
  {
   "cell_type": "markdown",
   "id": "32",
   "metadata": {},
   "source": [
    "## Inspecting Arrays\n"
   ]
  },
  {
   "cell_type": "markdown",
   "id": "33",
   "metadata": {},
   "source": [
    "This section will look at the metadata of an array (not just the numbers inside it). That way, when working with bigger data later, you know how to read and deal with the information.\n",
    "\n",
    "**When you create arrays, its important to know:**\n",
    "\n",
    "- `.shape` &rarr; the size in each dimension (rows, cols, …)\n",
    "- `.ndim` &rarr; number of dimensions (1D vector, 2D matrix, etc.)\n",
    "- `.size` &rarr; total number of elements in array,\n",
    "- `.dtype` &rarr; type of values inside the array (integers, floats, etc.)\n"
   ]
  },
  {
   "cell_type": "markdown",
   "id": "34",
   "metadata": {},
   "source": [
    "**_Why is `shape` important?_**\n",
    "\n",
    "When NumPy code doesn’t behave the way you expect, the first thing to check is the array’s `shape`. The shape attribute shows the structure of an array, meaning how many rows, columns, or higher dimensions it has. This is important because NumPy operations often require arrays to have matching or compatible shapes. Most NumPy errors come from shape mismatches.\n"
   ]
  },
  {
   "cell_type": "code",
   "execution_count": null,
   "id": "35",
   "metadata": {},
   "outputs": [],
   "source": [
    "# 2 rows, 3 columns\n",
    "arr2d = np.zeros((2, 3))\n",
    "print(\"2D Shape:\", arr2d.shape)"
   ]
  },
  {
   "cell_type": "markdown",
   "id": "36",
   "metadata": {},
   "source": [
    "**How do we read the shape of a 3D array?**\n"
   ]
  },
  {
   "cell_type": "code",
   "execution_count": null,
   "id": "37",
   "metadata": {},
   "outputs": [],
   "source": [
    "arr3d = np.array(\n",
    "    [[[1, 2, 3, 4], [5, 6, 7, 8], [9, 10, 11, 12]], [[13, 14, 15, 16], [17, 18, 19, 20], [21, 22, 23, 24]]]\n",
    ")\n",
    "print(arr3d.shape)"
   ]
  },
  {
   "cell_type": "markdown",
   "id": "38",
   "metadata": {},
   "source": [
    "In this 3D array:\n",
    "\n",
    "- 2 &rarr; shows the number of \"tables\" (or layers in the stack).\n",
    "- 3 &rarr; shows the number of rows in each table.\n",
    "- 4 &rarr; shows the number of columns in each table.\n"
   ]
  },
  {
   "cell_type": "markdown",
   "id": "39",
   "metadata": {},
   "source": [
    "**A Key Distinction: Vector `(N,)` vs Column vector `(N, 1)`**\n",
    "\n",
    "A vector has shape `(N,)`. It has one axis and is a row. Meanwhile, a column vector has shape `(N, 1)`. It has two axes and is a column. They print similarly but behave differently. This distinction matters and is a common reason for errors in numpy code.\n"
   ]
  },
  {
   "cell_type": "code",
   "execution_count": null,
   "id": "40",
   "metadata": {},
   "outputs": [],
   "source": [
    "vector = np.zeros((5,))\n",
    "column_vector = np.zeros((5, 1))\n",
    "\n",
    "print(\"Vector shape: \", vector.shape)\n",
    "print(vector)\n",
    "print()\n",
    "print(\"Column vector shape: \", column_vector.shape)\n",
    "print(column_vector)"
   ]
  },
  {
   "cell_type": "markdown",
   "id": "41",
   "metadata": {},
   "source": [
    "**_Why is `size` important?_**\n",
    "\n",
    "The `size` attribute tells you the total number of elements inside the array. This is useful for double-checking that you created the expected amount of data and for estimating how much memory the array might use.\n"
   ]
  },
  {
   "cell_type": "code",
   "execution_count": null,
   "id": "42",
   "metadata": {},
   "outputs": [],
   "source": [
    "arr = np.ones((2, 3))\n",
    "print(arr.size)"
   ]
  },
  {
   "cell_type": "markdown",
   "id": "43",
   "metadata": {},
   "source": [
    "**_Why is `ndim` important?_**\n",
    "\n",
    "The `ndim` attribute shows how many dimensions the array has. Knowing the number of dimensions helps you understand the structure of your data.\n"
   ]
  },
  {
   "cell_type": "code",
   "execution_count": null,
   "id": "44",
   "metadata": {},
   "outputs": [],
   "source": [
    "arr = np.ones((3, 2, 3))\n",
    "print(arr.ndim)"
   ]
  },
  {
   "cell_type": "markdown",
   "id": "45",
   "metadata": {},
   "source": [
    "**_Why is `dtype` important?_**\n",
    "\n",
    "The `dtype` attribute tells you what kind of values are stored in the array, such as integers, floating-point numbers, or booleans. Names like `int8`, `int32`, `float32`, `float64` tell you how many bits are used per element. A larger number means they take up more memory, but have more representational power.\n"
   ]
  },
  {
   "cell_type": "code",
   "execution_count": null,
   "id": "46",
   "metadata": {},
   "outputs": [],
   "source": [
    "print(arr.dtype)"
   ]
  },
  {
   "cell_type": "markdown",
   "id": "47",
   "metadata": {},
   "source": [
    "## Indexing & Slicing\n"
   ]
  },
  {
   "cell_type": "markdown",
   "id": "48",
   "metadata": {},
   "source": [
    "**_Why is indexing useful?_**\n",
    "\n",
    "Indexing is important because real-world datasets are often very large. Being able to directly access a specific value, or a whole row, at once without looping through the entire array makes NumPy code faster and simpler. Instead of working with the whole dataset, you can zoom in on specific values or smaller parts.\n",
    "\n",
    "**_How do we use indexing?_**\n",
    "\n",
    "In a 1D array, indexing works the same as a list:\n"
   ]
  },
  {
   "cell_type": "code",
   "execution_count": null,
   "id": "49",
   "metadata": {},
   "outputs": [],
   "source": [
    "arr = np.array([10, 20, 30])\n",
    "print(arr[0])\n",
    "print(arr[2])"
   ]
  },
  {
   "cell_type": "markdown",
   "id": "50",
   "metadata": {},
   "source": [
    "In a 2D array you index with `arr[row, column]`: the first number moves down the rows and the second moves across the columns.\n"
   ]
  },
  {
   "cell_type": "code",
   "execution_count": null,
   "id": "51",
   "metadata": {},
   "outputs": [],
   "source": [
    "arr2d = np.array([[1, 2, 3], [4, 5, 6]])\n",
    "print(arr2d[0, 1])  # row 0, col 1\n",
    "print(arr2d[1, 2])  # row 1, col 2\n"
   ]
  },
  {
   "cell_type": "markdown",
   "id": "52",
   "metadata": {},
   "source": [
    "In 3D arrays you need three indices: `arr[table, row, column]`. Indexing 3D arrays is similar to indexing 2D arrays. The first index selects the table, the second moves down the rows within that table, and the third moves across the columns.\n"
   ]
  },
  {
   "cell_type": "code",
   "execution_count": null,
   "id": "53",
   "metadata": {},
   "outputs": [],
   "source": [
    "arr3d = np.array([[[1, 2, 3], [4, 5, 6]], [[7, 8, 9], [10, 11, 12]]])\n",
    "\n",
    "# selects the first table’s first row and first column\n",
    "print(arr3d[0, 0, 0])\n",
    "\n",
    "# selects the first table’s second row and third column\n",
    "print(arr3d[0, 1, 2])\n",
    "\n",
    "# picks the second table’s first row and second column\n",
    "print(arr3d[1, 0, 1])\n",
    "\n",
    "# picks the second table’s second row and third column\n",
    "print(arr3d[1, 1, 2])"
   ]
  },
  {
   "cell_type": "markdown",
   "id": "54",
   "metadata": {},
   "source": [
    "**_What is Slicing?_**\n",
    "\n",
    "Slicing lets you take a sub-array along any dimension without writing loops. You can use it to grab a whole row or column, crop an image, or split a dataset by ranges. It’s faster than looping in plain Python because NumPy does the work in optimized C.\n",
    "\n",
    "The basic pattern is:\n",
    "`array[start:stop:step]`\n",
    "\n",
    "- start &rarr; where to begin (index number, default = 0)\n",
    "- stop &rarr; where to end (but it does not include this index)\n",
    "- step &rarr; how much to skip each time (default = 1)\n",
    "\n",
    "**Let's look at how we apply this:**\n",
    "\n",
    "In 1D, a slice is `a[start:stop:step]`. It returns a new view that walks from `start` up to but not including `stop`, jumping by `step`. This is the fastest way to take ranges or every n-th element without loops. Removing a value reverts it to that values default.\n"
   ]
  },
  {
   "cell_type": "code",
   "execution_count": null,
   "id": "55",
   "metadata": {},
   "outputs": [],
   "source": [
    "a = np.array([10, 20, 30, 40, 50])\n",
    "\n",
    "# elements at indices 1,2,3\n",
    "print(a[1:4])\n",
    "\n",
    "# first 3 elements\n",
    "print(a[:3])\n",
    "\n",
    "# last 3 elements\n",
    "print(a[2:])\n",
    "\n",
    "# every 2nd element\n",
    "print(a[::2])"
   ]
  },
  {
   "cell_type": "markdown",
   "id": "56",
   "metadata": {},
   "source": [
    "In 2D, slicing uses two parts: `arr[row_slice, col_slice]`. The first piece chooses rows; the second piece chooses columns.\n",
    "\n",
    "A lone `:` means “take everything” along that axis. This lets you grab full rows or columns, crop a sub-table, or keep every other column with no loops required.\n"
   ]
  },
  {
   "cell_type": "code",
   "execution_count": null,
   "id": "57",
   "metadata": {},
   "outputs": [],
   "source": [
    "b = np.array([[1, 2, 3], [4, 5, 6], [7, 8, 9]])\n",
    "\n",
    "# rows 0–1, columns 1–2\n",
    "print(b[0:2, 1:3])\n",
    "\n",
    "# all rows, first column\n",
    "print(b[:, 0])\n",
    "\n",
    "# second row, all columns\n",
    "print(b[1, :])\n"
   ]
  },
  {
   "cell_type": "markdown",
   "id": "58",
   "metadata": {},
   "source": [
    "A 3D array is the same, with one more axis: `arr[table_slice, row_slice, col_slice]`\n"
   ]
  },
  {
   "cell_type": "code",
   "execution_count": null,
   "id": "59",
   "metadata": {},
   "outputs": [],
   "source": [
    "c = np.array([[[1, 2, 3], [4, 5, 6]], [[7, 8, 9], [10, 11, 12]]])\n",
    "\n",
    "# all tables, all rows, first two columns\n",
    "print(c[:, :, 0:2])\n",
    "\n",
    "# first table, all rows, column 1\n",
    "print(c[0, :, 1])\n",
    "\n",
    "# second table, all rows, first two columns\n",
    "print(c[1, :, :2])\n"
   ]
  },
  {
   "cell_type": "markdown",
   "id": "60",
   "metadata": {},
   "source": [
    "#### **Exercise:** Indexing & Slicing 3D Arrays\n"
   ]
  },
  {
   "cell_type": "markdown",
   "id": "61",
   "metadata": {},
   "source": [
    "Using the array provided below, complete the following tasks:\n"
   ]
  },
  {
   "cell_type": "markdown",
   "id": "62",
   "metadata": {},
   "source": [
    "**Task**\n",
    "\n",
    "1. Use indexing to get the element in the second table, second row, third column.\n",
    "2. Use slicing to print the entire first table.\n",
    "3. Use slicing to print the last row from each table.\n",
    "4. Use slicing to print the second column from each table.\n",
    "5. Combine indexing and slicing to print the last 2 rows and last 2 columns from both tables.\n"
   ]
  },
  {
   "cell_type": "code",
   "execution_count": null,
   "id": "63",
   "metadata": {},
   "outputs": [],
   "source": [
    "arr3d = np.array([[[1, 2, 3], [4, 5, 6], [7, 8, 9]], [[10, 11, 12], [13, 14, 15], [16, 17, 18]]])"
   ]
  },
  {
   "cell_type": "code",
   "execution_count": null,
   "id": "64",
   "metadata": {},
   "outputs": [],
   "source": [
    "# 1. Use indexing to get the element in the second table, second row, third column.\n",
    "a = __\n",
    "print(a)"
   ]
  },
  {
   "cell_type": "code",
   "execution_count": null,
   "id": "65",
   "metadata": {},
   "outputs": [],
   "source": [
    "# 2. Use slicing to print the entire first table.\n",
    "b = __\n",
    "print(b)"
   ]
  },
  {
   "cell_type": "code",
   "execution_count": null,
   "id": "66",
   "metadata": {},
   "outputs": [],
   "source": [
    "# 3. Use slicing to print the last row from each table.\n",
    "c = __\n",
    "print(c)"
   ]
  },
  {
   "cell_type": "code",
   "execution_count": null,
   "id": "67",
   "metadata": {},
   "outputs": [],
   "source": [
    "# 4. Use slicing to print the second column from each table.\n",
    "d = __\n",
    "print(d)"
   ]
  },
  {
   "cell_type": "code",
   "execution_count": null,
   "id": "68",
   "metadata": {},
   "outputs": [],
   "source": [
    "# 5. Combine indexing and slicing to print the last 2 rows and last 2 columns from both tables.\n",
    "e = __\n",
    "print(e)"
   ]
  },
  {
   "cell_type": "markdown",
   "id": "69",
   "metadata": {},
   "source": [
    "**SOLUTION**\n",
    "\n",
    "**_Pause here and try it yourself before scrolling down._**\n"
   ]
  },
  {
   "cell_type": "code",
   "execution_count": null,
   "id": "70",
   "metadata": {},
   "outputs": [],
   "source": [
    "# 1. Specific element (table 1, row 1, col 2)\n",
    "print(\"1.\")\n",
    "print(arr3d[1, 1, 2])\n",
    "\n",
    "# 2. Entire first table\n",
    "print(\"2.\")\n",
    "print(arr3d[0, :, :])\n",
    "\n",
    "# 3. Last row from each table\n",
    "print(\"3.\")\n",
    "print(arr3d[:, 2, :])\n",
    "\n",
    "# 4. Second column from each table\n",
    "print(\"4.\")\n",
    "print(arr3d[:, :, 1])\n",
    "\n",
    "# 5. Last 2 rows and last 2 columns from both tables\n",
    "print(\"5.\")\n",
    "print(arr3d[:, 1:3, 1:3])"
   ]
  },
  {
   "cell_type": "markdown",
   "id": "71",
   "metadata": {},
   "source": [
    "## Element-Wise Operations\n"
   ]
  },
  {
   "cell_type": "markdown",
   "id": "72",
   "metadata": {},
   "source": [
    "**_What is an element-wise operation?_**\n"
   ]
  },
  {
   "cell_type": "markdown",
   "id": "73",
   "metadata": {},
   "source": [
    "NumPy arrays are designed so that when you use standard math symbols (+, -, *, /, etc.), the operation is applied to each element individually, not to the array as a whole. These are called element-wise operations. For this to work, the **shapes must be exactly the same** so NumPy can line up elements in the left-hand array with an element in the same position in the right-hand array. *If your shapes don’t match, save that for the next part (broadcasting), where we’ll see how NumPy handles it without loops.\\*\n"
   ]
  },
  {
   "cell_type": "markdown",
   "id": "74",
   "metadata": {},
   "source": [
    "**_Element-wise Examples:_**\n"
   ]
  },
  {
   "cell_type": "code",
   "execution_count": null,
   "id": "75",
   "metadata": {},
   "outputs": [],
   "source": [
    "a = np.array([1, 2, 3])\n",
    "b = np.array([10, 20, 30])\n",
    "\n",
    "# Addition\n",
    "print(\"\\nArray (a + b):\\n\", a + b)\n",
    "\n",
    "# Multiplication\n",
    "print(\"\\nArray (a * b):\\n\", a * b)"
   ]
  },
  {
   "cell_type": "markdown",
   "id": "76",
   "metadata": {},
   "source": [
    "**Explanation:** NumPy is adding and multiplying each element above.\n",
    "By performing `a + b`, every element in `a` is being added to the corresponding element in `b`: `1 + 10`, `2 + 20`, `3 + 30`. The same applies to multiplication.\n"
   ]
  },
  {
   "cell_type": "markdown",
   "id": "77",
   "metadata": {},
   "source": [
    "## Broadcasting\n"
   ]
  },
  {
   "cell_type": "markdown",
   "id": "78",
   "metadata": {},
   "source": [
    "**_What is Broadcasting?_**\n"
   ]
  },
  {
   "cell_type": "markdown",
   "id": "79",
   "metadata": {},
   "source": [
    "Broadcasting is how NumPy lets you write loop-free, vectorized operations even when array shapes don’t exactly match. During an operation, NumPy can automatically **stretch** any dimension of size `1` or `0` so the shapes line up. Officially, broadcasting is the set of rules that allow arrays of different shapes to work together in element-wise operations. In machine learning, we can use broadcasting to stretch a linear model meant to classify a single example into a table ready to be used on an entire dataset.\n",
    "\n",
    "**_What makes two dimensions compatible?_**\n",
    "\n",
    "Two dimensions are compatible if they are equal OR one of them is `1`. All dimensions must be compatible for the operation to proceed.\n"
   ]
  },
  {
   "cell_type": "markdown",
   "id": "80",
   "metadata": {},
   "source": [
    "**_Scalars + Arrays_**\n",
    "\n",
    "Normally, if you tried to **add a list and a number in plain Python**, it would give you an **error**. This is where NumPy comes into play.\n",
    "\n",
    "NumPy allows you to mix scalars and arrays using broadcasting. A single number is broadcast to every element automatically.\n",
    "\n",
    "- `a` has shape (2,3), `b` is just a scalar with shape( , ).\n"
   ]
  },
  {
   "cell_type": "code",
   "execution_count": null,
   "id": "81",
   "metadata": {},
   "outputs": [],
   "source": [
    "a = np.array([[1, 2, 3], [4, 5, 6]])\n",
    "\n",
    "b = 10\n",
    "\n",
    "print(a + b)"
   ]
  },
  {
   "cell_type": "markdown",
   "id": "82",
   "metadata": {},
   "source": [
    "A scalar has no dimensions. Broadcasting works by **expanding smaller arrays** so their shapes match, so NumPy \"stretches\" the scalar into the same shape as `a`. _This saves you from writing loops or manually copying values._\n"
   ]
  },
  {
   "cell_type": "markdown",
   "id": "83",
   "metadata": {},
   "source": [
    "Essentially, it turns `b = 10` into:\n"
   ]
  },
  {
   "cell_type": "code",
   "execution_count": null,
   "id": "84",
   "metadata": {},
   "outputs": [],
   "source": [
    "[[10, 10, 10], [10, 10, 10]]"
   ]
  },
  {
   "cell_type": "markdown",
   "id": "85",
   "metadata": {},
   "source": [
    "Then performs element-wise addition:\n"
   ]
  },
  {
   "cell_type": "code",
   "execution_count": null,
   "id": "86",
   "metadata": {},
   "outputs": [],
   "source": [
    "[[1 + 10, 2 + 10, 3 + 10], [4 + 10, 5 + 10, 6 + 10]]"
   ]
  },
  {
   "cell_type": "markdown",
   "id": "87",
   "metadata": {},
   "source": [
    "**_Arrays + Arrays_**\n"
   ]
  },
  {
   "cell_type": "markdown",
   "id": "88",
   "metadata": {},
   "source": [
    "Next, let's look at broadcasting when dealing with only arrays.\n",
    "\n",
    "Suppose we have:\n"
   ]
  },
  {
   "cell_type": "code",
   "execution_count": null,
   "id": "89",
   "metadata": {},
   "outputs": [],
   "source": [
    "A = np.array([[1, 2, 3], [4, 5, 6], [7, 8, 9]])\n",
    "\n",
    "row = np.array([100, 200, 300])\n",
    "col = np.array([[100], [200], [300]])"
   ]
  },
  {
   "cell_type": "markdown",
   "id": "90",
   "metadata": {},
   "source": [
    "**`(N,)` vs `(N, 1)`**\n",
    "\n",
    "A row vector with shape `(3,)` matches the **columns** of `A`, so NumPy stretches it horizontally.\n",
    "\n",
    "A column vector with shape `(3, 1)` matches the **rows** of `A`, so NumPy stretches it vertically.\n",
    "\n",
    "This is why `(3,)` and `(3, 1)` behave differently even though they hold three numbers.\n"
   ]
  },
  {
   "cell_type": "code",
   "execution_count": null,
   "id": "91",
   "metadata": {},
   "outputs": [],
   "source": [
    "print(\"A shape:\", A.shape, \"| row shape:\", row.shape, \"| col shape:\", col.shape)\n",
    "\n",
    "print(\"\\nA + row  (adds to each row across columns):\\n\", A + row)\n",
    "print(\"\\nA + col  (adds down rows):\\n\", A + col)\n"
   ]
  },
  {
   "cell_type": "markdown",
   "id": "92",
   "metadata": {},
   "source": [
    "#### **Exercise:** Broadcasting\n"
   ]
  },
  {
   "cell_type": "markdown",
   "id": "93",
   "metadata": {},
   "source": [
    "**Task**\n",
    "\n",
    "Analyze shape compatability and guess outputs after broadcasting\n",
    "\n",
    "Fill in each cell with your guess of whether the array shapes are compatible for the operation and the output of the operation.\n"
   ]
  },
  {
   "cell_type": "code",
   "execution_count": null,
   "id": "94",
   "metadata": {},
   "outputs": [],
   "source": [
    "A = np.array([[1, 2, 3], [4, 5, 6]])\n",
    "\n",
    "B = np.array([10, 20, 30])\n",
    "C = np.array([[100], [200]])\n",
    "D = np.array([1000])\n",
    "E = np.array([[1, 2]])\n",
    "\n",
    "print(\"A shape:\", A.shape)\n",
    "print(\"B shape:\", B.shape)\n",
    "print(\"C shape:\", C.shape)\n",
    "print(\"D shape:\", D.shape)\n",
    "print(\"E shape:\", E.shape)"
   ]
  },
  {
   "cell_type": "code",
   "execution_count": null,
   "id": "95",
   "metadata": {},
   "outputs": [],
   "source": [
    "# Problem 1: A + B\n",
    "# Fill in your predictions:\n",
    "compatible_1 = None  # True or False\n",
    "predicted_shape_1 = None  # Tuple like (2, 3)\n",
    "predicted_result_1 = None  # Your predicted array\n",
    "\n",
    "result_1 = A + B\n",
    "print(\"Result shape:\", result_1.shape)\n",
    "print(result_1)"
   ]
  },
  {
   "cell_type": "code",
   "execution_count": null,
   "id": "96",
   "metadata": {},
   "outputs": [],
   "source": [
    "# Problem 2: A + C\n",
    "# Fill in your predictions:\n",
    "compatible_2 = None\n",
    "predicted_shape_2 = None\n",
    "predicted_result_2 = None\n",
    "\n",
    "result_2 = A + C\n",
    "print(\"Result shape:\", result_2.shape)\n",
    "print(result_2)"
   ]
  },
  {
   "cell_type": "code",
   "execution_count": null,
   "id": "97",
   "metadata": {},
   "outputs": [],
   "source": [
    "# Problem 3: B + C\n",
    "# Fill in your predictions:\n",
    "compatible_3 = None\n",
    "predicted_shape_3 = None\n",
    "predicted_result_3 = None\n",
    "\n",
    "result_3 = B + C\n",
    "print(\"Result shape:\", result_3.shape)\n",
    "print(result_3)"
   ]
  },
  {
   "cell_type": "code",
   "execution_count": null,
   "id": "98",
   "metadata": {},
   "outputs": [],
   "source": [
    "# Problem 4: A * D\n",
    "# Fill in your predictions:\n",
    "compatible_4 = None\n",
    "predicted_shape_4 = None\n",
    "predicted_result_4 = None\n",
    "\n",
    "result_4 = A * D\n",
    "print(\"Result shape:\", result_4.shape)\n",
    "print(result_4)"
   ]
  },
  {
   "cell_type": "code",
   "execution_count": null,
   "id": "99",
   "metadata": {},
   "outputs": [],
   "source": [
    "# Problem 5: A + E\n",
    "# Fill in your predictions:\n",
    "compatible_5 = None\n",
    "predicted_shape_5 = None\n",
    "predicted_result_5 = None\n",
    "\n",
    "result_5 = A + E\n",
    "print(\"Result shape:\", result_5.shape)\n",
    "print(result_5)"
   ]
  },
  {
   "cell_type": "markdown",
   "id": "100",
   "metadata": {},
   "source": [
    "## **Bonus:** Reshaping & Copying\n"
   ]
  },
  {
   "cell_type": "markdown",
   "id": "101",
   "metadata": {},
   "source": [
    "**_What is Reshaping?_**\n",
    "\n",
    "Reshaping changes the shape (rows × columns × dimensions) of an array without changing the data inside. The total number of elements must stay the same.\n"
   ]
  },
  {
   "cell_type": "markdown",
   "id": "102",
   "metadata": {},
   "source": [
    "Here's an example below:\n"
   ]
  },
  {
   "cell_type": "code",
   "execution_count": null,
   "id": "103",
   "metadata": {},
   "outputs": [],
   "source": [
    "arr = np.arange(1, 13)\n",
    "print(arr)"
   ]
  },
  {
   "cell_type": "markdown",
   "id": "104",
   "metadata": {},
   "source": [
    "- The original array has 12 elements.\n",
    "- Reshaping into `3, 4` means 3 rows x 4 columns = 12 elements.\n"
   ]
  },
  {
   "cell_type": "code",
   "execution_count": null,
   "id": "105",
   "metadata": {},
   "outputs": [],
   "source": [
    "reshaped = arr.reshape(3, 4)\n",
    "print(reshaped)\n"
   ]
  },
  {
   "cell_type": "markdown",
   "id": "106",
   "metadata": {},
   "source": [
    "A handy feature NumPy offers is the use of `-1`. This saves you the hassle of having to do the math yourself, `-1` tells NumPy to figure out the dimension for you.\n",
    "_You can only pass one `-1` at a time, or else NumPy won't know which dimension to calculate._\n"
   ]
  },
  {
   "cell_type": "code",
   "execution_count": null,
   "id": "107",
   "metadata": {},
   "outputs": [],
   "source": [
    "print(arr.reshape(3, -1))  # 3 rows, NumPy calculates columns\n",
    "\n",
    "print(arr.reshape(-1, 6))  # 6 columns, NumPy calculates rows\n"
   ]
  },
  {
   "cell_type": "markdown",
   "id": "108",
   "metadata": {},
   "source": [
    "**_What is Copying?_**\n",
    "\n",
    "In NumPy, when you assign one array to another variable, both variables point to the same data in memory. This means that if you change one variable, the other changes too. This is also known as a **view** or **reference**. To prevent this, we use `.copy()` for an independent array. This duplicates the data in memory, so changes in one array don’t affect the other.\n"
   ]
  },
  {
   "cell_type": "code",
   "execution_count": null,
   "id": "109",
   "metadata": {},
   "outputs": [],
   "source": [
    "a = np.array([1, 2, 3])\n",
    "b = a  # not a real copy\n",
    "c = a.copy()  # real copy\n",
    "\n",
    "b[0] = 99\n",
    "\n",
    "# a and b share the same data, changing b also changes a.\n",
    "print(a)  # [99  2  3]\n",
    "\n",
    "# .copy() creates a completely independent array, changing c does not change a.\n",
    "print(c)  # [1  2  3]\n"
   ]
  },
  {
   "cell_type": "markdown",
   "id": "110",
   "metadata": {},
   "source": [
    "#### **Exercise:** Reshaping & Copying\n"
   ]
  },
  {
   "cell_type": "markdown",
   "id": "111",
   "metadata": {},
   "source": [
    "**Task**\n",
    "\n",
    "1. Create a `3×4` array `A` with the numbers 1–12. Print array `A`.\n",
    "2. Reshape it into a new array `V` that is a view of the original.\n",
    "   - Modify element `[0, 0] = 55` in the original.\n",
    "3. Now make a copy `C` of the original array and reshape it.\n",
    "   - Modify element `[0, 0] = 66` in the original.\n"
   ]
  },
  {
   "cell_type": "code",
   "execution_count": null,
   "id": "112",
   "metadata": {},
   "outputs": [],
   "source": [
    "# 1. Using arange() and reshape(), create a 3×4 array A with the numbers 1–12.\n",
    "#    Print array A."
   ]
  },
  {
   "cell_type": "code",
   "execution_count": null,
   "id": "113",
   "metadata": {},
   "outputs": [],
   "source": [
    "# 2. Reshape it and store it in a new array `V`, that is a view of the original\n",
    "#    Modify element `[0, 0] = 55` in the original\n",
    "#    Compare the two arrays and confirm whether they are still identical."
   ]
  },
  {
   "cell_type": "code",
   "execution_count": null,
   "id": "114",
   "metadata": {},
   "outputs": [],
   "source": [
    "# 3. Make a real copy `C = A.reshape(2, 6).copy()`\n",
    "#    Modify element `[0, 0] = 66` in the original\n",
    "#    Compare the two arrays and confirm whether they are still identical"
   ]
  },
  {
   "cell_type": "markdown",
   "id": "115",
   "metadata": {},
   "source": [
    "**SOLUTION**\n",
    "\n",
    "**_Pause here and try it yourself before scrolling down._**\n"
   ]
  },
  {
   "cell_type": "code",
   "execution_count": null,
   "id": "116",
   "metadata": {},
   "outputs": [],
   "source": [
    "# 1. create 3x4 array A\n",
    "A = np.arange(1, 13).reshape(3, 4)\n",
    "print(\"Original A:\", A)\n",
    "\n",
    "# 2. reshape into a view V\n",
    "V = A.reshape(2, 6)\n",
    "\n",
    "# modify element [0,0] in A\n",
    "A[0, 0] = 55\n",
    "print(\"After modifying A (view test):\")\n",
    "print(\"A:\", A)\n",
    "print(\"V:\", V)  # V should also show the change (still identical to A’s data)\n",
    "\n",
    "# 3. make a copy C of the original and reshape\n",
    "C = A.reshape(2, 6).copy()\n",
    "\n",
    "# modify element [0,0] in A again\n",
    "A[0, 0] = 66\n",
    "print(\"After re-modifying A (copy test):\")\n",
    "print(\"A:\", A)\n",
    "print(\"C:\", C)  # C should NOT change\n"
   ]
  }
 ],
 "metadata": {},
 "nbformat": 4,
 "nbformat_minor": 5
}
