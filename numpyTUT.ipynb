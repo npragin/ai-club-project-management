{
 "cells": [
  {
   "cell_type": "markdown",
   "id": "a59240ce-a69b-423b-bc27-1843f87bbae3",
   "metadata": {},
   "source": [
    "# NumPy Tutorial\n",
    "### Author: Ally Chen\n",
    "\n"
   ]
  },
  {
   "cell_type": "markdown",
   "id": "84ef63ba-8601-46c0-a29b-2e6e52082992",
   "metadata": {},
   "source": [
    "## Description\n",
    "### What is NumPy?\n",
    "NumPy is Python's standard library for working with arrays. It supports working with arrays of N-dimensions, which is a principle of NumPy. Instead of looping in Python, NumPy lets you perform fast math on whole arrays at once, known as vectorized operations. Most data libraries (pandas, SciPy, scikit-learn, PyTorch) rely on NumPy under the hood."
   ]
  },
  {
   "cell_type": "markdown",
   "id": "b456566a-c36c-4117-9f54-e9f76764ce49",
   "metadata": {},
   "source": [
    "## NumPy Installation\n",
    "1. Open a new terminal\n",
    "2. Ensure Python is installed:\n",
    " - Check using 'python --version' in terminal\n",
    "3. In terminal run:\n",
    " - macOS/Linux\n",
    "python3 -m venv .venv\n",
    "source .venv/bin/activate\n",
    "python -m pip install --upgrade pip\n",
    "pip install numpy\n",
    " - Windows (PowerShell)\n",
    "python -m venv .venv\n",
    ".venv\\Scripts\\Activate\n",
    "python -m pip install --upgrade pip\n",
    "pip install numpy"
   ]
  },
  {
   "cell_type": "markdown",
   "id": "8a9e32eb-6659-4ff5-95b7-67e0a4ce4996",
   "metadata": {},
   "source": [
    "## Verify Installation\n",
    "Copy and paste the following code into your preferred code editor, and run it in the terminal to test if it is installed correctly."
   ]
  },
  {
   "cell_type": "code",
   "execution_count": 92,
   "id": "46a632a3-3b60-4b56-b15e-bb5be187272d",
   "metadata": {},
   "outputs": [
    {
     "name": "stdout",
     "output_type": "stream",
     "text": [
      "NumPy: 2.3.2\n",
      "25\n"
     ]
    }
   ],
   "source": [
    "# Import Numpy library\n",
    "import numpy as np\n",
    "\n",
    "# Print NumPy version number\n",
    "print(\"NumPy:\", np.__version__)\n",
    "\n",
    "# Expected output: 25\n",
    "print (np.array([3,4]).dot([3,4]))"
   ]
  },
  {
   "cell_type": "markdown",
   "id": "40914446-99bf-47f2-aa40-b981b1f7c567",
   "metadata": {},
   "source": [
    "# Part 1: Arrays"
   ]
  },
  {
   "cell_type": "markdown",
   "id": "bc2a7bb8-3cba-4f1f-8ebb-1336d391f7ec",
   "metadata": {},
   "source": [
    "# Multi-Dimensional Arrays"
   ]
  },
  {
   "cell_type": "markdown",
   "id": "fa10bca7-37da-433f-a72e-139b209763d0",
   "metadata": {},
   "source": [
    "### **What is a Multi-Dimensional Array?**\n",
    "Multi-dimensional arrays are the backbone of NumPy."
   ]
  },
  {
   "cell_type": "markdown",
   "id": "f544ae01-dd5e-4d93-a34c-ef63055c6fc0",
   "metadata": {},
   "source": [
    "- A 1D array is like a simple list `[1, 2, 3]`.\n",
    "- A 2D array is like a table or matrix (rows × columns).\n",
    "- A 3D array is like a stack of tables.\n",
    "- Higher dimensions are possible, but most people stop at 2D or 3D for practical work.\n",
    "\n",
    "*NumPy arrays are called ndarrays (“n-dimensional arrays”) because they can have any number of dimensions.*"
   ]
  },
  {
   "cell_type": "markdown",
   "id": "c94c0500-858e-40b9-83e3-17f2eee53c07",
   "metadata": {},
   "source": [
    "The more dimensions an array has, the trickier they are to understand. \n",
    "**Lets look at some examples to understand better:**"
   ]
  },
  {
   "cell_type": "markdown",
   "id": "cdfeb89a-6413-4f93-a94b-e1ad32f9256c",
   "metadata": {},
   "source": [
    "**2D array**"
   ]
  },
  {
   "cell_type": "code",
   "execution_count": 93,
   "id": "51a152fb-f470-4957-9f47-34c66558fcd4",
   "metadata": {},
   "outputs": [
    {
     "name": "stdout",
     "output_type": "stream",
     "text": [
      "(2, 3)\n"
     ]
    }
   ],
   "source": [
    "# 2D array (matrix)\n",
    "A = np.array([[1, 2, 3],\n",
    "              [4, 5, 6]])\n",
    "\n",
    "# This is a 2D array, with 2 rows and 3 columns.\n",
    "print(A.shape) # (2, 3)"
   ]
  },
  {
   "cell_type": "markdown",
   "id": "4dcbee2f-85a0-45b5-a056-19b4ae19713e",
   "metadata": {},
   "source": [
    "**3D array**\n",
    "Think of a 3D array as a stack of 2D tables (matrices).\n",
    "- Each table has rows and columns (2D)\n",
    "- When you stack multiple tables on top of eachother, another dimension is added &rarr; ***depth***.\n",
    "\n",
    "Simply put, a 3D array is like a cube of numbers."
   ]
  },
  {
   "cell_type": "code",
   "execution_count": 94,
   "id": "8423a5e0-5973-4e3a-b180-7d3ad918e0b4",
   "metadata": {},
   "outputs": [
    {
     "name": "stdout",
     "output_type": "stream",
     "text": [
      "[[[ 1  2  3  4]\n",
      "  [ 5  6  7  8]\n",
      "  [ 9 10 11 12]]\n",
      "\n",
      " [[13 14 15 16]\n",
      "  [17 18 19 20]\n",
      "  [21 22 23 24]]]\n"
     ]
    }
   ],
   "source": [
    "# A 3D array: 2 \"tables\", each with 3 rows and 4 columns.\n",
    "arr = np.array([\n",
    "    # Table 1\n",
    "    [[1, 2, 3, 4],\n",
    "     [5, 6, 7, 8],\n",
    "     [9, 10, 11, 12]],\n",
    "\n",
    "    # Table 2\n",
    "    [[13, 14, 15, 16],\n",
    "     [17, 18, 19, 20],\n",
    "     [21, 22, 23, 24]]\n",
    "])\n",
    "print(arr)"
   ]
  },
  {
   "cell_type": "markdown",
   "id": "2dc3ba5c-d825-436d-9980-164e73bdf476",
   "metadata": {},
   "source": [
    "When these two tables are stacked together, they form a 3D block of numbers."
   ]
  },
  {
   "cell_type": "markdown",
   "id": "ea7e0fcc-d0fd-4d37-9223-4f57e17fb44b",
   "metadata": {},
   "source": [
    "**How do we read the shape of a 3D array?**"
   ]
  },
  {
   "cell_type": "code",
   "execution_count": 95,
   "id": "f8a9bb1e-f59e-4de0-962b-2ac22f4a2cc5",
   "metadata": {},
   "outputs": [
    {
     "name": "stdout",
     "output_type": "stream",
     "text": [
      "(2, 3, 4)\n"
     ]
    }
   ],
   "source": [
    "print(arr.shape) # (2, 3, 4)"
   ]
  },
  {
   "cell_type": "markdown",
   "id": "65a15414-0920-4b09-a9a2-7a55a8d64219",
   "metadata": {},
   "source": [
    "In this 3D array:\n",
    "- 2 &rarr; shows the number of \"tables\" (or layers in the stack).\n",
    "- 3 &rarr; shows the number of rows in each table.\n",
    "- 4 &rarr; shows the number of columns in each table."
   ]
  },
  {
   "cell_type": "markdown",
   "id": "ee055065-f875-4c88-9c59-a19529eececd",
   "metadata": {},
   "source": [
    "### **Exercise:** Work with Multi-Dimensional Arrays"
   ]
  },
  {
   "cell_type": "markdown",
   "id": "5a791e62-a99c-499b-aaec-a2c1aeb29bd3",
   "metadata": {},
   "source": [
    "Try it out! For this exercise you will get some practice creating arrays with different dimensions. Complete the following using the starter code:\n",
    "1. Create a 1D array of number from 7-12.\n",
    "2. Create a 2D array with 3 rows × 2 cols using these rows: `[10, 20], [30, 40], [50, 60]`.\n",
    "3. Create a 3D array with 2 layers, each layer is 2×3:\n",
    "   \n",
    "layer 0 → `[[100, 101, 102], [103, 104, 105]]`\n",
    "\n",
    "layer 1 → `[[200, 201, 202], [203, 204, 205]]`\n",
    "\n",
    "4. For each array, print the array, the number of dimensions (`.ndim`), and the shape (`.shape`)."
   ]
  },
  {
   "cell_type": "code",
   "execution_count": 96,
   "id": "04954f98-c3aa-475b-8571-431013fd702e",
   "metadata": {},
   "outputs": [
    {
     "name": "stdout",
     "output_type": "stream",
     "text": [
      "1D:\n",
      "  \n",
      "ndim:  \n",
      "shape: \n",
      "\n",
      "2D:\n",
      "  \n",
      "ndim:  \n",
      "shape: \n",
      "\n",
      "3D:\n",
      "  \n",
      "ndim:  \n",
      "shape: \n"
     ]
    }
   ],
   "source": [
    "# Starter Code\n",
    "\n",
    "import numpy as np\n",
    "\n",
    "# 1) 1D: 7–12\n",
    "a1 = __\n",
    "print(\"1D:\\n\",__,\"\\nndim:\",__,\"\\nshape:\",__)\n",
    "\n",
    "# 2) 2D: 3x2 table\n",
    "a2 = __\n",
    "print(\"\\n2D:\\n\",__,\"\\nndim:\",__,\"\\nshape:\",__)\n",
    "\n",
    "# 3) 3D: 2 layers, each 2x3\n",
    "a3 = __\n",
    "print(\"\\n3D:\\n\",__,\"\\nndim:\",__,\"\\nshape:\",__)"
   ]
  },
  {
   "cell_type": "markdown",
   "id": "8dc50338-a77b-4a34-a7c4-23dbaa3d1326",
   "metadata": {},
   "source": [
    "### **SOLUTION**"
   ]
  },
  {
   "cell_type": "markdown",
   "id": "078f7ab3-861c-4e66-9a52-3f1432a1f4ac",
   "metadata": {},
   "source": [
    "#### ***PAUSE HERE.*** \n",
    "Try filling in the blanks yourself before scrolling down."
   ]
  },
  {
   "cell_type": "code",
   "execution_count": 97,
   "id": "ba45a5f3-b5b0-4176-a6b5-b723e87fd936",
   "metadata": {},
   "outputs": [
    {
     "name": "stdout",
     "output_type": "stream",
     "text": [
      "1D:\n",
      " [ 7  8  9 10 11 12] \n",
      "ndim: 1 \n",
      "shape: (6,)\n",
      "\n",
      "2D:\n",
      " [[10 20]\n",
      " [30 40]\n",
      " [50 60]] \n",
      "ndim: 2 \n",
      "shape: (3, 2)\n",
      "\n",
      "3D:\n",
      " [[[100 101 102]\n",
      "  [103 104 105]]\n",
      "\n",
      " [[200 201 202]\n",
      "  [203 204 205]]] \n",
      "ndim: 3 \n",
      "shape: (2, 2, 3)\n"
     ]
    }
   ],
   "source": [
    "import numpy as np\n",
    "\n",
    "# 1) 1D: 7–12\n",
    "a1 = np.array([7, 8, 9, 10, 11, 12])\n",
    "print(\"1D:\\n\", a1,\"\\nndim:\", a1.ndim,\"\\nshape:\", a1.shape)\n",
    "\n",
    "# 2) 2D: 3x2 table\n",
    "a2 = np.array([\n",
    "    [10, 20],\n",
    "    [30, 40],\n",
    "    [50, 60],\n",
    "])\n",
    "print(\"\\n2D:\\n\", a2,\"\\nndim:\", a2.ndim,\"\\nshape:\", a2.shape)\n",
    "\n",
    "# 3) 3D: 2 layers, each 2x3\n",
    "a3 = np.array([\n",
    "    [[100, 101, 102], [103, 104, 105]],\n",
    "    [[200, 201, 202], [203, 204, 205]],\n",
    "])\n",
    "print(\"\\n3D:\\n\", a3,\"\\nndim:\", a3.ndim,\"\\nshape:\", a3.shape)"
   ]
  },
  {
   "cell_type": "markdown",
   "id": "e47587da-ff97-4000-ab35-cd392174be93",
   "metadata": {},
   "source": [
    "## **Other Arrays:**\n",
    "Apart from multi-dimensional arrays, NumPy lets you create arrays in many other ways. Here's some of the most common ones:\n",
    "- `np.array([...])`\n",
    "- `np.zeros()` / `np.ones()`\n",
    "- `np.full()`\n",
    "- `np.arange(start, stop, step)`\n",
    "- `np.linspace(start, stop, num)`"
   ]
  },
  {
   "cell_type": "markdown",
   "id": "d15f7ff8-a75a-4b6e-a8ff-86752650b4b9",
   "metadata": {},
   "source": [
    "#### **np.array()**\n",
    "This array is from the Python list; we've seen this used previously when learning multi-dimensional arrays. \n",
    "- Each pair of brackets `[...]` adds a new dimension.\n",
    "- So a 1D list is a vector, a list of lists is a 2D matrix, a list of lists of lists is 3D, and so on.\n",
    "\n",
    "`np.array()` can create arrays of any number of dimensions, depending on the structure of the input you give it. \n",
    "\n",
    "Heres how:"
   ]
  },
  {
   "cell_type": "code",
   "execution_count": 98,
   "id": "cf4070b0-3a9e-4dec-980f-b8c2378a846d",
   "metadata": {},
   "outputs": [],
   "source": [
    "# 1D\n",
    "a = np.array([1, 2, 3])\n",
    "\n",
    "# 2D\n",
    "b = np.array([[1, 2, 3],\n",
    "              [4, 5, 6]])\n",
    "\n",
    "# 3D\n",
    "c = np.array([ [[1, 2], [3, 4]],\n",
    "               [[5, 6], [7, 8]] ])"
   ]
  },
  {
   "cell_type": "markdown",
   "id": "f73b7834-8993-4229-a6d9-0eb70d7005bd",
   "metadata": {},
   "source": [
    "#### **np.zeros() / np.ones()**\n",
    "These two arrays are super useful for quickly creating arrays filled with zeros or ones of any shape you want.\n",
    "\n",
    "- `np.zeros` create an array where every element is 0.\n",
    "- `np.ones` creates an array where every element is 1.\n",
    "- Both let you quickly generate arrays of any size or any dimension.\n"
   ]
  },
  {
   "cell_type": "markdown",
   "id": "33dc9fa3-07d2-48ed-a299-2b11fa6963e2",
   "metadata": {},
   "source": [
    "***Why are these useful?***\n",
    "1. They're useful as placeholders or starting points when you know the shape of the data but don’t yet have values to fill in.\n",
    "2. Testing & Prototyping: You can make arrays quickly to test functions without worrying about real data.\n",
    "*Example: creating a 10×10 grid of zeros to test matrix operations.*\n",
    "3. Machine Learning / Math: You often initialize weights or matrices with zeros or ones.\n",
    "4. Consistency: Sometimes you need a clean “all-zero” baseline to compare against another array."
   ]
  },
  {
   "cell_type": "markdown",
   "id": "ee628834-87ff-4095-9ced-b63fb2f0ee78",
   "metadata": {},
   "source": [
    "***How do we create these arrays?***\n",
    "\n",
    "Lets start with `np.zeros()`:\n",
    "\n",
    "The structure for this is `np.zeros(shape)`, where `shape` is the dimensions of the array you want NumPy to build."
   ]
  },
  {
   "cell_type": "code",
   "execution_count": 99,
   "id": "07add490-0eca-4a7e-ad36-a223017fbf14",
   "metadata": {},
   "outputs": [
    {
     "name": "stdout",
     "output_type": "stream",
     "text": [
      "a:\n",
      " [0. 0. 0. 0. 0.]\n",
      "b:\n",
      " [[0. 0. 0.]\n",
      " [0. 0. 0.]]\n",
      "c:\n",
      " [[[0. 0.]\n",
      "  [0. 0.]]\n",
      "\n",
      " [[0. 0.]\n",
      "  [0. 0.]]]\n"
     ]
    }
   ],
   "source": [
    "# 1D array of 5 zeros\n",
    "a = np.zeros(5) \n",
    "\n",
    "# 2D array (2 rows, 3 columns)\n",
    "b = np.zeros((2, 3))   \n",
    "\n",
    "# 3D array (2 tables, 2 rows, 2 columns)\n",
    "c = np.zeros((2, 2, 2))\n",
    "\n",
    "print(\"a:\\n\", a)\n",
    "print(\"b:\\n\", b)\n",
    "print(\"c:\\n\", c)"
   ]
  },
  {
   "cell_type": "markdown",
   "id": "82517c55-deec-4e65-9b84-7642723a690d",
   "metadata": {},
   "source": [
    "**Next:**\n",
    "\n",
    "`np.ones(shape)` is the same thing, but filled with ones instead:"
   ]
  },
  {
   "cell_type": "code",
   "execution_count": 100,
   "id": "41c383f7-5d26-472e-b86c-2939f8640264",
   "metadata": {},
   "outputs": [
    {
     "name": "stdout",
     "output_type": "stream",
     "text": [
      "a:\n",
      " [1. 1. 1. 1. 1.]\n",
      "b:\n",
      " [[1. 1. 1.]\n",
      " [1. 1. 1.]]\n",
      "c:\n",
      " [[[1. 1.]\n",
      "  [1. 1.]]\n",
      "\n",
      " [[1. 1.]\n",
      "  [1. 1.]]]\n"
     ]
    }
   ],
   "source": [
    "# 1D array of 5 ones\n",
    "a = np.ones(5) \n",
    "\n",
    "# 2D array (2 rows, 3 columns)\n",
    "b = np.ones((2, 3))   \n",
    "\n",
    "# 3D array (2 tables, 2 rows, 2 columns)\n",
    "c = np.ones((2, 2, 2))\n",
    "\n",
    "print(\"a:\\n\", a)\n",
    "print(\"b:\\n\", b)\n",
    "print(\"c:\\n\", c)"
   ]
  },
  {
   "cell_type": "markdown",
   "id": "7d8da928-9ce1-4057-806b-04d5309ae1c4",
   "metadata": {},
   "source": [
    "***Is the possible to make an array full of a number besides ones and zeros?***\n",
    "\n",
    "The answer is **yes!** For that we use:"
   ]
  },
  {
   "cell_type": "markdown",
   "id": "7a75d73d-4234-4d7b-ba5e-ca5299c27dae",
   "metadata": {},
   "source": [
    "#### **np.full()**\n",
    "This creates an array of the given shape, filled with whatever value you choose. Using it is the same as creating an array of ones or zeros, but the structure is slightly different.\n",
    "- `np.full(shape, fill_value)` where fill_value represents any constant value you fill the array with.\n",
    "- It works just like `np.zeros/np.ones` but more flexible.\n"
   ]
  },
  {
   "cell_type": "code",
   "execution_count": 101,
   "id": "4f9a3308-87a1-4c56-87d5-6d6c171687ed",
   "metadata": {},
   "outputs": [
    {
     "name": "stdout",
     "output_type": "stream",
     "text": [
      "a:\n",
      " [[7 7 7]\n",
      " [7 7 7]]\n",
      "b:\n",
      " [[[-1 -1]\n",
      "  [-1 -1]]\n",
      "\n",
      " [[-1 -1]\n",
      "  [-1 -1]]]\n"
     ]
    }
   ],
   "source": [
    "# A 2x3 array filled with 7\n",
    "a = np.full((2, 3), 7)\n",
    "\n",
    "# A 3D array (2x2x2) filled with -1\n",
    "b = np.full((2, 2, 2), -1)\n",
    "\n",
    "print(\"a:\\n\", a)\n",
    "print(\"b:\\n\", b)"
   ]
  },
  {
   "cell_type": "markdown",
   "id": "f33eaa26-562e-4c55-bbca-05b0b0765360",
   "metadata": {},
   "source": [
    "### **Mini-Exercise:** Creating Constant Number Arrays"
   ]
  },
  {
   "cell_type": "markdown",
   "id": "a9af8a2a-6000-4343-aec8-c147eeb78c0d",
   "metadata": {},
   "source": [
    "For this mini exercise, you are tasked with the following:\n",
    "1. Create a `5x5` array of all zeros.\n",
    "2. Create a `2x3` array of all ones.\n",
    "3. Create a `2x2x2` array filled with 5.\n",
    "4. Print each array and its `.shape` to confirm its dimensions.\n",
    "\n",
    "Use the starter code provided below:"
   ]
  },
  {
   "cell_type": "code",
   "execution_count": null,
   "id": "faf99291-fe3e-487e-a5f2-80da7257b501",
   "metadata": {},
   "outputs": [],
   "source": [
    "# Starter Code\n",
    "\n",
    "import numpy as np\n",
    "\n",
    "# 1. Create a 5x5 array of zeros\n",
    "a = ___\n",
    "\n",
    "# 2. Create a 2x3 array of ones\n",
    "b = ___\n",
    "\n",
    "# 3. Create a 2x2x2 array filled with 5\n",
    "c = ___\n",
    "\n",
    "# Print arrays and their shapes\n",
    "print(\"a:\\n\", a)\n",
    "print(\"Shape of a:\", a.shape)\n",
    "\n",
    "print(\"\\nb:\\n\", b)\n",
    "print(\"Shape of b:\", b.shape)\n",
    "\n",
    "print(\"\\nc:\\n\", c)\n",
    "print(\"Shape of c:\", c.shape)\n"
   ]
  },
  {
   "cell_type": "markdown",
   "id": "3670529e-ec86-482f-9b60-c9b1f56ddefe",
   "metadata": {},
   "source": [
    "**SOLUTION**\n",
    "\n",
    "***Pause here and try it yourself before scrolling down.***"
   ]
  },
  {
   "cell_type": "code",
   "execution_count": null,
   "id": "5d892633-b385-402c-927d-aa13253383f8",
   "metadata": {},
   "outputs": [],
   "source": [
    "a = np.zeros((5, 5))\n",
    "b = np.ones((2, 3))\n",
    "c = np.full((2, 2, 2), 5)\n",
    "\n",
    "print(\"a:\\n\", a)\n",
    "print(\"Shape of a:\", a.shape)\n",
    "\n",
    "print(\"\\nb:\\n\", b)\n",
    "print(\"Shape of b:\", b.shape)\n",
    "\n",
    "print(\"\\nc:\\n\", c)\n",
    "print(\"Shape of c:\", c.shape)\n"
   ]
  },
  {
   "cell_type": "markdown",
   "id": "62097e3e-7e90-4145-97ca-eb8d0dd54a9f",
   "metadata": {},
   "source": [
    "Now lets move onto creating sequences!"
   ]
  },
  {
   "cell_type": "markdown",
   "id": "22cdc9b2-de5d-4e41-8344-d019f4d5e8fd",
   "metadata": {},
   "source": [
    "#### **np.arange()**\n",
    "NumPy’s `np.arange(start, stop, step)` works like Python’s built-in range(), but it creates a NumPy array instead of a list.\n",
    "- `start` &rarr; where the sequence begins (default = 0).\n",
    "- `stop` &rarr; where the sequence ends (no default).\n",
    "- `step` &rarr; how much to increase each time (default = 1).\n",
    "\n",
    "***Why is this useful?***\n",
    "1. Quick Sequences: It’s the fastest way to make arrays of consecutive numbers or evenly spaced numbers without typing them out manually.\n",
    "2. Works with Any Step Size: You can make arrays that skip numbers (like evens, odds, multiples of 3, etc.) or even count backwards.\n",
    "3. Great for Reshaping: Later in the tutorial, when you learn `.reshape()`, `arange` is super handy. You can generate a block of numbers and then reshape it into a 2D or 3D array.\\\n",
    "\n",
    "***Let's see what this array can do!***"
   ]
  },
  {
   "cell_type": "code",
   "execution_count": null,
   "id": "4c3008af-0188-4d95-872c-0e4351f98ad5",
   "metadata": {},
   "outputs": [],
   "source": [
    "# Sequence:\n",
    "# 0 up to (but not including) 100.\n",
    "a = np.arange(0, 100)  \n",
    "\n",
    "# Sequence by any step size:\n",
    "# Start = 0, stop = 15 (ends at 12), step = 3.\n",
    "b = np.arange(0, 15, 3)  \n",
    "\n",
    "# Counting down:\n",
    "# De-increment by 1.\n",
    "c = np.arange(5, -5, -1)\n",
    "\n",
    "# Counting up by even numbers:\n",
    "# Start = 2, end = 13 (ends at 12), step = 2.\n",
    "d = np.arange(2, 13, 2)\n",
    "\n",
    "print(\"a:\", a)\n",
    "print(\"b:\", b)\n",
    "print(\"c:\", c)\n",
    "print(\"d:\", d)"
   ]
  },
  {
   "cell_type": "markdown",
   "id": "14e5d736-1642-4f4b-aac8-aa865dbcb7ef",
   "metadata": {},
   "source": [
    "*Reminder:* Arrays start from 0, meaning the elements in the array will always be n-1."
   ]
  },
  {
   "cell_type": "markdown",
   "id": "2f2792ef-430a-458d-b44d-fc8fcf61d2a0",
   "metadata": {},
   "source": [
    "### **Mini-Exercise:** Creating Sequences"
   ]
  },
  {
   "cell_type": "markdown",
   "id": "8c84b31c-4353-4b71-9f56-efaecb030e0a",
   "metadata": {},
   "source": [
    "Your turn! Let's get some practice with creating sequencing arrays. Complete the following using the provided starter code:\n",
    "1. Create an array of numbers from 0 to 20 (not including 20).\n",
    "2. Create an array of odd numbers from 1 to 19.\n",
    "3. Create an array that counts down from 10 to 1."
   ]
  },
  {
   "cell_type": "code",
   "execution_count": null,
   "id": "60a6df2a-d4a6-419f-9119-a2c5ef8149c9",
   "metadata": {},
   "outputs": [],
   "source": [
    "import numpy as np\n",
    "\n",
    "# 1. Numbers from 0 to 19\n",
    "a = np.arange(__)\n",
    "print(\"a:\", a)\n",
    "\n",
    "# 2. Odd numbers from 1 to 19\n",
    "b = np.arange(__)\n",
    "print(\"b:\", b)\n",
    "\n",
    "# 3. Countdown from 10 to 1\n",
    "c = np.arange(__)\n",
    "print(\"c:\", c)\n"
   ]
  },
  {
   "cell_type": "markdown",
   "id": "6dd1bcc5-686b-4304-8734-db87bb739735",
   "metadata": {},
   "source": [
    "**SOLUTION**\n",
    "\n",
    "***Pause here and try it yourself before scrolling down.***"
   ]
  },
  {
   "cell_type": "code",
   "execution_count": null,
   "id": "02f3d651-d78c-4bc2-8745-a87abb08efc6",
   "metadata": {},
   "outputs": [],
   "source": [
    "import numpy as np\n",
    "\n",
    "# 1. Numbers from 0 to 19\n",
    "a = np.arange(0, 20)\n",
    "print(\"a:\", a)\n",
    "\n",
    "# 2. Odd numbers from 1 to 19\n",
    "b = np.arange(1, 20, 2)\n",
    "print(\"b:\", b)\n",
    "\n",
    "# 3. Countdown from 10 to 1\n",
    "c = np.arange(10, 0, -1)\n",
    "print(\"c:\", c)\n"
   ]
  },
  {
   "cell_type": "markdown",
   "id": "6f36c74e-c1ab-4ffd-9c26-c00a729a4d34",
   "metadata": {},
   "source": [
    "**Last on the list we have:**"
   ]
  },
  {
   "cell_type": "markdown",
   "id": "9adad62f-ccc3-4f0d-ba7a-ca0b5af832de",
   "metadata": {},
   "source": [
    "**np.linspace()**\n",
    "\n",
    "While `np.arange()` creates arrays based on a step size,\n",
    "`np.linspace()` creates arrays based on a number of evenly spaced points between two values.\n",
    "You tell it:\n",
    "- Where to start (the beginning of the line)\n",
    "- Where to stop (the end of the line)\n",
    "- How many pieces you want in between\n",
    "\n",
    "Then it gives you all the marks where it's split."
   ]
  },
  {
   "cell_type": "markdown",
   "id": "565c331a-0543-4f39-bb2a-a0727f842eea",
   "metadata": {},
   "source": [
    "**To help visualize:**\n",
    "- You have a tine that goes from 0 to 10.\n",
    "- You tell NumPy to divide it into 5 equal parts,\" it will place marks at equal spacing.\n",
    "  \n",
    "So the marks land at:"
   ]
  },
  {
   "cell_type": "raw",
   "id": "4c609534-89be-434b-86a8-c1b4afe89449",
   "metadata": {},
   "source": [
    "0 ---- 2.5 ---- 5 ---- 7.5 ---- 10"
   ]
  },
  {
   "cell_type": "markdown",
   "id": "a1b34473-ccbe-4ad2-921b-ea29ff815cea",
   "metadata": {},
   "source": [
    "Those marks are the numbers that linspace gives you."
   ]
  },
  {
   "cell_type": "markdown",
   "id": "d6f54c4c-8b45-4ae5-aa82-858e9669c9a9",
   "metadata": {},
   "source": [
    "**Here's the example in NumPy terms:**"
   ]
  },
  {
   "cell_type": "code",
   "execution_count": null,
   "id": "fe69148b-f3b9-421a-a4bd-d11d360b2fdf",
   "metadata": {},
   "outputs": [],
   "source": [
    "# Split the line from 0 to 10 into 5 equal parts\n",
    "# This array starts at 0, stops at 10, and has 5 pieces.\n",
    "\n",
    "arr = np.linspace(0, 10, 5)\n",
    "print(arr)\n"
   ]
  },
  {
   "cell_type": "markdown",
   "id": "0c6a9800-432c-4132-b15d-980d48b30648",
   "metadata": {},
   "source": [
    "***Why is this useful?***\n",
    "1. Even spacing: If you need exactly 50 values between 0 and 1, linspace does it automatically.\n",
    "2. Works with floats: Unlike arange, which might have rounding issues, linspace is great for decimals.\n",
    "3. Used in plotting: Very common in math/engineering/CS when you need smooth ranges for graphs.\n",
    "\n",
    "***When should you use `.arange` vs `linspace`?***\n",
    "- Use `.arange` when you know the **step size** you want.\n",
    "- Use `.linspace` when you know the **number of points** you want.\n",
    "\n",
    "Here's a side-by-side example:"
   ]
  },
  {
   "cell_type": "code",
   "execution_count": null,
   "id": "f1a3caa6-f221-4706-b875-47ab7141830a",
   "metadata": {},
   "outputs": [],
   "source": [
    "# arange: fixed step\n",
    "a = np.arange(0, 11, 2)   # from 0 to 10, step of 2\n",
    "print(\"arange:\", a)\n",
    "\n",
    "# linspace: fixed number of points\n",
    "b = np.linspace(0, 10, 6) # 6 points between 0 and 10\n",
    "print(\"linspace:\", b)\n"
   ]
  },
  {
   "cell_type": "markdown",
   "id": "d6dbc303-472f-4aee-893c-1b885ed74230",
   "metadata": {},
   "source": [
    "Notice how both cover the same range, but:\n",
    "- `.arange` does it by stepping by 2\n",
    "\n",
    "- `.linspace` does it by saying “give me 6 points, evenly spaced”"
   ]
  },
  {
   "cell_type": "markdown",
   "id": "e4c7a8a8-621b-42fa-b872-582a62f1f6da",
   "metadata": {},
   "source": [
    "### **Mini-Exercise:** Cutting the line"
   ]
  },
  {
   "cell_type": "markdown",
   "id": "1374f881-4b90-43db-bf7b-7a6417bd5ab2",
   "metadata": {},
   "source": [
    "Task: \n",
    "1. Use np.linspace() to create 7 evenly spaced numbers between 0 and 21.\n",
    "2. Print the array, its shape, and size to inspect it.\n",
    "\n",
    "The starter code is provided below:"
   ]
  },
  {
   "cell_type": "code",
   "execution_count": null,
   "id": "92ec4311-7c00-41ba-a078-a46ab1ab62c9",
   "metadata": {},
   "outputs": [],
   "source": [
    "# Starter Code\n",
    "\n",
    "import numpy as np\n",
    "\n",
    "# 1. Create a linspace array\n",
    "arr = np.linspace(__)\n",
    "\n",
    "# 2. Print array\n",
    "print(\"Array:\", __)\n",
    "\n",
    "# 3. Inspect the array\n",
    "print(\"Shape:\", __)  # dimensions of the array\n",
    "print(\"Size:\", __)    # total number of elements\n"
   ]
  },
  {
   "cell_type": "markdown",
   "id": "1232ddc1-af43-4885-8a0f-1a727d68f5eb",
   "metadata": {},
   "source": [
    "**SOLUTION**\n",
    "\n",
    "***Pause here and try it yourself before scrolling down.***"
   ]
  },
  {
   "cell_type": "code",
   "execution_count": null,
   "id": "22adc9c2-2652-4e6c-96d6-72b9432fe197",
   "metadata": {},
   "outputs": [],
   "source": [
    "import numpy as np\n",
    "\n",
    "# 1. Create linspace array\n",
    "arr = np.linspace(0, 21, 7)\n",
    "\n",
    "# 2. Print array\n",
    "print(\"Array:\", arr)\n",
    "\n",
    "# 3. Inspect the array\n",
    "print(\"Shape:\", arr.shape)  # dimensions of the array\n",
    "print(\"Size:\", arr.size)    # total number of elements\n"
   ]
  },
  {
   "cell_type": "markdown",
   "id": "1c05ab96-a3c6-45c7-bb4e-e1c07911e483",
   "metadata": {},
   "source": [
    "### Inspecting Arrays"
   ]
  },
  {
   "cell_type": "markdown",
   "id": "12760202-6c19-418f-971a-5d6264fdda7f",
   "metadata": {},
   "source": [
    "This section will look at the metadata of an array (not just the numbers inside it). That way, when working with bigger data later, you know how to read and deal with the information.\n",
    "\n",
    "**When you create arrays, its important to know:**\n",
    "- `.shape` &rarr; the size in each dimension (rows, cols, …)\n",
    "- `.ndim` &rarr; number of dimensions (1D vector, 2D matrix, etc.)\n",
    "- `.size` &rarr; total number of elements in array,\n",
    "- `.dtype` &rarr; type of values inside the array (integers, floats, etc.)"
   ]
  },
  {
   "cell_type": "markdown",
   "id": "ea3aa70b-5ea4-4075-bd5e-28807c862653",
   "metadata": {},
   "source": [
    "***Why is `Shape` important?***\n",
    "\n",
    "The `shape` attribute shows the structure of an array, meaning how many rows, columns, or higher dimensions it has. This is important because NumPy operations often require arrays to have matching or compatible shapes. Most NumPy errors come from shape mismatches."
   ]
  },
  {
   "cell_type": "code",
   "execution_count": null,
   "id": "3e924f0f-6888-4299-b709-72d1310771fb",
   "metadata": {},
   "outputs": [],
   "source": [
    "import numpy as np\n",
    "\n",
    "# 2 rows, 3 columns\n",
    "arr = np.array([[1, 2, 3], [4, 5, 6]])\n",
    "print(arr.shape)   # (2, 3)"
   ]
  },
  {
   "cell_type": "markdown",
   "id": "439fa7cf-dbf4-4e23-88e9-be034e769184",
   "metadata": {},
   "source": [
    "***Why is `Size` important?***\n",
    "\n",
    "The `size` attribute tells you the total number of elements inside the array. This is useful for double-checking that you created the expected amount of data and for estimating how much memory the array might use."
   ]
  },
  {
   "cell_type": "code",
   "execution_count": null,
   "id": "d15d7af8-47bd-4c48-8923-c97620e594fc",
   "metadata": {},
   "outputs": [],
   "source": [
    "# total of 6 elements\n",
    "print(arr.size)   # 6"
   ]
  },
  {
   "cell_type": "markdown",
   "id": "679326c2-d7be-44e7-bc46-fe20fa08c079",
   "metadata": {},
   "source": [
    "***Why is `ndim` important?***\n",
    "\n",
    "The `ndim` attribute shows how many dimensions the array has. For example, a one-dimensional array looks like a list, a two-dimensional array looks like a table, and a three-dimensional array can be thought of as a stack of tables. Knowing the number of dimensions helps you understand the structure of your data."
   ]
  },
  {
   "cell_type": "code",
   "execution_count": null,
   "id": "00805bd8-127e-439f-bd1a-eead0a43ac09",
   "metadata": {},
   "outputs": [],
   "source": [
    "# this is a 2D array\n",
    "print(arr.ndim)   # 2"
   ]
  },
  {
   "cell_type": "markdown",
   "id": "5d55eb4a-5808-4f0b-b103-76622fc79726",
   "metadata": {},
   "source": [
    "***Why is `dtype` important?***\n",
    "\n",
    "The `dtype` attribute tells you what kind of values are stored in the array, such as integers, floating-point numbers, or booleans. This matters because it determines the precision of calculations and whether certain operations can be carried out without errors."
   ]
  },
  {
   "cell_type": "code",
   "execution_count": null,
   "id": "69bed734-6cf8-4cab-a9cb-5e3faf6bbfbf",
   "metadata": {},
   "outputs": [],
   "source": [
    "print(arr.dtype)   # int64"
   ]
  },
  {
   "cell_type": "markdown",
   "id": "0fa6af03-7f1b-402b-8b94-422c7cf84de7",
   "metadata": {},
   "source": [
    "### **Exercise:** Building Arrays from Scratch"
   ]
  },
  {
   "cell_type": "markdown",
   "id": "c781ca04-3274-46f6-90e5-bbb99a161bd7",
   "metadata": {},
   "source": [
    "Congratulations, you've completed Part 1: Arrays! This is a big milestone because arrays are the foundation of NumPy. If you understand arrays, everything else, indexing, slicing, broadcasting, and reshaping, will make much more sense later. \n",
    "\n",
    "So far, you’ve been working with guided examples and starter code. This time, you’re upgrading! No starter code is provided. Instead, you’ll need to apply everything you’ve learned about arrays:\n",
    "- Creating arrays with `np.array`, `np.zeros`, `np.ones`, `np.fill`, `np.arange`, and `np.linspace`.\n",
    "- Understanding dimensions, including multi-dimensional arrays (2D, 3D, and beyond).\n",
    "- Inspecting arrays.\n",
    "\n",
    "Feel free to refer to the tutorial examples if you're stuck!"
   ]
  },
  {
   "cell_type": "markdown",
   "id": "e13d04ec-143d-4178-b65e-f7910815213b",
   "metadata": {},
   "source": [
    "***Task:***\n",
    "1) Multi-dimensional &rarr; Create a 3D array with shape (2, 3, 4) filled with any numbers.\n",
    "\n",
    "2) Zeros and ones &rarr; Create a 2D array of shape (4, 4) filled with zeros, and a 2D array of shape (3, 5) filled with ones.\n",
    "\n",
    "3) Custom fill &rarr; Create a 3D array of shape (2, 2, 2) filled with the number 7.\n",
    "\n",
    "4) Ranges &rarr; Use np.arange to generate a sequence from 5 to 30 with a step of 5.\n",
    "\n",
    "5) Even spacing &rarr; Use np.linspace to create 10 evenly spaced values between 0 and 1.\n",
    "\n",
    "6) Inspection &rarr; For the arrays you created above, print their shape, size, ndim, and dtype.\n",
    "\n",
    "7) Up for a challenge?\n",
    "    - Create a 4D array with shape (2, 3, 2, 4) directly using np.array *(hint: you'll need to nest Python lists until it works)*.\n",
    "    - Print its shape, size, and ndim\n",
    "    - In one sentence, describe how you think of a 4D array."
   ]
  },
  {
   "cell_type": "markdown",
   "id": "43e70baa-62b1-4447-a086-f98afc850dab",
   "metadata": {},
   "source": [
    "***Ready? Go!***"
   ]
  },
  {
   "cell_type": "code",
   "execution_count": null,
   "id": "40b1f9a0-3d1d-4903-bb4d-ed00723e9020",
   "metadata": {},
   "outputs": [],
   "source": [
    "import numpy as np"
   ]
  },
  {
   "cell_type": "code",
   "execution_count": null,
   "id": "674d2981-4f23-436e-bdf2-5d9adf146381",
   "metadata": {},
   "outputs": [],
   "source": [
    "# 1. Create a 3D array with shape (2, 3, 4) filled with any numbers."
   ]
  },
  {
   "cell_type": "code",
   "execution_count": 10,
   "id": "f3a24293-669f-4c8f-9f3f-03a363450074",
   "metadata": {},
   "outputs": [],
   "source": [
    "# 2. Create a 2D array of shape (4, 4) filled with zeros, \n",
    "# and a 2D array of shape (3, 5) filled with ones."
   ]
  },
  {
   "cell_type": "code",
   "execution_count": null,
   "id": "c660a997-86f6-41e4-9c71-097aecd64130",
   "metadata": {},
   "outputs": [],
   "source": [
    "# 3. Create a 3D array of shape (2, 2, 2) filled with the number 7."
   ]
  },
  {
   "cell_type": "code",
   "execution_count": null,
   "id": "20ae23b6-0159-49c9-a2e0-0f7cb0daee8e",
   "metadata": {},
   "outputs": [],
   "source": [
    "# 4. Use np.arange to generate a sequence from 5 to 30 with a step of 5."
   ]
  },
  {
   "cell_type": "code",
   "execution_count": 11,
   "id": "4f3f60bd-cdce-4e48-9a06-c151e636c5c6",
   "metadata": {},
   "outputs": [],
   "source": [
    "# 5. Use np.linspace to create 10 evenly spaced values between 0 and 1."
   ]
  },
  {
   "cell_type": "code",
   "execution_count": null,
   "id": "7d2f61f8-4164-4b8a-9f2d-e9d190abad37",
   "metadata": {},
   "outputs": [],
   "source": [
    "# 6. For the arrays you created above, print their shape, size, ndim, and dtype."
   ]
  },
  {
   "cell_type": "code",
   "execution_count": null,
   "id": "06daf597-5e4a-4d1c-b932-0bba4630cd2b",
   "metadata": {},
   "outputs": [],
   "source": [
    "# 7. Optional: Create a 4D array with shape (2, 3, 2, 4) directly using np.array"
   ]
  },
  {
   "cell_type": "markdown",
   "id": "9d9eeb09-d93d-45e1-98d8-0ca8388aacd0",
   "metadata": {},
   "source": [
    "**SOLUTION**\n",
    "\n",
    "***Pause here and try it yourself before scrolling down.***"
   ]
  },
  {
   "cell_type": "code",
   "execution_count": 12,
   "id": "cefc36ad-0f15-4fef-b205-d74b0f22ef79",
   "metadata": {},
   "outputs": [
    {
     "name": "stdout",
     "output_type": "stream",
     "text": [
      "1) Multi-dimensional (3D)\n",
      "[[[ 0  1  2  3]\n",
      "  [ 4  5  6  7]\n",
      "  [ 8  9 10 11]]\n",
      "\n",
      " [[12 13 14 15]\n",
      "  [16 17 18 19]\n",
      "  [20 21 22 23]]]\n",
      "shape: (2, 3, 4) size: 24 ndim: 3\n",
      "----------------------------------------\n",
      "2) Zeros and ones\n",
      "Zeros (4x4):\n",
      " [[0. 0. 0. 0.]\n",
      " [0. 0. 0. 0.]\n",
      " [0. 0. 0. 0.]\n",
      " [0. 0. 0. 0.]]\n",
      "Ones  (3x5):\n",
      " [[1. 1. 1. 1. 1.]\n",
      " [1. 1. 1. 1. 1.]\n",
      " [1. 1. 1. 1. 1.]]\n",
      "----------------------------------------\n",
      "3) Custom fill (3D 2x2x2 of 7)\n",
      "[[[7 7]\n",
      "  [7 7]]\n",
      "\n",
      " [[7 7]\n",
      "  [7 7]]]\n",
      "----------------------------------------\n",
      "4) Ranges with arange (5..30 step 5)\n",
      "[ 5 10 15 20 25 30]\n",
      "----------------------------------------\n",
      "5) Even spacing with linspace (10 pts 0..1)\n",
      "[0.         0.11111111 0.22222222 0.33333333 0.44444444 0.55555556\n",
      " 0.66666667 0.77777778 0.88888889 1.        ]\n",
      "----------------------------------------\n",
      "6) Inspect each array\n",
      "A3: shape=(2, 3, 4), size=24, ndim=3, dtype=int64\n",
      "Z: shape=(4, 4), size=16, ndim=2, dtype=float64\n",
      "O: shape=(3, 5), size=15, ndim=2, dtype=float64\n",
      "F: shape=(2, 2, 2), size=8, ndim=3, dtype=int64\n",
      "R: shape=(6,), size=6, ndim=1, dtype=int64\n",
      "L: shape=(10,), size=10, ndim=1, dtype=float64\n",
      "----------------------------------------\n",
      "7) Challenge Question\n",
      "[[[[ 1  2  3  4]\n",
      "   [ 5  6  7  8]]\n",
      "\n",
      "  [[ 9 10 11 12]\n",
      "   [13 14 15 16]]\n",
      "\n",
      "  [[17 18 19 20]\n",
      "   [21 22 23 24]]]\n",
      "\n",
      "\n",
      " [[[25 26 27 28]\n",
      "   [29 30 31 32]]\n",
      "\n",
      "  [[33 34 35 36]\n",
      "   [37 38 39 40]]\n",
      "\n",
      "  [[41 42 43 44]\n",
      "   [45 46 47 48]]]]\n",
      "Shape: (2, 3, 2, 4)\n",
      "Size: 48\n",
      "Dimensions: 4\n"
     ]
    }
   ],
   "source": [
    "# Answers may vary\n",
    "\n",
    "import numpy as np\n",
    "\n",
    "print(\"1) Multi-dimensional (3D)\")\n",
    "A3 = np.arange(24).reshape(2, 3, 4)   # any numbers; easy to see pattern\n",
    "print(A3)\n",
    "print(\"shape:\", A3.shape, \"size:\", A3.size, \"ndim:\", A3.ndim)\n",
    "print(\"-\"*40)\n",
    "\n",
    "print(\"2) Zeros and ones\")\n",
    "Z = np.zeros((4, 4))\n",
    "O = np.ones((3, 5))\n",
    "print(\"Zeros (4x4):\\n\", Z)\n",
    "print(\"Ones  (3x5):\\n\", O)\n",
    "print(\"-\"*40)\n",
    "\n",
    "print(\"3) Custom fill (3D 2x2x2 of 7)\")\n",
    "F = np.full((2, 2, 2), 7)\n",
    "print(F)\n",
    "print(\"-\"*40)\n",
    "\n",
    "print(\"4) Ranges with arange (5..30 step 5)\")\n",
    "R = np.arange(5, 31, 5)   # 5,10,15,20,25,30\n",
    "print(R)\n",
    "print(\"-\"*40)\n",
    "\n",
    "print(\"5) Even spacing with linspace (10 pts 0..1)\")\n",
    "L = np.linspace(0, 1, 10)\n",
    "print(L)\n",
    "print(\"-\"*40)\n",
    "\n",
    "print(\"6) Inspect each array\")\n",
    "arrays = {\"A3\": A3, \"Z\": Z, \"O\": O, \"F\": F, \"R\": R, \"L\": L}\n",
    "# Loop instead of manually displaying each array inspection\n",
    "for name, arr in arrays.items():\n",
    "    print(f\"{name}: shape={arr.shape}, size={arr.size}, ndim={arr.ndim}, dtype={arr.dtype}\")\n",
    "print(\"-\"*40)\n",
    "\n",
    "\n",
    "# Challenge Question\n",
    "print(\"7) Challenge Question\")\n",
    "\n",
    "# Making a 4D array (2, 3, 2, 4)\n",
    "# Putting multiple 3D blocks together creates a 4D structure\n",
    "arr4d = np.array([\n",
    "    [   # First block\n",
    "        [[1, 2, 3, 4], [5, 6, 7, 8]],\n",
    "        [[9, 10, 11, 12], [13, 14, 15, 16]],\n",
    "        [[17, 18, 19, 20], [21, 22, 23, 24]]\n",
    "    ],\n",
    "    [   # Second block\n",
    "        [[25, 26, 27, 28], [29, 30, 31, 32]],\n",
    "        [[33, 34, 35, 36], [37, 38, 39, 40]],\n",
    "        [[41, 42, 43, 44], [45, 46, 47, 48]]\n",
    "    ]\n",
    "])\n",
    "print(arr4d)\n",
    "print(\"Shape:\", arr4d.shape)   # (2, 3, 2, 4)\n",
    "print(\"Size:\", arr4d.size)     # 48\n",
    "print(\"Dimensions:\", arr4d.ndim)  # 4\n"
   ]
  },
  {
   "cell_type": "markdown",
   "id": "0ee99ee9-cc5d-4ef6-9727-f1c454ecbe36",
   "metadata": {},
   "source": [
    "# Part 2: Indexing & Slicing"
   ]
  },
  {
   "cell_type": "markdown",
   "id": "743a2f23-d3ff-4160-8202-64d70bb5471c",
   "metadata": {},
   "source": [
    "Indexing = Picking specific items/positions.\n",
    "\n",
    "1D: arr[3] → the 4th item\n",
    "\n",
    "2D: M[1, 2] → row 2, col 3 (0-based)"
   ]
  },
  {
   "cell_type": "code",
   "execution_count": null,
   "id": "d915ae71-72d0-4fae-917c-4bfcedb2958b",
   "metadata": {},
   "outputs": [],
   "source": [
    "arr = np.arange(10)          # [0 1 2 3 4 5 6 7 8 9]\n",
    "arr[3]            # -> 3  (single index)\n",
    "arr[[1, 4, 6]]    # -> [1 4 6] (fancy indexing, copy)\n",
    "arr[arr % 2 == 0] # -> [0 2 4 6 8] (boolean mask, copy)\n",
    "\n",
    "M = np.arange(12).reshape(3,4)\n",
    "M[1, 2]          # element at row 1, col 2\n",
    "M[:, 0]          # first column as a 1D view (shape (3,))"
   ]
  },
  {
   "cell_type": "markdown",
   "id": "9ee93fe5-f539-4634-a7b7-9e388e4015a4",
   "metadata": {},
   "source": [
    "Slicing = Taking a range.\n",
    "Syntax: start:stop:step (stop is excluded)\n",
    "1D: arr[2:6] → items at positions 2,3,4,5\n",
    "2D: M[0:2, 1:3] → rows 0–1 and cols 1–2\n",
    "Shorthands: : = “all”, ::2 = every other, [::-1] = reverse"
   ]
  },
  {
   "cell_type": "code",
   "execution_count": null,
   "id": "5ccf8686-3fcc-486c-8e37-47b3f0b3d83e",
   "metadata": {},
   "outputs": [],
   "source": [
    "arr = np.arange(10)\n",
    "arr[2:7]     # -> [2 3 4 5 6]     (view)\n",
    "arr[2:7:2]   # -> [2 4 6]         (view)\n",
    "arr[::-1]    # -> reversed array  (view with negative stride)\n",
    "\n",
    "M = np.arange(12).reshape(3,4)\n",
    "M[0:2, 1:4]  # top-left 2x3 block (view)\n",
    "M[:, :1]     # first column as 2D view (shape (3,1))\n",
    "\n",
    "# Compare:\n",
    "col_2d_view  = M[:, :1]    # view, shape (3,1)\n",
    "col_2d_copy  = M[:, [0]]   # fancy indexing -> copy, shape (3,1)"
   ]
  },
  {
   "cell_type": "markdown",
   "id": "86c31489-f8fe-4d4e-b456-99e44f2200ff",
   "metadata": {},
   "source": [
    "# Part 3: Element-Wise Operations"
   ]
  },
  {
   "cell_type": "markdown",
   "id": "b95a2d34-45ea-4ecc-a331-dc9385328801",
   "metadata": {},
   "source": [
    "### **What is an element-wise operation?**  \n"
   ]
  },
  {
   "cell_type": "markdown",
   "id": "f96c167e-1789-426f-8cd1-6ce17d777f96",
   "metadata": {},
   "source": [
    "NumPy arrays are designed so that when you use standard math symbols (+, -, *, /, etc.), the operation is applied to each element individually, not to the array as a whole. **This is called element-wise operations.**"
   ]
  },
  {
   "cell_type": "markdown",
   "id": "6d5ee95b-1ef1-41ff-8c81-930d48eda6c7",
   "metadata": {},
   "source": [
    "#### **Requirements:**\n",
    "1) Arrays must have the **same shape**, or be ***broadcastable (explained later)***"
   ]
  },
  {
   "cell_type": "code",
   "execution_count": null,
   "id": "4e978c59-a13a-4431-b4b1-81e12cfb8e4f",
   "metadata": {},
   "outputs": [],
   "source": [
    "a = np.array([1, 2, 3])\n",
    "b = np.array([10, 20, 30])\n",
    "print(\"Same shape:\", a + b)   # [11 22 33]"
   ]
  },
  {
   "cell_type": "markdown",
   "id": "b963cd9e-efbf-4854-b4bf-b01e70061c36",
   "metadata": {},
   "source": [
    "2) Arrays must have **compatible data types** (NumPy will usually convert if needed)."
   ]
  },
  {
   "cell_type": "code",
   "execution_count": null,
   "id": "9efa2aca-e4f1-497d-b9ca-e7aa7b60d9df",
   "metadata": {},
   "outputs": [],
   "source": [
    "e = np.array([1, 2, 3])          # int\n",
    "f = np.array([0.5, 1.5, 2.5])    # float\n",
    "print(\"Dtype result:\", e + f) # -> float result"
   ]
  },
  {
   "cell_type": "markdown",
   "id": "fac362d1-92f5-42bf-b713-524116db8a80",
   "metadata": {},
   "source": [
    "3) For in-place operations like a += b, the **result must fit back into a’s dtype**.\n",
    "4) The operation must make sense for that type (ex. can’t take np.sin of strings)."
   ]
  },
  {
   "cell_type": "markdown",
   "id": "ba1b383f-88d2-4021-bcee-7eb74d429be4",
   "metadata": {},
   "source": [
    "### Element-wise Examples:"
   ]
  },
  {
   "cell_type": "code",
   "execution_count": null,
   "id": "599937cb-143c-40d9-b332-a35cba0efd04",
   "metadata": {},
   "outputs": [],
   "source": [
    "import numpy as np\n",
    "\n",
    "a = np.array([1, 2, 3])\n",
    "b = np.array([10, 20, 30])\n",
    "\n",
    "# Arrays\n",
    "print(a)\n",
    "print(b)\n",
    "\n",
    "# Addition\n",
    "print(\"\\nArray (a + b):\\n\",a + b)   # [11 22 33]"
   ]
  },
  {
   "cell_type": "markdown",
   "id": "120562fe-9c39-4048-89f9-2b3ea39cc917",
   "metadata": {},
   "source": [
    "Explanation: NumPy is adding and multiplying each element above. \n",
    "By performing **a + b**, every element in **array a** is being added to the corresponding element in **array b**: `1 + 10`, `2 + 20`, `3 + 30`."
   ]
  },
  {
   "cell_type": "markdown",
   "id": "0e2abc6f-3992-444e-8965-7fb0901db97a",
   "metadata": {},
   "source": [
    "The same would apply if we performed any element-wise operation on an array, for example: **element-wise multiplication** on arrays a and b:"
   ]
  },
  {
   "cell_type": "code",
   "execution_count": null,
   "id": "d32134eb-cd59-4d2f-bbd0-0b18f8248d27",
   "metadata": {},
   "outputs": [],
   "source": [
    "a = np.array([1, 2, 3])\n",
    "b = np.array([10, 20, 30])\n",
    "\n",
    "# Arrays\n",
    "print(a)\n",
    "print(b)\n",
    "\n",
    "# Multiplication\n",
    "print(\"\\nArray (a * b):\\n\",a * b)   # [10 40 90]"
   ]
  },
  {
   "cell_type": "markdown",
   "id": "c1df7c52-92f0-479f-805a-4fde876569b4",
   "metadata": {},
   "source": [
    "### **Exercise:** Element-Wise Operations\n",
    "\n",
    "You’ve learned how NumPy can apply operations element by element across arrays. Now it’s your turn to practice without any starter code provided!\n",
    "\n",
    "***Task:***\n",
    "1. Create two 2D arrays `a` and `b` of the same shape. They should contain the following elemnts:\n",
    "   - Array a &rarr; `[1, 2, 3, 4, 5, 6]`\n",
    "   - Array b &rarr; `[10, 20, 30, 40, 50 , 60]`\n",
    "2. Compute and print:\n",
    "    - A + B (addition)\n",
    "    - A - B (subtraction)\n",
    "    - A * B (multiplication)\n",
    "    - A / B (division)\n",
    "    - A ** 2 (square each element of A)\n",
    "3. Print the shape of both arrays."
   ]
  },
  {
   "cell_type": "code",
   "execution_count": 15,
   "id": "1de27d71-8ea7-4d62-9a96-685fdcec442a",
   "metadata": {},
   "outputs": [
    {
     "name": "stdout",
     "output_type": "stream",
     "text": [
      "a + b =\n",
      " [[11 22 33]\n",
      " [44 55 66]]\n",
      "\n",
      "a - b =\n",
      " [[ -9 -18 -27]\n",
      " [-36 -45 -54]]\n",
      "\n",
      "a * b =\n",
      " [[ 10  40  90]\n",
      " [160 250 360]]\n",
      "\n",
      "a / b =\n",
      " [[0.1 0.1 0.1]\n",
      " [0.1 0.1 0.1]]\n",
      "\n",
      "a ** 2 =\n",
      " [[ 1  4  9]\n",
      " [16 25 36]]\n"
     ]
    }
   ],
   "source": [
    "import numpy as np\n",
    "\n",
    "# Create two arrays\n",
    "a = np.array([[1, 2, 3],\n",
    "              [4, 5, 6]])\n",
    "\n",
    "b = np.array([[10, 20, 30],\n",
    "              [40, 50, 60]])\n",
    "\n",
    "# Element-wise operations\n",
    "print(\"a + b =\\n\", a + b)       # element-wise addition\n",
    "print(\"\\na - b =\\n\", a - b)       # element-wise subtraction\n",
    "print(\"\\na * b =\\n\", a * b)       # element-wise multiplication\n",
    "print(\"\\na / b =\\n\", a / b)       # element-wise division\n",
    "print(\"\\na ** 2 =\\n\", a ** 2)     # element-wise power\n"
   ]
  },
  {
   "cell_type": "markdown",
   "id": "d96bdd93-8bbd-47e9-bb8a-705f9cd29b99",
   "metadata": {},
   "source": [
    "Did you guess correctly?\n",
    "Play with the code! Change up the values in arrays a and b, rerun to see what new outputs you get."
   ]
  },
  {
   "cell_type": "markdown",
   "id": "67418f17",
   "metadata": {},
   "source": [
    "# Part 4: Broadcasting"
   ]
  },
  {
   "cell_type": "markdown",
   "id": "5d204715",
   "metadata": {},
   "source": [
    "### **What is Broadcasting?**"
   ]
  },
  {
   "cell_type": "markdown",
   "id": "45e7026f",
   "metadata": {},
   "source": [
    "In NumPy, **broadcasting is the set of rules that allow arrays of different shapes to work together in element-wise operations**.\n",
    "Instead of manually reshaping or looping, NumPy automatically **“stretches”** smaller arrays so they can line up with bigger ones. This is called ***broadcasting***."
   ]
  },
  {
   "cell_type": "markdown",
   "id": "1ce62e5a",
   "metadata": {},
   "source": [
    "### **Scalars and Arrays**"
   ]
  },
  {
   "cell_type": "markdown",
   "id": "8b3c4fa0",
   "metadata": {},
   "source": [
    "*Reminder:* A **scalar** is just a single number. Whereas an **array** is a collection of numbers."
   ]
  },
  {
   "cell_type": "code",
   "execution_count": null,
   "id": "ef2ee564",
   "metadata": {},
   "outputs": [],
   "source": [
    "x = 5        # integer scalar\n",
    "y = 3.14     # float scalar"
   ]
  },
  {
   "cell_type": "markdown",
   "id": "401f8dcd",
   "metadata": {},
   "source": [
    "***NumPy allows you to mix scalars and arrays using broadcasting.***"
   ]
  },
  {
   "cell_type": "markdown",
   "id": "1fcc6aa0-f24d-44a3-a1ae-4b579cab7be7",
   "metadata": {},
   "source": [
    "Heres an example:"
   ]
  },
  {
   "cell_type": "code",
   "execution_count": null,
   "id": "f715b373",
   "metadata": {},
   "outputs": [],
   "source": [
    "a = np.array([[1, 2, 3],\n",
    "              [4, 5, 6]])\n",
    "\n",
    "b = 10\n",
    "\n",
    "print(a + b) # Scalar b is broadcast across every element of a"
   ]
  },
  {
   "cell_type": "markdown",
   "id": "6806c98d-5882-4a80-a0f1-91e8b43a6c3f",
   "metadata": {},
   "source": [
    "**Lets break this down:**\n",
    " - `a` has shape (2,3) &rarr; 2 rows, 3 columns.\n",
    " - `b` is just a scalar &rarr; shape()."
   ]
  },
  {
   "cell_type": "markdown",
   "id": "417df5b6-7558-4e74-b6c3-6110f12470df",
   "metadata": {},
   "source": [
    "Normally, if you tried to **add a list and a number in plain Python**, it would give you an **error**. *This is where NumPy comes into play :)*"
   ]
  },
  {
   "cell_type": "markdown",
   "id": "98158e30-8f00-4af3-8c69-c0ba38147b70",
   "metadata": {},
   "source": [
    "Broadcasting works by **expanding smaller arrays** so their shapes match.\n",
    "- A scalar has no dimensions, so NumPy \"stretches it into the same shape as `a`"
   ]
  },
  {
   "cell_type": "markdown",
   "id": "14a47112-a1e0-4f4a-bbcb-178708aeb9e6",
   "metadata": {},
   "source": [
    "Essentially, it turns"
   ]
  },
  {
   "cell_type": "code",
   "execution_count": null,
   "id": "c010160c-8af7-4e6b-bed6-83cb8882880e",
   "metadata": {},
   "outputs": [],
   "source": [
    "b = 10"
   ]
  },
  {
   "cell_type": "markdown",
   "id": "75056df6-3f30-4390-9702-a46b2d781aa4",
   "metadata": {},
   "source": [
    "Into:"
   ]
  },
  {
   "cell_type": "raw",
   "id": "61d104ae-74f1-483b-85bd-1969b2a540d8",
   "metadata": {},
   "source": [
    "[[10, 10, 10],\n",
    " [10, 10, 10]]"
   ]
  },
  {
   "cell_type": "markdown",
   "id": "695ef546-179c-4b43-92d6-0fdce38b7d2a",
   "metadata": {},
   "source": [
    "Then performs element-wise addition:"
   ]
  },
  {
   "cell_type": "raw",
   "id": "26e5461a-be92-4051-83c0-ee8d40327034",
   "metadata": {},
   "source": [
    "[[1+10, 2+10, 3+10],\n",
    " [4+10, 5+10, 6+10]]\n"
   ]
  },
  {
   "cell_type": "markdown",
   "id": "d3bf2d45-7ac1-4e57-8e61-082be2dab6e8",
   "metadata": {},
   "source": [
    "Now Numpy has added each element of `a` with the corresponding `10`, the result becomes:"
   ]
  },
  {
   "cell_type": "raw",
   "id": "a56f0fc1-cbcc-429e-834c-639727decc0e",
   "metadata": {},
   "source": [
    "[[11, 12, 13],\n",
    " [14, 15, 16]]\n"
   ]
  },
  {
   "cell_type": "markdown",
   "id": "8c5b351e-c75b-454a-b3fd-18ad48ce3e78",
   "metadata": {},
   "source": [
    "##### **Key takeaway:** \n",
    "When you add a scalar to an array, the scalar is broadcast across every element of the array. ***This saves you from writing loops or manually copying values.***"
   ]
  },
  {
   "cell_type": "markdown",
   "id": "3243df9f-a11c-4cec-8ea8-f527f962c9b3",
   "metadata": {},
   "source": []
  },
  {
   "cell_type": "markdown",
   "id": "66f01659-82cf-44d1-bcf9-4e06df33ecea",
   "metadata": {},
   "source": [
    "# Part 5: Reshaping vs Copying"
   ]
  },
  {
   "cell_type": "markdown",
   "id": "9a7c3777-b97b-4635-899f-538453218e58",
   "metadata": {},
   "source": [
    "#### When do operations return a **view** (no new data, shares memory) vs a **copy** (independent data)?  \n",
    "If you understand views, shapes, and strides, you can avoid silent bugs and write faster code.\n",
    "\n",
    "#### **Key terms**\n",
    "- **View:** a new *array object* looking at the *same* memory. Changing the view changes the original.\n",
    "- **Copy:** a new array *and* new memory. Changes do not affect the original.\n",
    "- **Contiguous:** data stored without gaps. Most fresh arrays are **C-contiguous** (row-major). Fortran-contiguous is column-major."
   ]
  },
  {
   "cell_type": "markdown",
   "id": "25474ee9-4a92-485f-8b8d-25ed34a8070f",
   "metadata": {},
   "source": [
    "#### 1) `reshape` tries to make a **view** (no copy) when possible\n",
    "\n",
    "##### If the data buffer layout allows it, `reshape` returns a view. We can check with:\n",
    "##### - `arr.base is other` (same base object?)\n",
    "##### - `np.shares_memory(arr, other)`\n"
   ]
  },
  {
   "cell_type": "code",
   "execution_count": null,
   "id": "152f9c41-ea3e-41fa-91da-4ec23e6ff5f4",
   "metadata": {},
   "outputs": [],
   "source": [
    "import numpy as np\n",
    "\n",
    "x = np.arange(9)     # [0 1 2 3 4 5 6 7 8]\n",
    "Y = x.reshape(3, 3)  # view if possible\n",
    "\n",
    "print(\"Shares memory?\", np.shares_memory(x, Y))\n",
    "x[0] = 999\n",
    "print(\"x:\", x)\n",
    "print(\"Y:\\n\", Y)     # Y changed too -> it's a view\n"
   ]
  },
  {
   "cell_type": "markdown",
   "id": "87f366f3-ff5b-4ac7-9c0d-47071990850d",
   "metadata": {},
   "source": [
    "#### 2) Use `.copy()` to **break** the link\n",
    "\n",
    "##### If you want an independent array (safe to mutate), copy it.\n"
   ]
  },
  {
   "cell_type": "code",
   "execution_count": null,
   "id": "3b558751-cded-4ebb-972b-3e2715804ad3",
   "metadata": {},
   "outputs": [],
   "source": [
    "Z = Y.copy()\n",
    "Y[0, 1] = -123\n",
    "print(\"Y changed:\\n\", Y)\n",
    "print(\"Z independent:\\n\", Z)  # unchanged\n",
    "print(\"Shares memory?\", np.shares_memory(Y, Z))\n"
   ]
  }
 ],
 "metadata": {
  "kernelspec": {
   "display_name": "Python 3 (ipykernel)",
   "language": "python",
   "name": "python3"
  },
  "language_info": {
   "codemirror_mode": {
    "name": "ipython",
    "version": 3
   },
   "file_extension": ".py",
   "mimetype": "text/x-python",
   "name": "python",
   "nbconvert_exporter": "python",
   "pygments_lexer": "ipython3",
   "version": "3.13.5"
  }
 },
 "nbformat": 4,
 "nbformat_minor": 5
}
