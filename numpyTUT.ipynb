{
 "cells": [
  {
   "cell_type": "markdown",
   "id": "a59240ce-a69b-423b-bc27-1843f87bbae3",
   "metadata": {},
   "source": [
    "# NumPy Tutorial\n",
    "### Author: Ally Chen\n",
    "\n"
   ]
  },
  {
   "cell_type": "markdown",
   "id": "84ef63ba-8601-46c0-a29b-2e6e52082992",
   "metadata": {},
   "source": [
    "## Description\n",
    "### What is NumPy?\n",
    "##### NumPy is Python's standard library for working with arrays. It supports working with arrays of N-dimensions, which is a principle of NumPy. Instead of looping in Python, NumPy lets you perform fast math on whole arrays at once, known as vectorized operations. Most data libraries (pandas, SciPy, scikit-learn, PyTorch) rely on NumPy under the hood."
   ]
  },
  {
   "cell_type": "markdown",
   "id": "b456566a-c36c-4117-9f54-e9f76764ce49",
   "metadata": {},
   "source": [
    "## NumPy Installation\n",
    "#### 1. Open a new terminal\n",
    "#### 2. Ensure Python is installed:\n",
    "#####  - Check using 'python --version' in terminal\n",
    "### 3. In terminal run:\n",
    "#### - macOS/Linux\n",
    "##### python3 -m venv .venv\n",
    "##### source .venv/bin/activate\n",
    "##### python -m pip install --upgrade pip\n",
    "##### pip install numpy\n",
    "#### - Windows (PowerShell)\n",
    "##### python -m venv .venv\n",
    "##### .venv\\Scripts\\Activate\n",
    "##### python -m pip install --upgrade pip\n",
    "##### pip install numpy"
   ]
  },
  {
   "cell_type": "markdown",
   "id": "8a9e32eb-6659-4ff5-95b7-67e0a4ce4996",
   "metadata": {},
   "source": [
    "## Verify Installation\n",
    "#### Copy and paste the following code into your preferred code editor, and run it in the terminal to test if it is installed correctly."
   ]
  },
  {
   "cell_type": "code",
   "execution_count": 21,
   "id": "46a632a3-3b60-4b56-b15e-bb5be187272d",
   "metadata": {},
   "outputs": [
    {
     "name": "stdout",
     "output_type": "stream",
     "text": [
      "NumPy: 2.3.2\n",
      "25\n"
     ]
    }
   ],
   "source": [
    "# Import Numpy library\n",
    "import numpy as np\n",
    "\n",
    "# Print NumPy version number\n",
    "print(\"NumPy:\", np.__version__)\n",
    "\n",
    "# Expected output: 25\n",
    "print (np.array([3,4]).dot([3,4]))"
   ]
  }
 ],
 "metadata": {
  "kernelspec": {
   "display_name": "Python 3 (ipykernel)",
   "language": "python",
   "name": "python3"
  },
  "language_info": {
   "codemirror_mode": {
    "name": "ipython",
    "version": 3
   },
   "file_extension": ".py",
   "mimetype": "text/x-python",
   "name": "python",
   "nbconvert_exporter": "python",
   "pygments_lexer": "ipython3",
   "version": "3.13.5"
  }
 },
 "nbformat": 4,
 "nbformat_minor": 5
}
