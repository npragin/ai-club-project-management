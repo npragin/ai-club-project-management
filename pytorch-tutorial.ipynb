{
 "cells": [
  {
   "cell_type": "markdown",
   "id": "67ce0a73",
   "metadata": {},
   "source": [
    "# PyTorch Tutorial\n",
    "\n",
    "Author: Kellen Sullivan\n",
    "\n",
    "This is an introductory tutorial for the deep learning library PyTorch. PyTorch gives professional developers the tools to create and train their own custom neural networks, and is the most commonly used deep learning framework in research and academia.\n",
    "\n",
    "In this tutorial, you will be taught the fundamentals of PyTorch, through building your own neural network to classify hand-written digits. For this task, you will use the MNIST dataset, which is a collection of thousands of hand written digits with corresponding lables. Below is a sample of 4 hand-written digits from the dataset and their corresponding labels.\n",
    "\n",
    "\n",
    "![MNISTDataSetExample](https://media.geeksforgeeks.org/wp-content/uploads/20240430155943/download-(39).png)\n",
    "\n",
    "\n",
    "\n",
    "While you work through this tutorial and its exercises, its highly encouraged to check out the provided lecture videos created by math youtuber 3Blue1Brown. He explains the math behind the deep learning concepts this tutorial will breifly introduce, and his tutorials reference the exact same neural network that you will be building! His lessons are available to watch or read for free with the following link: [3Blue1Brown Neural Networks Lectures](https://www.3blue1brown.com/topics/neural-networks)\n",
    "\n",
    "\n",
    "\n"
   ]
  },
  {
   "cell_type": "markdown",
   "id": "97513d30",
   "metadata": {},
   "source": [
    "## Getting Started\n",
    "\n",
    "To get started using PyTorch, you first have to install it! To do so, open a new terminal and run the following command:\n",
    "\n",
    "- If you are on Windows/Mac: `pip3 install torch torchvision`\n",
    "- If you are on Linux: `pip3 install torch torchvision --index-url https://download.pytorch.org/whl/cpu`\n",
    "\n",
    "Note that these commands will use your CPU as the compute platform. If you have an NVIDIA GPU, you can install PyTorch with CUDA as the compute platform to greatly speed up training. Check out the official installation guide to learn more: https://pytorch.org/get-started/locally/"
   ]
  },
  {
   "cell_type": "markdown",
   "id": "90390ff6",
   "metadata": {},
   "source": [
    "You can confirm PyTorch was successfully installed by importing the package and printing out its version."
   ]
  },
  {
   "cell_type": "code",
   "execution_count": 2,
   "id": "20f9b198",
   "metadata": {},
   "outputs": [
    {
     "name": "stdout",
     "output_type": "stream",
     "text": [
      "2.8.0+cpu\n"
     ]
    }
   ],
   "source": [
    "import torch\n",
    "\n",
    "print(torch.__version__)"
   ]
  },
  {
   "cell_type": "markdown",
   "id": "27fdef34",
   "metadata": {},
   "source": [
    "## Tensors\n",
    "\n",
    "A tensor is an array or matrix like datastructure, similar to a NumPy array, but with extra capabalities that make it ideal for deep learning. Tensors may only contain numerical values, and are homogeneous meaning all elements in a tensor must be the same datatype."
   ]
  },
  {
   "cell_type": "markdown",
   "id": "85ba4f3d",
   "metadata": {},
   "source": [
    "### Initializing a Tensor\n",
    "\n",
    "Pytorch provides many ways to intialize a new tensor. TODO: ADD MORE HERE"
   ]
  },
  {
   "cell_type": "code",
   "execution_count": 14,
   "id": "4eaf1f60",
   "metadata": {},
   "outputs": [
    {
     "name": "stdout",
     "output_type": "stream",
     "text": [
      "Tensor from python list:\n",
      "tensor([1, 2, 3])\n",
      "\n",
      "Tensor from numpy array:\n",
      "tensor([[1, 2],\n",
      "        [3, 4]], dtype=torch.int32)\n",
      "\n"
     ]
    }
   ],
   "source": [
    "import numpy as np\n",
    "\n",
    "\n",
    "# from a python list\n",
    "t1 = torch.tensor([1,2,3])\n",
    "\n",
    "# from a numpy array\n",
    "np_arr = np.array([[1,2], [3,4]])\n",
    "t2 = torch.from_numpy(np_arr)\n",
    "\n",
    "print(f\"Tensor from python list:\\n{t1}\\n\")\n",
    "print(f\"Tensor from numpy array:\\n{t2}\\n\")"
   ]
  },
  {
   "cell_type": "markdown",
   "id": "f056b7d8",
   "metadata": {},
   "source": [
    "You can also initialize a tensor using an existing tensor. The new tensor will have the same shape and datatype as the existing tensor."
   ]
  },
  {
   "cell_type": "code",
   "execution_count": null,
   "id": "ac274fba",
   "metadata": {},
   "outputs": [
    {
     "name": "stdout",
     "output_type": "stream",
     "text": [
      "Tensor from t2 with all ones:\n",
      "tensor([[1, 1],\n",
      "        [1, 1]], dtype=torch.int32)\n",
      "\n",
      "Tensor from t2 with all zeros:\n",
      "tensor([[0, 0],\n",
      "        [0, 0]], dtype=torch.int32)\n",
      "\n"
     ]
    }
   ],
   "source": [
    "# from an existing tensor\n",
    "t3 = torch.ones_like(t2)\n",
    "t4 = torch.zeros_like(t2)\n",
    "t5 = torch.rand_like(t2, dtype=\"float\")\n",
    "\n",
    "print(f\"Tensor from t2 with all ones:\\n{t3}\\n\")\n",
    "print(f\"Tensor from t2 with all zeros:\\n{t4}\\n\")\n",
    "print(f\"Tensor from t2 with random values:\\n{t5}\")"
   ]
  },
  {
   "cell_type": "code",
   "execution_count": null,
   "id": "11dba7e1",
   "metadata": {},
   "outputs": [],
   "source": []
  },
  {
   "cell_type": "markdown",
   "id": "e5d259b6",
   "metadata": {},
   "source": [
    "### Attributes\n",
    "\n",
    "Tensors have built in attributes that ... FILL OUT HERE. There are over 1000 attributes for Tensors that you can read about here: https://docs.pytorch.org/docs/stable/torch.html"
   ]
  },
  {
   "cell_type": "code",
   "execution_count": null,
   "id": "b67dc55b",
   "metadata": {},
   "outputs": [],
   "source": []
  },
  {
   "cell_type": "markdown",
   "id": "37d67578",
   "metadata": {},
   "source": [
    "### Operations\n",
    "\n"
   ]
  },
  {
   "cell_type": "code",
   "execution_count": null,
   "id": "44649702",
   "metadata": {},
   "outputs": [],
   "source": []
  },
  {
   "cell_type": "markdown",
   "id": "cedfd2f7",
   "metadata": {},
   "source": [
    "## Handling Data\n",
    "\n",
    "The first step in creating a neural network is loading the data. Thankfully, PyTorch provides many tools to make loading and iterating through data simple!"
   ]
  },
  {
   "cell_type": "markdown",
   "id": "199228f0",
   "metadata": {},
   "source": [
    "### Datasets\n",
    "\n",
    "Torchvision is library often used alongside PyTorch to support computer vision tasks. It also contains built-in datasets that can be easily loaded in and used to train neural networks in PyTorch, including the MNIST dataset that we will be training a model on!\n",
    "\n",
    "To load in the MSNIST dataset, we must first import the datasets submodule from torchvision. We also import ToTensor from the transforms submodule which will be used to transform the handwritten digit images into PyTorch Tensors."
   ]
  },
  {
   "cell_type": "code",
   "execution_count": 3,
   "id": "3397ea6b",
   "metadata": {},
   "outputs": [],
   "source": [
    "from torchvision import datasets\n",
    "from torchvision.transforms import ToTensor"
   ]
  },
  {
   "cell_type": "markdown",
   "id": "74d89283",
   "metadata": {},
   "source": [
    "Now, we can use the following code to load in MNIST dataset.\n",
    "\n",
    "q: why do we have to load training and testing data?\n",
    "- when creating neural networks we want to train out network with part of the data, but then test it on never before seen data, to ensure it is indeed learning the desired behavior and not just memorizing the data.\n",
    "q: what is the difference between each dataset?\n",
    "- training dataset has 60k training images\n",
    "- testing dataset has 10k testing images\n",
    "q: what is the meaning behind each argument?\n",
    "- `root` is the path where the train/test data is stored\n",
    "- `train` specifies training or test dataset\n",
    "- `download` if true, dowloads the data from the internet if it's not available at `root`.\n",
    "- `transform` specify the feature and label transformations"
   ]
  },
  {
   "cell_type": "code",
   "execution_count": 4,
   "id": "b9a9a2cb",
   "metadata": {},
   "outputs": [
    {
     "name": "stderr",
     "output_type": "stream",
     "text": [
      "100%|██████████| 9.91M/9.91M [00:11<00:00, 871kB/s] \n",
      "100%|██████████| 28.9k/28.9k [00:00<00:00, 294kB/s]\n",
      "100%|██████████| 1.65M/1.65M [00:02<00:00, 594kB/s]\n",
      "100%|██████████| 4.54k/4.54k [00:00<?, ?B/s]\n"
     ]
    }
   ],
   "source": [
    "training_data = datasets.MNIST(\n",
    "    root=\"data\",\n",
    "    train=True,\n",
    "    download=True,\n",
    "    transform=ToTensor()\n",
    ")\n",
    "\n",
    "test_data = datasets.MNIST(\n",
    "    root=\"data\",\n",
    "    train=False,\n",
    "    download=True,\n",
    "    transform=ToTensor()\n",
    ")"
   ]
  },
  {
   "cell_type": "markdown",
   "id": "0fdc5171",
   "metadata": {},
   "source": [
    "## Constructing a Neural Network"
   ]
  },
  {
   "cell_type": "markdown",
   "id": "66116c28",
   "metadata": {},
   "source": [
    "### Modules"
   ]
  },
  {
   "cell_type": "markdown",
   "id": "a14ac883",
   "metadata": {},
   "source": [
    "### Activation Functions"
   ]
  },
  {
   "cell_type": "markdown",
   "id": "fd07ac35",
   "metadata": {},
   "source": [
    "### Init and Forward Function"
   ]
  },
  {
   "cell_type": "markdown",
   "id": "79633c0e",
   "metadata": {},
   "source": [
    "## Loss Functions"
   ]
  },
  {
   "cell_type": "markdown",
   "metadata": {},
   "source": [
    "## Optimizers"
   ]
  },
  {
   "cell_type": "markdown",
   "metadata": {},
   "source": [
    "## Training and Using a Neural Network"
   ]
  },
  {
   "cell_type": "markdown",
   "metadata": {},
   "source": [
    "## Save and Export a Model"
   ]
  },
  {
   "cell_type": "markdown",
   "id": "016ef1d4",
   "metadata": {},
   "source": [
    "## Conclusion and Further Readings"
   ]
  }
 ],
 "metadata": {
  "kernelspec": {
   "display_name": "Python 3",
   "language": "python",
   "name": "python3"
  },
  "language_info": {
   "codemirror_mode": {
    "name": "ipython",
    "version": 3
   },
   "file_extension": ".py",
   "mimetype": "text/x-python",
   "name": "python",
   "nbconvert_exporter": "python",
   "pygments_lexer": "ipython3",
   "version": "3.12.2"
  }
 },
 "nbformat": 4,
 "nbformat_minor": 5
}
