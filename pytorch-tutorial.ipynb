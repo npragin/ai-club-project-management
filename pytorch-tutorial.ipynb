{
 "cells": [
  {
   "cell_type": "markdown",
   "id": "67ce0a73",
   "metadata": {},
   "source": [
    "# PyTorch Tutorial\n",
    "\n",
    "Author: Kellen Sullivan"
   ]
  },
  {
   "cell_type": "code",
   "execution_count": null,
   "id": "a88f6d13",
   "metadata": {
    "vscode": {
     "languageId": "plaintext"
    }
   },
   "outputs": [],
   "source": [
    "import torch"
   ]
  }
 ],
 "metadata": {
  "language_info": {
   "name": "python"
  }
 },
 "nbformat": 4,
 "nbformat_minor": 5
}
