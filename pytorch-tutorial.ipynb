{
 "cells": [
  {
   "cell_type": "markdown",
   "id": "67ce0a73",
   "metadata": {},
   "source": [
    "# PyTorch Tutorial\n",
    "\n",
    "Author: Kellen Sullivan\n",
    "\n",
    "This is an introductory tutorial for the deep learning library PyTorch. PyTorch gives professional developers the tools to create and train their own custom neural networks, and is the most commonly used deep learning framework in research and academia.\n",
    "\n",
    "In this tutorial, you will be taught the fundamentals of PyTorch, through building your own neural network to classify hand-written digits. For this task, you will use the MNIST dataset, which is a collection of thousands of hand written digits with corresponding lables. Below is a sample of 4 hand-written digits from the dataset and their corresponding labels.\n",
    "\n",
    "\n",
    "![MNISTDataSetExample](https://media.geeksforgeeks.org/wp-content/uploads/20240430155943/download-(39).png)\n",
    "\n",
    "\n",
    "\n",
    "While you work through this tutorial and its exercises, its highly encouraged to check out the provided lecture videos created by math youtuber 3Blue1Brown. He explains the math behind the deep learning concepts this tutorial will breifly introduce, and his tutorials reference the exact same neural network that you will be building! His lessons are available to watch or read for free with the following link: [3Blue1Brown Neural Networks Lectures](https://www.3blue1brown.com/topics/neural-networks)\n",
    "\n",
    "\n",
    "\n"
   ]
  },
  {
   "cell_type": "markdown",
   "id": "97513d30",
   "metadata": {},
   "source": [
    "## Getting Started\n",
    "\n",
    "To get started using PyTorch, you first have to install it! To do so, open a new terminal and run the following command:\n",
    "\n",
    "- If you are on Windows/Mac: `pip3 install torch torchvision`\n",
    "- If you are on Linux: `pip3 install torch torchvision --index-url https://download.pytorch.org/whl/cpu`\n",
    "\n",
    "Note that these commands will use your CPU as the compute platform. If you have an NVIDIA GPU, you can install PyTorch with CUDA as the compute platform to greatly speed up training. Check out the official installation guide to learn more: https://pytorch.org/get-started/locally/"
   ]
  },
  {
   "cell_type": "markdown",
   "id": "90390ff6",
   "metadata": {},
   "source": [
    "You can confirm PyTorch was successfully installed by importing the package and printing out its version."
   ]
  },
  {
   "cell_type": "code",
   "execution_count": 1,
   "id": "20f9b198",
   "metadata": {},
   "outputs": [
    {
     "name": "stdout",
     "output_type": "stream",
     "text": [
      "2.8.0+cpu\n"
     ]
    }
   ],
   "source": [
    "import torch\n",
    "\n",
    "print(torch.__version__)"
   ]
  },
  {
   "cell_type": "markdown",
   "id": "27fdef34",
   "metadata": {},
   "source": [
    "## Tensors\n",
    "\n",
    "A tensor is an array or matrix like datastructure, similar to a NumPy array, but with extra capabalities that make it ideal for deep learning. Tensors may only contain numerical values, and are homogeneous meaning all elements in a tensor must be the same datatype."
   ]
  },
  {
   "cell_type": "markdown",
   "id": "85ba4f3d",
   "metadata": {},
   "source": [
    "### Initializing a Tensor\n",
    "\n",
    "Pytorch provides many ways to intialize a new tensor. ADD HERE"
   ]
  },
  {
   "cell_type": "code",
   "execution_count": 14,
   "id": "4eaf1f60",
   "metadata": {},
   "outputs": [
    {
     "name": "stdout",
     "output_type": "stream",
     "text": [
      "Tensor from python list:\n",
      "tensor([1, 2, 3])\n",
      "\n",
      "Tensor from numpy array:\n",
      "tensor([[1, 2],\n",
      "        [3, 4]], dtype=torch.int32)\n",
      "\n"
     ]
    }
   ],
   "source": [
    "import numpy as np\n",
    "\n",
    "\n",
    "# from a python list\n",
    "t1 = torch.tensor([1,2,3])\n",
    "\n",
    "# from a numpy array\n",
    "np_arr = np.array([[1,2], [3,4]])\n",
    "t2 = torch.from_numpy(np_arr)\n",
    "\n",
    "print(f\"Tensor from python list:\\n{t1}\\n\")\n",
    "print(f\"Tensor from numpy array:\\n{t2}\\n\")"
   ]
  },
  {
   "cell_type": "markdown",
   "id": "f056b7d8",
   "metadata": {},
   "source": [
    "You can also initialize a tensor using an existing tensor. The new tensor will have the same shape and datatype as the existing tensor, unless explicitly overwritten."
   ]
  },
  {
   "cell_type": "code",
   "execution_count": null,
   "id": "ac274fba",
   "metadata": {},
   "outputs": [
    {
     "name": "stdout",
     "output_type": "stream",
     "text": [
      "Tensor from t2 with all ones:\n",
      "tensor([[1, 1],\n",
      "        [1, 1]], dtype=torch.int32)\n",
      "\n",
      "Tensor from t2 with all zeros:\n",
      "tensor([[0, 0],\n",
      "        [0, 0]], dtype=torch.int32)\n",
      "\n",
      "Tensor from t2 with random values:\n",
      "tensor([[0.0267, 0.3853],\n",
      "        [0.8086, 0.7023]], dtype=torch.float64)\n"
     ]
    }
   ],
   "source": [
    "# from an existing tensor\n",
    "t3 = torch.ones_like(t2)\n",
    "t4 = torch.zeros_like(t2)\n",
    "t5 = torch.rand_like(t2, dtype=torch.float)\n",
    "\n",
    "print(f\"Tensor from t2 with all ones:\\n{t3}\\n\")\n",
    "print(f\"Tensor from t2 with all zeros:\\n{t4}\\n\")\n",
    "print(f\"Tensor from t2 with random values:\\n{t5}\")"
   ]
  },
  {
   "cell_type": "markdown",
   "id": "e52e5d93",
   "metadata": {},
   "source": [
    "Another common way to initialize a tensor is by providing the shape of the tensor."
   ]
  },
  {
   "cell_type": "code",
   "execution_count": 17,
   "id": "11dba7e1",
   "metadata": {},
   "outputs": [
    {
     "name": "stdout",
     "output_type": "stream",
     "text": [
      "Tensor of all ones with dimensions 2x2:\n",
      "tensor([[1., 1.],\n",
      "        [1., 1.]])\n",
      "\n",
      "Tensor of all zeros with dimensions 2x3:\n",
      "tensor([[0., 0., 0.],\n",
      "        [0., 0., 0.]])\n"
     ]
    }
   ],
   "source": [
    "t6 = torch.ones(2,2)\n",
    "t7 = torch.zeros(2,3)\n",
    "\n",
    "print(f\"Tensor of all ones with dimensions 2x2:\\n{t6}\\n\")\n",
    "print(f\"Tensor of all zeros with dimensions 2x3:\\n{t7}\")"
   ]
  },
  {
   "cell_type": "markdown",
   "id": "ae2776e6",
   "metadata": {},
   "source": [
    "Although there are many more ways to initialize a tensor, in order to keep this tutorial brief we won't introduce any more here. If you are curious, you can read the following Tensor guide: [Tensor Creation](https://docs.pytorch.org/docs/stable/torch.html#creation-ops)"
   ]
  },
  {
   "cell_type": "markdown",
   "id": "ec24e7c4",
   "metadata": {},
   "source": [
    "### Attributes\n",
    "\n",
    "Tensors have built in attributes that quickly provide machine learning engineers useful information about the tensors they constructed. Tensor attributes can be accessed with the notation `tensor.attribute`. There are over 1000 tensor attributes that you can read about [here](https://docs.pytorch.org/docs/stable/torch.html), but in this tutorial we will cover the following:\n",
    "- `dtype`\n",
    "- `shape`\n",
    "- `device`"
   ]
  },
  {
   "cell_type": "markdown",
   "id": "041a777f",
   "metadata": {},
   "source": [
    "`dtype` returns the torch datatype of a tensor"
   ]
  },
  {
   "cell_type": "code",
   "execution_count": 27,
   "id": "b67dc55b",
   "metadata": {},
   "outputs": [
    {
     "name": "stdout",
     "output_type": "stream",
     "text": [
      "tensor([[[1., 1., 1.],\n",
      "         [1., 1., 1.],\n",
      "         [1., 1., 1.],\n",
      "         [1., 1., 1.]],\n",
      "\n",
      "        [[1., 1., 1.],\n",
      "         [1., 1., 1.],\n",
      "         [1., 1., 1.],\n",
      "         [1., 1., 1.]]])\n",
      "\n",
      "Datatype: torch.float32\n"
     ]
    }
   ],
   "source": [
    "t = torch.ones(2,4,3)\n",
    "print(t)\n",
    "print(f\"\\nDatatype: {t.dtype}\")"
   ]
  },
  {
   "cell_type": "markdown",
   "id": "24bbfbc0",
   "metadata": {},
   "source": [
    "`shape` returns the dimensions of the tensor"
   ]
  },
  {
   "cell_type": "code",
   "execution_count": 28,
   "id": "a52c04fe",
   "metadata": {},
   "outputs": [
    {
     "name": "stdout",
     "output_type": "stream",
     "text": [
      "torch.Size([2, 4, 3])\n"
     ]
    }
   ],
   "source": [
    "print(t.shape)"
   ]
  },
  {
   "cell_type": "markdown",
   "id": "d30d5896",
   "metadata": {},
   "source": [
    "`device` returns the location a tensor is stored.\n",
    "\n",
    "By default, tensors are stored on the CPU. However, PyTorch provides the ability to store tensors on an accelerator, such as a GPU, to greatly improve performance. Accelerators are designed to optimize operations performed on tensors and can be 10-100x faster than when performed on the CPU."
   ]
  },
  {
   "cell_type": "code",
   "execution_count": 32,
   "id": "65e38cd2",
   "metadata": {},
   "outputs": [
    {
     "name": "stdout",
     "output_type": "stream",
     "text": [
      "cpu\n"
     ]
    }
   ],
   "source": [
    "print(t.device)"
   ]
  },
  {
   "cell_type": "markdown",
   "id": "25218f68",
   "metadata": {},
   "source": [
    "\n",
    "To check if you have an accelerator available, you can use the function `torch.accelerator.is_available()` which returns True or False. If an accelerator is availble, you can determine the devices name using `torch.accelerator.current_accelerator()`, and then move the tensor onto the accelerator using the function `to(accelerator_device_name)`.\n",
    "\n",
    "In this tutorial we will not assume you have an accelerator available to use, but the below commented out code shows how to use a tensor on an accelerator if the option is available."
   ]
  },
  {
   "cell_type": "code",
   "execution_count": null,
   "id": "ae4feb7b",
   "metadata": {},
   "outputs": [
    {
     "name": "stdout",
     "output_type": "stream",
     "text": [
      "False\n",
      "None\n"
     ]
    }
   ],
   "source": [
    "print(f\"Accelerator is available: {torch.accelerator.is_available()}\")\n",
    "\n",
    "print(f\"Device of available accelerator: {torch.accelerator.current_accelerator()}\")\n",
    "\n",
    "# Move an existing tensor onto an accelerator\n",
    "# t = t.to(torch.accelerator.current_accelerator())\n",
    "\n",
    "# Initialize a new tensor onto an accelerator using the optional device argument\n",
    "# t1 = torch.tensor([1,2,3], device='cuda')"
   ]
  },
  {
   "cell_type": "markdown",
   "id": "37d67578",
   "metadata": {},
   "source": [
    "### Operations\n",
    "\n",
    "- indexing and slicing (say numpy like and don't go too in-depth)\n",
    "- multiplying math (brief mention)\n",
    "- item\n",
    "- highlight softmax and argmax\n"
   ]
  },
  {
   "cell_type": "code",
   "execution_count": null,
   "id": "44649702",
   "metadata": {},
   "outputs": [],
   "source": []
  },
  {
   "cell_type": "markdown",
   "id": "cedfd2f7",
   "metadata": {},
   "source": [
    "## Handling Data\n",
    "\n",
    "The first step in creating a neural network is loading the data. Thankfully, PyTorch provides many tools to make loading and iterating through data simple!"
   ]
  },
  {
   "cell_type": "markdown",
   "id": "199228f0",
   "metadata": {},
   "source": [
    "### Datasets\n",
    "\n",
    "Torchvision is library often used alongside PyTorch to support computer vision tasks. It also contains built-in datasets that can be easily loaded in and used to train neural networks in PyTorch, including the MNIST dataset that we will be training a model on!\n",
    "\n",
    "To load in the MSNIST dataset, we must first import the datasets submodule from torchvision. We also import ToTensor from the transforms submodule which will be used to transform the handwritten digit images into PyTorch Tensors."
   ]
  },
  {
   "cell_type": "code",
   "execution_count": 3,
   "id": "3397ea6b",
   "metadata": {},
   "outputs": [],
   "source": [
    "from torchvision import datasets\n",
    "from torchvision.transforms import ToTensor"
   ]
  },
  {
   "cell_type": "markdown",
   "id": "74d89283",
   "metadata": {},
   "source": [
    "Now, we can use the following code to load in MNIST dataset. PROBABLY WANT TO REORDER SOME OF THE MARKDOWN / MOVE SOME OF IT INTO COMMENTS"
   ]
  },
  {
   "cell_type": "code",
   "execution_count": 4,
   "id": "b9a9a2cb",
   "metadata": {},
   "outputs": [
    {
     "name": "stderr",
     "output_type": "stream",
     "text": [
      "100%|██████████| 9.91M/9.91M [01:11<00:00, 139kB/s] \n",
      "100%|██████████| 28.9k/28.9k [00:00<00:00, 1.19MB/s]\n",
      "100%|██████████| 1.65M/1.65M [00:03<00:00, 491kB/s]\n",
      "100%|██████████| 4.54k/4.54k [00:00<?, ?B/s]\n"
     ]
    }
   ],
   "source": [
    "training_data = datasets.MNIST(\n",
    "    root=\"data\",\n",
    "    train=True,\n",
    "    download=True,\n",
    "    transform=ToTensor()\n",
    ")\n",
    "\n",
    "test_data = datasets.MNIST(\n",
    "    root=\"data\",\n",
    "    train=False,\n",
    "    download=True,\n",
    "    transform=ToTensor()\n",
    ")"
   ]
  },
  {
   "cell_type": "markdown",
   "id": "ce2bf47b",
   "metadata": {},
   "source": [
    "We load training data and testing data separately, that way we can train the model using the training data and then test it on never before seen data, to ensure the model is indeed learning how to classify digits and not just memorizing the training dataset. \n",
    "\n",
    "`training_data` is a set of 60,000 handwritten digit images with their corresponding labels (0-9)\n",
    "\n",
    "`test_data` is a set of 10,000 handwritten digit images with their corresponding labels (0-9) DOUBLE CHECK THIS IS TRUE\n",
    "\n",
    "Don't worry too much about the parameters for loading in data now, but briefly:\n",
    "- `root` is the path where the train/test data is stored\n",
    "- `train` specifies training or test dataset\n",
    "- `download` if true, dowloads the data from the internet if it's not available at `root`.\n",
    "- `transform` specify the feature and label transformations\n",
    "\n",
    "We can look at the first image in the training data set using the following code: "
   ]
  },
  {
   "cell_type": "code",
   "execution_count": 15,
   "id": "64d5a7a3",
   "metadata": {},
   "outputs": [
    {
     "data": {
      "image/png": "[encoded data removed]",
      "text/plain": [
       "<Figure size 640x480 with 1 Axes>"
      ]
     },
     "metadata": {},
     "output_type": "display_data"
    }
   ],
   "source": [
    "import matplotlib.pyplot as plt\n",
    "\n",
    "img, label = training_data[0]\n",
    "plt.imshow(img.squeeze(), cmap=\"gray\") \n",
    "plt.title(f\"Label: {label}\")\n",
    "plt.axis(\"off\")\n",
    "plt.show()"
   ]
  },
  {
   "cell_type": "markdown",
   "id": "5d47a091",
   "metadata": {},
   "source": [
    "### DataLoader\n",
    "\n",
    "When training and testing the model, we will repeatedly need to iterate through our datasets. In order to optimize the process, we would like to handle batching, shuffling the data, and loading it in parrallel. Thankfully, PyTorch provides DataLoaders to make this process easy.\n",
    "\n",
    "The following code creates two DataLoaders, one for each dataset."
   ]
  },
  {
   "cell_type": "code",
   "execution_count": 5,
   "id": "03785c75",
   "metadata": {},
   "outputs": [],
   "source": [
    "train_loader = torch.utils.data.DataLoader(\n",
    "    training_data,\n",
    "    batch_size=4,\n",
    "    shuffle=True,\n",
    "    num_workers=2\n",
    ")\n",
    "\n",
    "test_loader = torch.utils.data.DataLoader(\n",
    "    test_data,\n",
    "    batch_size=4,\n",
    "    shuffle=False,\n",
    "    num_workers=2\n",
    ")"
   ]
  },
  {
   "cell_type": "markdown",
   "id": "5fe0353c",
   "metadata": {},
   "source": [
    "Again don't worry too much about the parameters, but briefly: \n",
    "- `batch_size` is how many samples are loaded in each iteration\n",
    "- `shuffle` is whether to randomly suffle the data\n",
    "- `num_workers` is how many subprocesses to use for data loading (parrallelization)"
   ]
  },
  {
   "cell_type": "markdown",
   "id": "3757f52f",
   "metadata": {},
   "source": [
    "After creating a DataLoader, you can get a batch of samples by calling `next(iter(dataloader_name))`. MAYBE REWRITE THIS"
   ]
  },
  {
   "cell_type": "code",
   "execution_count": 11,
   "id": "5826c903",
   "metadata": {},
   "outputs": [
    {
     "data": {
      "image/png": "[encoded data removed]",
      "text/plain": [
       "<Figure size 600x600 with 4 Axes>"
      ]
     },
     "metadata": {},
     "output_type": "display_data"
    }
   ],
   "source": [
    "# Get one batch of training samples\n",
    "train_features, train_labels = next(iter(train_loader))\n",
    "\n",
    "# Plot all 4 images\n",
    "fig, axes = plt.subplots(2, 2, figsize=(6, 6))\n",
    "for i, ax in enumerate(axes.flat):\n",
    "    img = train_features[i].squeeze() \n",
    "    label = train_labels[i].item()\n",
    "    ax.imshow(img, cmap=\"gray\")\n",
    "    ax.set_title(f\"Label: {label}\")\n",
    "    ax.axis(\"off\")\n",
    "\n",
    "plt.tight_layout()\n",
    "plt.show()"
   ]
  },
  {
   "cell_type": "markdown",
   "id": "0fdc5171",
   "metadata": {},
   "source": [
    "## Constructing a Neural Network"
   ]
  },
  {
   "cell_type": "markdown",
   "id": "66116c28",
   "metadata": {},
   "source": [
    "### Modules"
   ]
  },
  {
   "cell_type": "markdown",
   "id": "a14ac883",
   "metadata": {},
   "source": [
    "### Activation Functions"
   ]
  },
  {
   "cell_type": "markdown",
   "id": "fd07ac35",
   "metadata": {},
   "source": [
    "### Init and Forward Function"
   ]
  },
  {
   "cell_type": "markdown",
   "id": "79633c0e",
   "metadata": {},
   "source": [
    "## Loss Functions"
   ]
  },
  {
   "cell_type": "markdown",
   "metadata": {},
   "source": [
    "## Optimizers"
   ]
  },
  {
   "cell_type": "markdown",
   "metadata": {},
   "source": [
    "## Training and Using a Neural Network"
   ]
  },
  {
   "cell_type": "markdown",
   "metadata": {},
   "source": [
    "## Save and Export a Model"
   ]
  },
  {
   "cell_type": "markdown",
   "id": "016ef1d4",
   "metadata": {},
   "source": [
    "## Conclusion and Further Readings"
   ]
  }
 ],
 "metadata": {
  "kernelspec": {
   "display_name": "Python 3",
   "language": "python",
   "name": "python3"
  },
  "language_info": {
   "codemirror_mode": {
    "name": "ipython",
    "version": 3
   },
   "file_extension": ".py",
   "mimetype": "text/x-python",
   "name": "python",
   "nbconvert_exporter": "python",
   "pygments_lexer": "ipython3",
   "version": "3.12.2"
  }
 },
 "nbformat": 4,
 "nbformat_minor": 5
}
